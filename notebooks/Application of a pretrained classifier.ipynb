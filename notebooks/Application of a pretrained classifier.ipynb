{
 "cells": [
  {
   "cell_type": "markdown",
   "id": "cb8a036d",
   "metadata": {},
   "source": [
    "### Application of a pretrained classifier\n",
    "\n",
    "The Cloud Classifier is usable "
   ]
  },
  {
   "cell_type": "markdown",
   "id": "ca9555d6",
   "metadata": {},
   "source": [
    "##### Imports\n",
    "\n",
    "In order to use the classifier (in its current form) we need to point python to the project folder. The path can be assigned as a relative path as shown below, or as an absolute system path.\n",
    "Than the module can be imported via the `import cloud_classifier` command."
   ]
  },
  {
   "cell_type": "code",
   "execution_count": 106,
   "id": "5e9ec9ce",
   "metadata": {},
   "outputs": [
    {
     "data": {
      "text/plain": [
       "<module 'cloud_classifier' from '/home/squidy/tropos/notebooks/../cloud_classifier/cloud_classifier.py'>"
      ]
     },
     "execution_count": 106,
     "metadata": {},
     "output_type": "execute_result"
    }
   ],
   "source": [
    "import sys\n",
    "sys.path.append('../cloud_classifier')\n",
    "import cloud_classifier\n",
    "\n",
    "import importlib\n",
    "importlib.reload(cloud_classifier)"
   ]
  },
  {
   "cell_type": "markdown",
   "id": "6c266abd",
   "metadata": {},
   "source": [
    "##### Initialization\n",
    "Our first step is to create an classifier object:"
   ]
  },
  {
   "cell_type": "code",
   "execution_count": 107,
   "id": "8da28e57",
   "metadata": {},
   "outputs": [],
   "source": [
    "cc = cloud_classifier.cloud_classifier()\n"
   ]
  },
  {
   "cell_type": "markdown",
   "id": "f3f5a0f2",
   "metadata": {},
   "source": [
    "Than we need to point our classifier object to an already existing classifier. The `load_project()` method will load an existing classifier into our classifier object."
   ]
  },
  {
   "cell_type": "code",
   "execution_count": 108,
   "id": "bcadf557",
   "metadata": {},
   "outputs": [],
   "source": [
    "path = \"../classifiers/TreeClassifier\"\n",
    "cc.load_project(path)\n"
   ]
  },
  {
   "cell_type": "markdown",
   "id": "39d4111d",
   "metadata": {},
   "source": [
    "##### Setting input data path\n",
    "In order to predict labels with the now loaded classifier, we need to specify input files of satelite data.\n",
    "The easiest way to do this is to put all input files into an ordner and just tell the classifier where to look:"
   ]
  },
  {
   "cell_type": "code",
   "execution_count": 109,
   "id": "99e64d1a",
   "metadata": {},
   "outputs": [],
   "source": [
    "cc.set_parameters(input_source_folder = \"../data/prediction_data\")"
   ]
  },
  {
   "cell_type": "markdown",
   "id": "c8a86877",
   "metadata": {},
   "source": [
    "Alternativly we can specify files manually as shown below."
   ]
  },
  {
   "cell_type": "code",
   "execution_count": 110,
   "id": "a8446364",
   "metadata": {},
   "outputs": [],
   "source": [
    "file_1 = \"../data/prediction_data/msevi-medi-20190317_1800.nc\"\n",
    "file_2 = \"../data/prediction_data/msevi-medi-20190318_1100.nc\"\n",
    "\n",
    "cc.set_project_parameters(input_files = [file_1, file_2])"
   ]
  },
  {
   "cell_type": "markdown",
   "id": "d9813013",
   "metadata": {},
   "source": [
    "##### Prediction"
   ]
  },
  {
   "cell_type": "markdown",
   "id": "14e0132b",
   "metadata": {},
   "source": [
    "In a next step we can let the classifier predict labels from the input files we have specified.\n",
    "This is done with the `run_prediction_pipeline()` method.\n",
    "\n",
    "If we want the classifier to look for files in a folder specified we need to set the `create_filelist` flag to `True`"
   ]
  },
  {
   "cell_type": "code",
   "execution_count": 111,
   "id": "39292990",
   "metadata": {},
   "outputs": [
    {
     "name": "stdout",
     "output_type": "stream",
     "text": [
      "Input filelist created!\n",
      "Classifier loaded!\n",
      "Masked indices set!\n",
      "Refernce file found\n",
      "Input vectors created!\n",
      "Predicted Labels!\n",
      "Labels saved as nwcsaf_msevi-medi-20190318_1100_predicted.nc\n",
      "Input vectors created!\n",
      "Predicted Labels!\n",
      "Labels saved as nwcsaf_msevi-medi-20190317_1800_predicted.nc\n"
     ]
    }
   ],
   "source": [
    "cc.run_prediction_pipeline(create_filelist = True)"
   ]
  },
  {
   "cell_type": "markdown",
   "id": "f721322e",
   "metadata": {},
   "source": [
    "If we have on the other hand specified training data manually its important to set the `create_filelist` flag to `False`, otherwise the classifier will try to generate a filelist from a folder and overwrite the information we have added"
   ]
  },
  {
   "cell_type": "code",
   "execution_count": 112,
   "id": "b56a0580",
   "metadata": {},
   "outputs": [
    {
     "name": "stdout",
     "output_type": "stream",
     "text": [
      "Classifier loaded!\n",
      "Masked indices set!\n",
      "Refernce file found\n",
      "Input vectors created!\n",
      "Predicted Labels!\n",
      "Labels saved as nwcsaf_msevi-medi-20190318_1100_predicted.nc\n",
      "Input vectors created!\n",
      "Predicted Labels!\n",
      "Labels saved as nwcsaf_msevi-medi-20190317_1800_predicted.nc\n"
     ]
    }
   ],
   "source": [
    "cc.run_prediction_pipeline(create_filelist = False)"
   ]
  },
  {
   "cell_type": "markdown",
   "id": "0889734c",
   "metadata": {},
   "source": [
    "#### Accessing predicted labels\n",
    "The predicted labels are stored in the folder of the classifier we specified. They are located in the subfolder `labels`."
   ]
  },
  {
   "cell_type": "markdown",
   "id": "089635f1",
   "metadata": {},
   "source": []
  }
 ],
 "metadata": {
  "kernelspec": {
   "display_name": "tropos-Ssyp9URO",
   "language": "python",
   "name": "tropos-ssyp9uro"
  },
  "language_info": {
   "codemirror_mode": {
    "name": "ipython",
    "version": 3
   },
   "file_extension": ".py",
   "mimetype": "text/x-python",
   "name": "python",
   "nbconvert_exporter": "python",
   "pygments_lexer": "ipython3",
   "version": "3.8.10"
  }
 },
 "nbformat": 4,
 "nbformat_minor": 5
}
