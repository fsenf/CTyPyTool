{
 "cells": [
  {
   "cell_type": "markdown",
   "id": "cb8a036d",
   "metadata": {},
   "source": [
    "### Application of a pretrained classifier\n",
    "\n"
   ]
  },
  {
   "cell_type": "markdown",
   "id": "ca9555d6",
   "metadata": {},
   "source": [
    "##### Imports"
   ]
  },
  {
   "cell_type": "code",
   "execution_count": null,
   "id": "5e9ec9ce",
   "metadata": {},
   "outputs": [],
   "source": []
  },
  {
   "cell_type": "markdown",
   "id": "6c266abd",
   "metadata": {},
   "source": [
    "##### Initialization"
   ]
  },
  {
   "cell_type": "code",
   "execution_count": null,
   "id": "bcadf557",
   "metadata": {},
   "outputs": [],
   "source": []
  },
  {
   "cell_type": "markdown",
   "id": "39d4111d",
   "metadata": {},
   "source": [
    "##### Setting input data path"
   ]
  },
  {
   "cell_type": "code",
   "execution_count": null,
   "id": "99e64d1a",
   "metadata": {},
   "outputs": [],
   "source": []
  },
  {
   "cell_type": "markdown",
   "id": "d9813013",
   "metadata": {},
   "source": [
    "##### Prediction"
   ]
  },
  {
   "cell_type": "code",
   "execution_count": null,
   "id": "a8cd02e7",
   "metadata": {},
   "outputs": [],
   "source": []
  }
 ],
 "metadata": {
  "kernelspec": {
   "display_name": "tropos-Ssyp9URO",
   "language": "python",
   "name": "tropos-ssyp9uro"
  },
  "language_info": {
   "codemirror_mode": {
    "name": "ipython",
    "version": 3
   },
   "file_extension": ".py",
   "mimetype": "text/x-python",
   "name": "python",
   "nbconvert_exporter": "python",
   "pygments_lexer": "ipython3",
   "version": "3.8.10"
  }
 },
 "nbformat": 4,
 "nbformat_minor": 5
}
