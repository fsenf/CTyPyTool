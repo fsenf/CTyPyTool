{
 "cells": [
  {
   "cell_type": "code",
   "execution_count": 43,
   "id": "headed-hampshire",
   "metadata": {},
   "outputs": [],
   "source": [
    "import sys\n",
    "sys.path.append('../cloud_classifier')\n",
    "\n",
    "import cloud_classifier\n",
    "import importlib\n",
    "importlib.reload(cloud_classifier)\n",
    "\n",
    "cc = cloud_classifier.cloud_classifier()"
   ]
  },
  {
   "cell_type": "code",
   "execution_count": 44,
   "id": "atomic-scotland",
   "metadata": {},
   "outputs": [],
   "source": [
    "#cc.extract_training_vectors()"
   ]
  },
  {
   "cell_type": "code",
   "execution_count": 45,
   "id": "perceived-visiting",
   "metadata": {},
   "outputs": [],
   "source": [
    "data_1 = \"../data/msevi-nawdex-20160920.nc\"\n",
    "labels_1 = \"../data/nwcsaf_msevi-nawdex-20160920.nc\"\n",
    "data_2 = \"../data/msevi-nawdex-20160925.nc\"\n",
    "labels_2 = \"../data/nwcsaf_msevi-nawdex-20160925.nc\"\n",
    "data_3 = \"../data/msevi-nawdex-20160930.nc\"\n",
    "labels_3 = \"../data/nwcsaf_msevi-nawdex-20160930.nc\"\n",
    "cc.add_training_set(data_1, labels_1)\n",
    "cc.add_training_set(data_2, labels_2)\n",
    "#cc.add_training_set(data_3, labels_3)"
   ]
  },
  {
   "cell_type": "code",
   "execution_count": null,
   "id": "affected-animation",
   "metadata": {},
   "outputs": [],
   "source": []
  },
  {
   "cell_type": "code",
   "execution_count": 46,
   "id": "cosmetic-audience",
   "metadata": {},
   "outputs": [],
   "source": [
    "mask = \"../data/region_masks_for_msevi_nawdex.h5\"\n",
    "\n",
    "cc.set_mask(mask, \"mediterranean\")\n",
    "\n"
   ]
  },
  {
   "cell_type": "code",
   "execution_count": 47,
   "id": "developing-confidentiality",
   "metadata": {},
   "outputs": [],
   "source": [
    "def test_tree_classifier(tree_depth = range(2,22,4), n = 1000, dv = False, ko = False):\n",
    "    cc.create_training_vectors(n, range(24), dv, ko)\n",
    "    print(\"diff vec: \" + str(dv) + \", keep org: \" + str(ko) + \", #samples: \" + str(n))\n",
    "    for d in tree_depth:\n",
    "        cc.train_tree_classifier(d)\n",
    "        print(\"max_depth = \" + str(d))\n",
    "        cc.evaluate(data_3, labels_3, 12, dv, ko)\n",
    "        \n",
    "    "
   ]
  },
  {
   "cell_type": "code",
   "execution_count": 48,
   "id": "rapid-cement",
   "metadata": {},
   "outputs": [
    {
     "name": "stdout",
     "output_type": "stream",
     "text": [
      "diff vec: False, keep org: False, #samples: 1000\n",
      "max_depth = 2\n",
      "Correctly identified 146183 out of 171396 labels! \n",
      "Positve rate is: 0.852896\n",
      "max_depth = 4\n",
      "Correctly identified 146237 out of 171396 labels! \n",
      "Positve rate is: 0.853211\n",
      "max_depth = 6\n",
      "Correctly identified 146022 out of 171396 labels! \n",
      "Positve rate is: 0.851957\n",
      "max_depth = 8\n",
      "Correctly identified 145178 out of 171396 labels! \n",
      "Positve rate is: 0.847033\n",
      "max_depth = 10\n",
      "Correctly identified 142390 out of 171396 labels! \n",
      "Positve rate is: 0.830766\n",
      "max_depth = 12\n",
      "Correctly identified 139787 out of 171396 labels! \n",
      "Positve rate is: 0.815579\n",
      "max_depth = 14\n",
      "Correctly identified 138704 out of 171396 labels! \n",
      "Positve rate is: 0.809260\n",
      "max_depth = 16\n",
      "Correctly identified 136676 out of 171396 labels! \n",
      "Positve rate is: 0.797428\n",
      "max_depth = 18\n",
      "Correctly identified 135288 out of 171396 labels! \n",
      "Positve rate is: 0.789330\n"
     ]
    }
   ],
   "source": [
    "test_tree_classifier(range(2,20,2))"
   ]
  },
  {
   "cell_type": "code",
   "execution_count": 49,
   "id": "nominated-monkey",
   "metadata": {},
   "outputs": [
    {
     "name": "stdout",
     "output_type": "stream",
     "text": [
      "diff vec: True, keep org: False, #samples: 1000\n",
      "max_depth = 2\n",
      "Correctly identified 138762 out of 171396 labels! \n",
      "Positve rate is: 0.809599\n",
      "max_depth = 4\n",
      "Correctly identified 147141 out of 171396 labels! \n",
      "Positve rate is: 0.858486\n",
      "max_depth = 6\n",
      "Correctly identified 145623 out of 171396 labels! \n",
      "Positve rate is: 0.849629\n",
      "max_depth = 8\n",
      "Correctly identified 143687 out of 171396 labels! \n",
      "Positve rate is: 0.838333\n",
      "max_depth = 10\n",
      "Correctly identified 141505 out of 171396 labels! \n",
      "Positve rate is: 0.825603\n",
      "max_depth = 12\n",
      "Correctly identified 140173 out of 171396 labels! \n",
      "Positve rate is: 0.817831\n",
      "max_depth = 14\n",
      "Correctly identified 136640 out of 171396 labels! \n",
      "Positve rate is: 0.797218\n",
      "max_depth = 16\n",
      "Correctly identified 131068 out of 171396 labels! \n",
      "Positve rate is: 0.764709\n",
      "max_depth = 18\n",
      "Correctly identified 130199 out of 171396 labels! \n",
      "Positve rate is: 0.759638\n"
     ]
    }
   ],
   "source": [
    "test_tree_classifier(range(2,20,2), 1000, True, False)"
   ]
  },
  {
   "cell_type": "code",
   "execution_count": 50,
   "id": "cardiac-opportunity",
   "metadata": {},
   "outputs": [
    {
     "name": "stdout",
     "output_type": "stream",
     "text": [
      "Removed 1 vectors for containig 'Nan' values\n",
      "diff vec: True, keep org: True, #samples: 1000\n",
      "max_depth = 2\n",
      "Correctly identified 146173 out of 171396 labels! \n",
      "Positve rate is: 0.852838\n",
      "max_depth = 4\n",
      "Correctly identified 136741 out of 171396 labels! \n",
      "Positve rate is: 0.797807\n",
      "max_depth = 6\n",
      "Correctly identified 140467 out of 171396 labels! \n",
      "Positve rate is: 0.819547\n",
      "max_depth = 8\n",
      "Correctly identified 149763 out of 171396 labels! \n",
      "Positve rate is: 0.873784\n",
      "max_depth = 10\n",
      "Correctly identified 147985 out of 171396 labels! \n",
      "Positve rate is: 0.863410\n",
      "max_depth = 12\n",
      "Correctly identified 137973 out of 171396 labels! \n",
      "Positve rate is: 0.804995\n",
      "max_depth = 14\n",
      "Correctly identified 134247 out of 171396 labels! \n",
      "Positve rate is: 0.783256\n",
      "max_depth = 16\n",
      "Correctly identified 135739 out of 171396 labels! \n",
      "Positve rate is: 0.791961\n",
      "max_depth = 18\n",
      "Correctly identified 132611 out of 171396 labels! \n",
      "Positve rate is: 0.773711\n"
     ]
    }
   ],
   "source": [
    "test_tree_classifier(range(2,20,2), 1000, True, True)"
   ]
  },
  {
   "cell_type": "code",
   "execution_count": null,
   "id": "textile-reality",
   "metadata": {},
   "outputs": [],
   "source": []
  },
  {
   "cell_type": "code",
   "execution_count": null,
   "id": "departmental-signature",
   "metadata": {},
   "outputs": [],
   "source": []
  }
 ],
 "metadata": {
  "kernelspec": {
   "display_name": "Python 3",
   "language": "python",
   "name": "python3"
  },
  "language_info": {
   "codemirror_mode": {
    "name": "ipython",
    "version": 3
   },
   "file_extension": ".py",
   "mimetype": "text/x-python",
   "name": "python",
   "nbconvert_exporter": "python",
   "pygments_lexer": "ipython3",
   "version": "3.8.5"
  }
 },
 "nbformat": 4,
 "nbformat_minor": 5
}
