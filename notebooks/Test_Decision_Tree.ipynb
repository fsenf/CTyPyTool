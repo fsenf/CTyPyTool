{
 "cells": [
  {
   "cell_type": "code",
   "execution_count": 1,
   "id": "headed-hampshire",
   "metadata": {},
   "outputs": [],
   "source": [
    "import sys\n",
    "sys.path.append('../cloud_classifier')\n",
    "\n",
    "import cloud_classifier\n",
    "import importlib\n",
    "importlib.reload(cloud_classifier)\n",
    "\n",
    "cc = cloud_classifier.cloud_classifier()"
   ]
  },
  {
   "cell_type": "code",
   "execution_count": null,
   "id": "configured-michael",
   "metadata": {},
   "outputs": [],
   "source": []
  },
  {
   "cell_type": "code",
   "execution_count": 2,
   "id": "atomic-scotland",
   "metadata": {},
   "outputs": [],
   "source": [
    "#cc.extract_training_vectors()"
   ]
  },
  {
   "cell_type": "code",
   "execution_count": 3,
   "id": "perceived-visiting",
   "metadata": {},
   "outputs": [],
   "source": [
    "data_1 = \"../data/msevi-nawdex-20160920.nc\"\n",
    "labels_1 = \"../data/nwcsaf_msevi-nawdex-20160920.nc\"\n",
    "data_2 = \"../data/msevi-nawdex-20160925.nc\"\n",
    "labels_2 = \"../data/nwcsaf_msevi-nawdex-20160925.nc\"\n",
    "data_3 = \"../data/msevi-nawdex-20160930.nc\"\n",
    "labels_3 = \"../data/nwcsaf_msevi-nawdex-20160930.nc\"\n",
    "cc.add_training_set(data_1, labels_1)\n",
    "cc.add_training_set(data_2, labels_2)\n",
    "cc.add_training_set(data_3, labels_3)"
   ]
  },
  {
   "cell_type": "code",
   "execution_count": 4,
   "id": "cosmetic-audience",
   "metadata": {},
   "outputs": [],
   "source": [
    "mask = \"../data/region_masks_for_msevi_nawdex.h5\"\n",
    "\n",
    "cc.set_mask(mask, \"mediterranean\")\n",
    "cc.set_paremeters(1000, range(24), True, True, \"Tree\", True)\n",
    "\n",
    "name = \"../training_set1\"\n"
   ]
  },
  {
   "cell_type": "markdown",
   "id": "domestic-theater",
   "metadata": {},
   "source": [
    "#### (Create and Save) / Load training vectors, uncomment accordingly\n"
   ]
  },
  {
   "cell_type": "code",
   "execution_count": 5,
   "id": "directed-campbell",
   "metadata": {},
   "outputs": [],
   "source": [
    "#cc.create_training_vectors()\n",
    "#cc.save_training_vector_set(name)\n",
    "cc.load_training_vector_set(name)"
   ]
  },
  {
   "cell_type": "code",
   "execution_count": 15,
   "id": "pursuant-musician",
   "metadata": {},
   "outputs": [
    {
     "name": "stdout",
     "output_type": "stream",
     "text": [
      "Correctly identified 15735 out of 18000 labels! \n",
      "Positve rate is: 0.874167\n"
     ]
    },
    {
     "data": {
      "text/plain": [
       "0.8741666666666666"
      ]
     },
     "execution_count": 15,
     "metadata": {},
     "output_type": "execute_result"
    }
   ],
   "source": [
    "cc.set_paremeters(1000, range(24), True, True, \"Tree\", True)\n",
    "cc.fit_feature_selection(27)\n",
    "cc.evaluate_parameters(max_depth = 12, ccp_alpha = 0, verbose = True)"
   ]
  },
  {
   "cell_type": "code",
   "execution_count": 12,
   "id": "southwest-emphasis",
   "metadata": {},
   "outputs": [
    {
     "name": "stdout",
     "output_type": "stream",
     "text": [
      "Correctly identified 15704 out of 18000 labels! \n",
      "Positve rate is: 0.872444\n"
     ]
    },
    {
     "data": {
      "text/plain": [
       "0.8724444444444445"
      ]
     },
     "execution_count": 12,
     "metadata": {},
     "output_type": "execute_result"
    }
   ],
   "source": [
    "cc.set_paremeters(1000, range(24), True, True, \"Tree\", False)\n",
    "cc.evaluate_parameters(max_depth = 12, ccp_alpha = 0, verbose = True)"
   ]
  },
  {
   "cell_type": "code",
   "execution_count": 11,
   "id": "developing-confidentiality",
   "metadata": {},
   "outputs": [],
   "source": [
    "cc.train_tree_classifier(None, 0)\n",
    "path = cc.cl.cost_complexity_pruning_path(cc.training_vectors, cc.training_labels)\n",
    "ccp_alphas, impurities = path.ccp_alphas, path.impurities"
   ]
  },
  {
   "cell_type": "code",
   "execution_count": 12,
   "id": "nominated-monkey",
   "metadata": {},
   "outputs": [
    {
     "name": "stdout",
     "output_type": "stream",
     "text": [
      "Correctly identified 15079 out of 18000 labels! \n",
      "Positve rate is: 0.837722\n",
      "Correctly identified 15075 out of 18000 labels! \n",
      "Positve rate is: 0.837500\n",
      "Correctly identified 15090 out of 18000 labels! \n",
      "Positve rate is: 0.838333\n",
      "Correctly identified 15112 out of 18000 labels! \n",
      "Positve rate is: 0.839556\n",
      "Correctly identified 15080 out of 18000 labels! \n",
      "Positve rate is: 0.837778\n",
      "Correctly identified 15105 out of 18000 labels! \n",
      "Positve rate is: 0.839167\n",
      "Correctly identified 15104 out of 18000 labels! \n",
      "Positve rate is: 0.839111\n",
      "Correctly identified 15108 out of 18000 labels! \n",
      "Positve rate is: 0.839333\n",
      "Correctly identified 15047 out of 18000 labels! \n",
      "Positve rate is: 0.835944\n",
      "Correctly identified 15074 out of 18000 labels! \n",
      "Positve rate is: 0.837444\n",
      "Correctly identified 15081 out of 18000 labels! \n",
      "Positve rate is: 0.837833\n",
      "Correctly identified 15108 out of 18000 labels! \n",
      "Positve rate is: 0.839333\n"
     ]
    },
    {
     "ename": "KeyboardInterrupt",
     "evalue": "",
     "output_type": "error",
     "traceback": [
      "\u001b[0;31m---------------------------------------------------------------------------\u001b[0m",
      "\u001b[0;31mKeyboardInterrupt\u001b[0m                         Traceback (most recent call last)",
      "\u001b[0;32m<ipython-input-12-3ec13c8733ee>\u001b[0m in \u001b[0;36m<module>\u001b[0;34m\u001b[0m\n\u001b[1;32m      1\u001b[0m \u001b[0ms\u001b[0m \u001b[0;34m=\u001b[0m \u001b[0mint\u001b[0m\u001b[0;34m(\u001b[0m\u001b[0mlen\u001b[0m\u001b[0;34m(\u001b[0m\u001b[0mccp_alphas\u001b[0m\u001b[0;34m)\u001b[0m\u001b[0;34m/\u001b[0m\u001b[0;36m50\u001b[0m\u001b[0;34m)\u001b[0m\u001b[0;34m\u001b[0m\u001b[0;34m\u001b[0m\u001b[0m\n\u001b[1;32m      2\u001b[0m \u001b[0;32mfor\u001b[0m \u001b[0malph\u001b[0m \u001b[0;32min\u001b[0m \u001b[0mccp_alphas\u001b[0m\u001b[0;34m[\u001b[0m\u001b[0;36m0\u001b[0m\u001b[0;34m:\u001b[0m\u001b[0;34m:\u001b[0m\u001b[0ms\u001b[0m\u001b[0;34m]\u001b[0m\u001b[0;34m:\u001b[0m\u001b[0;34m\u001b[0m\u001b[0;34m\u001b[0m\u001b[0m\n\u001b[0;32m----> 3\u001b[0;31m     \u001b[0mcc\u001b[0m\u001b[0;34m.\u001b[0m\u001b[0mevaluate_parameters\u001b[0m\u001b[0;34m(\u001b[0m\u001b[0mmax_depth\u001b[0m \u001b[0;34m=\u001b[0m \u001b[0;32mNone\u001b[0m\u001b[0;34m,\u001b[0m \u001b[0mccp_alpha\u001b[0m \u001b[0;34m=\u001b[0m \u001b[0malph\u001b[0m\u001b[0;34m,\u001b[0m \u001b[0mverbose\u001b[0m \u001b[0;34m=\u001b[0m \u001b[0;32mTrue\u001b[0m\u001b[0;34m)\u001b[0m\u001b[0;34m\u001b[0m\u001b[0;34m\u001b[0m\u001b[0m\n\u001b[0m",
      "\u001b[0;32m~/tropos/cloud_classifier/cloud_classifier.py\u001b[0m in \u001b[0;36mevaluate_parameters\u001b[0;34m(self, max_depth, ccp_alpha, verbose)\u001b[0m\n\u001b[1;32m    277\u001b[0m                                 self.training_vectors,self.training_labels, random_state=0)\n\u001b[1;32m    278\u001b[0m \u001b[0;34m\u001b[0m\u001b[0m\n\u001b[0;32m--> 279\u001b[0;31m         \u001b[0mself\u001b[0m\u001b[0;34m.\u001b[0m\u001b[0mtrain_tree_classifier\u001b[0m\u001b[0;34m(\u001b[0m\u001b[0mmax_depth\u001b[0m\u001b[0;34m,\u001b[0m \u001b[0mccp_alpha\u001b[0m\u001b[0;34m,\u001b[0m \u001b[0mtrain_v\u001b[0m\u001b[0;34m,\u001b[0m \u001b[0mtrain_l\u001b[0m\u001b[0;34m)\u001b[0m\u001b[0;34m\u001b[0m\u001b[0;34m\u001b[0m\u001b[0m\n\u001b[0m\u001b[1;32m    280\u001b[0m \u001b[0;34m\u001b[0m\u001b[0m\n\u001b[1;32m    281\u001b[0m         \u001b[0;31m#print(self.cl.score(test_v, test_l))\u001b[0m\u001b[0;34m\u001b[0m\u001b[0;34m\u001b[0m\u001b[0;34m\u001b[0m\u001b[0m\n",
      "\u001b[0;32m~/tropos/cloud_classifier/cloud_classifier.py\u001b[0m in \u001b[0;36mtrain_tree_classifier\u001b[0;34m(self, max_depth, ccp_alpha, training_vectors, training_labels)\u001b[0m\n\u001b[1;32m    175\u001b[0m             \u001b[0mself\u001b[0m\u001b[0;34m.\u001b[0m\u001b[0mcl\u001b[0m\u001b[0;34m.\u001b[0m\u001b[0mfit\u001b[0m\u001b[0;34m(\u001b[0m\u001b[0mself\u001b[0m\u001b[0;34m.\u001b[0m\u001b[0mtraining_vectors\u001b[0m\u001b[0;34m,\u001b[0m \u001b[0mself\u001b[0m\u001b[0;34m.\u001b[0m\u001b[0mtraining_labels\u001b[0m\u001b[0;34m)\u001b[0m\u001b[0;34m\u001b[0m\u001b[0;34m\u001b[0m\u001b[0m\n\u001b[1;32m    176\u001b[0m         \u001b[0;32melse\u001b[0m\u001b[0;34m:\u001b[0m\u001b[0;34m\u001b[0m\u001b[0;34m\u001b[0m\u001b[0m\n\u001b[0;32m--> 177\u001b[0;31m             \u001b[0mself\u001b[0m\u001b[0;34m.\u001b[0m\u001b[0mcl\u001b[0m\u001b[0;34m.\u001b[0m\u001b[0mfit\u001b[0m\u001b[0;34m(\u001b[0m\u001b[0mtraining_vectors\u001b[0m\u001b[0;34m,\u001b[0m \u001b[0mtraining_labels\u001b[0m\u001b[0;34m)\u001b[0m\u001b[0;34m\u001b[0m\u001b[0;34m\u001b[0m\u001b[0m\n\u001b[0m\u001b[1;32m    178\u001b[0m \u001b[0;34m\u001b[0m\u001b[0m\n\u001b[1;32m    179\u001b[0m \u001b[0;34m\u001b[0m\u001b[0m\n",
      "\u001b[0;32m~/.local/lib/python3.8/site-packages/sklearn/tree/_classes.py\u001b[0m in \u001b[0;36mfit\u001b[0;34m(self, X, y, sample_weight, check_input, X_idx_sorted)\u001b[0m\n\u001b[1;32m    896\u001b[0m         \"\"\"\n\u001b[1;32m    897\u001b[0m \u001b[0;34m\u001b[0m\u001b[0m\n\u001b[0;32m--> 898\u001b[0;31m         super().fit(\n\u001b[0m\u001b[1;32m    899\u001b[0m             \u001b[0mX\u001b[0m\u001b[0;34m,\u001b[0m \u001b[0my\u001b[0m\u001b[0;34m,\u001b[0m\u001b[0;34m\u001b[0m\u001b[0;34m\u001b[0m\u001b[0m\n\u001b[1;32m    900\u001b[0m             \u001b[0msample_weight\u001b[0m\u001b[0;34m=\u001b[0m\u001b[0msample_weight\u001b[0m\u001b[0;34m,\u001b[0m\u001b[0;34m\u001b[0m\u001b[0;34m\u001b[0m\u001b[0m\n",
      "\u001b[0;32m~/.local/lib/python3.8/site-packages/sklearn/tree/_classes.py\u001b[0m in \u001b[0;36mfit\u001b[0;34m(self, X, y, sample_weight, check_input, X_idx_sorted)\u001b[0m\n\u001b[1;32m    387\u001b[0m                                            min_impurity_split)\n\u001b[1;32m    388\u001b[0m \u001b[0;34m\u001b[0m\u001b[0m\n\u001b[0;32m--> 389\u001b[0;31m         \u001b[0mbuilder\u001b[0m\u001b[0;34m.\u001b[0m\u001b[0mbuild\u001b[0m\u001b[0;34m(\u001b[0m\u001b[0mself\u001b[0m\u001b[0;34m.\u001b[0m\u001b[0mtree_\u001b[0m\u001b[0;34m,\u001b[0m \u001b[0mX\u001b[0m\u001b[0;34m,\u001b[0m \u001b[0my\u001b[0m\u001b[0;34m,\u001b[0m \u001b[0msample_weight\u001b[0m\u001b[0;34m)\u001b[0m\u001b[0;34m\u001b[0m\u001b[0;34m\u001b[0m\u001b[0m\n\u001b[0m\u001b[1;32m    390\u001b[0m \u001b[0;34m\u001b[0m\u001b[0m\n\u001b[1;32m    391\u001b[0m         \u001b[0;32mif\u001b[0m \u001b[0mself\u001b[0m\u001b[0;34m.\u001b[0m\u001b[0mn_outputs_\u001b[0m \u001b[0;34m==\u001b[0m \u001b[0;36m1\u001b[0m \u001b[0;32mand\u001b[0m \u001b[0mis_classifier\u001b[0m\u001b[0;34m(\u001b[0m\u001b[0mself\u001b[0m\u001b[0;34m)\u001b[0m\u001b[0;34m:\u001b[0m\u001b[0;34m\u001b[0m\u001b[0;34m\u001b[0m\u001b[0m\n",
      "\u001b[0;31mKeyboardInterrupt\u001b[0m: "
     ]
    }
   ],
   "source": [
    "s = int(len(ccp_alphas)/50)\n",
    "for alph in ccp_alphas[0::s]:\n",
    "    cc.evaluate_parameters(max_depth = None, ccp_alpha = alph, verbose = True)\n"
   ]
  },
  {
   "cell_type": "code",
   "execution_count": 13,
   "id": "rapid-cement",
   "metadata": {},
   "outputs": [
    {
     "name": "stdout",
     "output_type": "stream",
     "text": [
      "Correctly identified 11919 out of 18000 labels! \n",
      "Positve rate is: 0.662167\n",
      "Correctly identified 12738 out of 18000 labels! \n",
      "Positve rate is: 0.707667\n",
      "Correctly identified 13918 out of 18000 labels! \n",
      "Positve rate is: 0.773222\n",
      "Correctly identified 14930 out of 18000 labels! \n",
      "Positve rate is: 0.829444\n",
      "Correctly identified 15467 out of 18000 labels! \n",
      "Positve rate is: 0.859278\n",
      "Correctly identified 15661 out of 18000 labels! \n",
      "Positve rate is: 0.870056\n",
      "Correctly identified 15719 out of 18000 labels! \n",
      "Positve rate is: 0.873278\n",
      "Correctly identified 15790 out of 18000 labels! \n",
      "Positve rate is: 0.877222\n",
      "Correctly identified 15768 out of 18000 labels! \n",
      "Positve rate is: 0.876000\n",
      "Correctly identified 15787 out of 18000 labels! \n",
      "Positve rate is: 0.877056\n",
      "Correctly identified 15740 out of 18000 labels! \n",
      "Positve rate is: 0.874444\n",
      "Correctly identified 15743 out of 18000 labels! \n",
      "Positve rate is: 0.874611\n",
      "Correctly identified 15702 out of 18000 labels! \n",
      "Positve rate is: 0.872333\n",
      "Correctly identified 15590 out of 18000 labels! \n",
      "Positve rate is: 0.866111\n",
      "Correctly identified 15564 out of 18000 labels! \n",
      "Positve rate is: 0.864667\n",
      "Correctly identified 15497 out of 18000 labels! \n",
      "Positve rate is: 0.860944\n",
      "Correctly identified 15413 out of 18000 labels! \n",
      "Positve rate is: 0.856278\n",
      "Correctly identified 15379 out of 18000 labels! \n",
      "Positve rate is: 0.854389\n",
      "Correctly identified 15301 out of 18000 labels! \n",
      "Positve rate is: 0.850056\n",
      "Correctly identified 15261 out of 18000 labels! \n",
      "Positve rate is: 0.847833\n",
      "Correctly identified 15208 out of 18000 labels! \n",
      "Positve rate is: 0.844889\n",
      "Correctly identified 15219 out of 18000 labels! \n",
      "Positve rate is: 0.845500\n",
      "Correctly identified 15189 out of 18000 labels! \n",
      "Positve rate is: 0.843833\n",
      "Correctly identified 15159 out of 18000 labels! \n",
      "Positve rate is: 0.842167\n"
     ]
    }
   ],
   "source": [
    "for i in range(1,25):\n",
    "    cc.evaluate_parameters(max_depth=i,ccp_alpha= 0, verbose = True)"
   ]
  },
  {
   "cell_type": "code",
   "execution_count": null,
   "id": "cardiac-opportunity",
   "metadata": {},
   "outputs": [],
   "source": [
    "ccp_alphas"
   ]
  },
  {
   "cell_type": "code",
   "execution_count": null,
   "id": "textile-reality",
   "metadata": {},
   "outputs": [],
   "source": []
  },
  {
   "cell_type": "code",
   "execution_count": null,
   "id": "departmental-signature",
   "metadata": {},
   "outputs": [],
   "source": []
  }
 ],
 "metadata": {
  "kernelspec": {
   "display_name": "Python 3",
   "language": "python",
   "name": "python3"
  },
  "language_info": {
   "codemirror_mode": {
    "name": "ipython",
    "version": 3
   },
   "file_extension": ".py",
   "mimetype": "text/x-python",
   "name": "python",
   "nbconvert_exporter": "python",
   "pygments_lexer": "ipython3",
   "version": "3.8.5"
  }
 },
 "nbformat": 4,
 "nbformat_minor": 5
}
