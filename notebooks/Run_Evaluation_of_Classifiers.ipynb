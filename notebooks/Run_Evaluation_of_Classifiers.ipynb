{
 "cells": [
  {
   "cell_type": "markdown",
   "id": "dominican-haven",
   "metadata": {},
   "source": [
    "# Application of the Evaluator\n",
    "\n",
    "The evaluator class alows to easily compare the prediciton quality of different classifiers.\n",
    "With the automatic generation of a training and an evaluation set from a given datafolder the influence of differnet classifier parameters can be tested and compared. \n",
    "Plotting methods for generating different plots for the whole evaluation set are intended to make a first assesment over the effect of certain parameters possible.\n"
   ]
  },
  {
   "cell_type": "markdown",
   "id": "former-stage",
   "metadata": {},
   "source": [
    "## Imports\n",
    "\n",
    "At first we need to point python to the project folder. The path can be assigned as a relative path as shown below, or as an absolute system path.\n",
    "Than the module can be imported via the `import evaluator` command."
   ]
  },
  {
   "cell_type": "code",
   "execution_count": 1,
   "id": "biological-pregnancy",
   "metadata": {},
   "outputs": [],
   "source": [
    "import sys\n",
    "from ctypytool import evaluator\n",
    "\n",
    "import warnings\n",
    "warnings.filterwarnings(\"ignore\")"
   ]
  },
  {
   "cell_type": "markdown",
   "id": "future-florist",
   "metadata": {},
   "source": [
    "## Initialization\n",
    "At first we create two new instances of the evaluator object. Those will represent two different classifiers that we will compare in their prediciton quality later on."
   ]
  },
  {
   "cell_type": "code",
   "execution_count": 2,
   "id": "pursuant-network",
   "metadata": {},
   "outputs": [],
   "source": [
    "ev1 = evaluator.evaluator()\n",
    "ev2 = evaluator.evaluator()"
   ]
  },
  {
   "cell_type": "code",
   "execution_count": 3,
   "id": "24dc75cf",
   "metadata": {},
   "outputs": [
    {
     "data": {
      "text/plain": [
       "CTYPYTOOL CLOUD PROJECT class\n",
       "\n",
       "... project_path              : None\n",
       "\n",
       "CTYPYTOOL PARAMETER HANDLER class\n",
       "\n",
       "=== Parameters ===\n",
       "\n",
       "... ccp_alpha                 : 0\n",
       "... classifier_type           : Forest\n",
       "... cloudtype_channel         : ct\n",
       "... data_source_folder        : ../data/full_dataset\n",
       "... difference_vectors        : True\n",
       "... feature_preselection      : False\n",
       "... georef_file               : ../data/auxilary_files/msevi-medi-georef.nc\n",
       "... hours                     : [0]\n",
       "... input_channels            : ['bt062', 'bt073', 'bt087', 'bt097', 'bt108', 'bt120', 'bt134']\n",
       "... input_source_folder       : ../data/example_data\n",
       "... label_file_structure      : nwcsaf_msevi-medi-TIMESTAMP.nc\n",
       "... mask_file                 : ../data/auxilary_files/lsm_mask_medi.nc\n",
       "... mask_key                  : land_sea_mask\n",
       "... mask_sea_coding           : 0\n",
       "... max_depth                 : 35\n",
       "... max_features              : None\n",
       "... merge_list                : []\n",
       "... min_samples_split         : 2\n",
       "... n_estimators              : 100\n",
       "... nwcsaf_in_version         : auto\n",
       "... nwcsaf_out_version        : v2018\n",
       "... original_values           : True\n",
       "... samples                   : 100\n",
       "... sat_file_structure        : msevi-medi-TIMESTAMP.nc\n",
       "... timestamp_length          : 13\n",
       "\n",
       "=== Filelists ===\n",
       "\n",
       "... eval_timestamps           : []\n",
       "... evaluation_sets           : []\n",
       "... input_files               : []\n",
       "... label_files               : []\n",
       "... training_sets             : []"
      ]
     },
     "execution_count": 3,
     "metadata": {},
     "output_type": "execute_result"
    }
   ],
   "source": [
    "ev1"
   ]
  },
  {
   "cell_type": "markdown",
   "id": "clear-argument",
   "metadata": {},
   "source": [
    "Than we need to create new cloud classifier projects for running the evaluation. As is the case with the cloud_clasifier class, the `create_new_project()` method will create a classifier new project."
   ]
  },
  {
   "cell_type": "code",
   "execution_count": 4,
   "id": "second-vault",
   "metadata": {},
   "outputs": [
    {
     "name": "stdout",
     "output_type": "stream",
     "text": [
      "Folder with given name already exits! Loading existing project!\n",
      "Folder with given name already exits! Loading existing project!\n"
     ]
    }
   ],
   "source": [
    "path_1 = \"../classifiers/evaluations/classifier_1\"\n",
    "ev1.create_new_project(path_1)\n",
    "\n",
    "path_2 = \"../classifiers/evaluations/classifier_2\"\n",
    "ev2.create_new_project(path_2)"
   ]
  },
  {
   "cell_type": "markdown",
   "id": "micro-amendment",
   "metadata": {},
   "source": [
    "Then we can alter the project parameters for both classifier project indivdually. Here we only change the type of classifier we are going to train, but we could also alter all other parameters, such as the sampling size of the training data, the fact if we want to create difference vectors from our data,  the input channels we are going to use and many more. See the notebook **Changing_Project_Parameters** for more details."
   ]
  },
  {
   "cell_type": "code",
   "execution_count": 5,
   "id": "graduate-turner",
   "metadata": {},
   "outputs": [],
   "source": [
    "ev1.set_project_parameters(classifier_type = \"Tree\")\n",
    "ev2.set_project_parameters(classifier_type = \"Forest\")"
   ]
  },
  {
   "cell_type": "markdown",
   "id": "informative-display",
   "metadata": {},
   "source": [
    "## Evaluating "
   ]
  },
  {
   "cell_type": "markdown",
   "id": "nominated-intention",
   "metadata": {},
   "source": [
    "### Splitting Dataset"
   ]
  },
  {
   "cell_type": "markdown",
   "id": "precise-savannah",
   "metadata": {},
   "source": [
    "The method `create_split_trainingset` will split the training data specified under the project parameter `data_source_folder` into an training set and a disjunct set used for evaluation.\n",
    "The parameter `eval_size` determines the number of files used for evaluation, while the parameter `timesensitive` will make sure an equal number of files is selected for each hour of the day."
   ]
  },
  {
   "cell_type": "code",
   "execution_count": 6,
   "id": "normal-purple",
   "metadata": {},
   "outputs": [],
   "source": [
    "ev1.create_split_trainingset(eval_size=24, timesensitive=True)"
   ]
  },
  {
   "cell_type": "markdown",
   "id": "grand-comfort",
   "metadata": {},
   "source": [
    "Comparing differnt classifiers, requires similiar preconditions in all cases. In order to make sure we use the same distribution of files into training data and evaluation data, we can use the `copy_evaluation_split` method. The parameter `source_project` determines from which project the data is copied."
   ]
  },
  {
   "cell_type": "code",
   "execution_count": 7,
   "id": "corrected-upset",
   "metadata": {},
   "outputs": [
    {
     "name": "stdout",
     "output_type": "stream",
     "text": [
      "Filelist copied from ../classifiers/evaluations/classifier_1\n"
     ]
    }
   ],
   "source": [
    "ev2.copy_evaluation_split(source_project = path_1)"
   ]
  },
  {
   "cell_type": "markdown",
   "id": "characteristic-tracker",
   "metadata": {},
   "source": [
    "### Creating Evaluation Data\n",
    "The Method `create_evaluation_data` will train the classifier with the training data specified in the previews step and then use this classifer to predict labels for all data specified as evaluation data."
   ]
  },
  {
   "cell_type": "code",
   "execution_count": 8,
   "id": "democratic-individual",
   "metadata": {},
   "outputs": [
    {
     "name": "stdout",
     "output_type": "stream",
     "text": [
      "Trainig evaluation classifier\n",
      "Masked indices set!\n",
      "Sampling dataset 1/668\r"
     ]
    },
    {
     "name": "stdout",
     "output_type": "stream",
     "text": [
      "sampling took 83.90552854537964 seconds\n",
      "Removed 680 vectors for containig 'Nan' values\n",
      "Training data created!\n",
      "Training Tree Classifier\n",
      "Classifier trained!\n",
      "Classifier saved!\n",
      "Prediciting evaluation labels\n",
      "Classifier loaded!\n",
      "Masked indices set!\n",
      "Input vectors created!\n",
      "Labels saved as nwcsaf_msevi-medi-20190504_0000_predicted.nc\n",
      "Input vectors created!\n",
      "Labels saved as nwcsaf_msevi-medi-20191113_0100_predicted.nc\n",
      "Input vectors created!\n",
      "Labels saved as nwcsaf_msevi-medi-20191014_0200_predicted.nc\n",
      "Input vectors created!\n",
      "Labels saved as nwcsaf_msevi-medi-20190219_0300_predicted.nc\n",
      "Input vectors created!\n",
      "Labels saved as nwcsaf_msevi-medi-20201114_0400_predicted.nc\n",
      "Input vectors created!\n",
      "Labels saved as nwcsaf_msevi-medi-20200331_0500_predicted.nc\n",
      "Input vectors created!\n",
      "Labels saved as nwcsaf_msevi-medi-20200411_0600_predicted.nc\n",
      "Input vectors created!\n",
      "Labels saved as nwcsaf_msevi-medi-20200405_0700_predicted.nc\n",
      "Input vectors created!\n",
      "Labels saved as nwcsaf_msevi-medi-20200129_0800_predicted.nc\n",
      "Input vectors created!\n",
      "Labels saved as nwcsaf_msevi-medi-20190419_0900_predicted.nc\n",
      "Input vectors created!\n",
      "Labels saved as nwcsaf_msevi-medi-20201106_1000_predicted.nc\n",
      "Input vectors created!\n",
      "Labels saved as nwcsaf_msevi-medi-20190507_1100_predicted.nc\n",
      "Input vectors created!\n",
      "Labels saved as nwcsaf_msevi-medi-20190101_1200_predicted.nc\n",
      "Input vectors created!\n",
      "Labels saved as nwcsaf_msevi-medi-20191202_1300_predicted.nc\n",
      "Input vectors created!\n",
      "Labels saved as nwcsaf_msevi-medi-20191020_1400_predicted.nc\n",
      "Input vectors created!\n",
      "Labels saved as nwcsaf_msevi-medi-20200128_1500_predicted.nc\n",
      "Input vectors created!\n",
      "Labels saved as nwcsaf_msevi-medi-20191220_1600_predicted.nc\n",
      "Input vectors created!\n",
      "Labels saved as nwcsaf_msevi-medi-20190609_1700_predicted.nc\n",
      "Input vectors created!\n",
      "Labels saved as nwcsaf_msevi-medi-20190817_1800_predicted.nc\n",
      "Input vectors created!\n",
      "Labels saved as nwcsaf_msevi-medi-20190116_1900_predicted.nc\n",
      "Input vectors created!\n",
      "Labels saved as nwcsaf_msevi-medi-20190216_2000_predicted.nc\n",
      "Input vectors created!\n",
      "Labels saved as nwcsaf_msevi-medi-20190103_2100_predicted.nc\n",
      "Input vectors created!\n",
      "Labels saved as nwcsaf_msevi-medi-20190318_2200_predicted.nc\n",
      "Input vectors created!\n",
      "Labels saved as nwcsaf_msevi-medi-20201108_2300_predicted.nc\n",
      "Trainig evaluation classifier\n",
      "Masked indices set!\n",
      "sampling took 76.39230179786682 seconds\n",
      "Removed 678 vectors for containig 'Nan' values\n",
      "Training data created!\n",
      "Training Forest Classifier\n",
      "Classifier trained!\n",
      "Classifier saved!\n",
      "Prediciting evaluation labels\n",
      "Classifier loaded!\n",
      "Masked indices set!\n",
      "Input vectors created!\n",
      "Labels saved as nwcsaf_msevi-medi-20190504_0000_predicted.nc\n",
      "Input vectors created!\n",
      "Labels saved as nwcsaf_msevi-medi-20191113_0100_predicted.nc\n",
      "Input vectors created!\n",
      "Labels saved as nwcsaf_msevi-medi-20191014_0200_predicted.nc\n",
      "Input vectors created!\n",
      "Labels saved as nwcsaf_msevi-medi-20190219_0300_predicted.nc\n",
      "Input vectors created!\n",
      "Labels saved as nwcsaf_msevi-medi-20201114_0400_predicted.nc\n",
      "Input vectors created!\n",
      "Labels saved as nwcsaf_msevi-medi-20200331_0500_predicted.nc\n",
      "Input vectors created!\n",
      "Labels saved as nwcsaf_msevi-medi-20200411_0600_predicted.nc\n",
      "Input vectors created!\n",
      "Labels saved as nwcsaf_msevi-medi-20200405_0700_predicted.nc\n",
      "Input vectors created!\n",
      "Labels saved as nwcsaf_msevi-medi-20200129_0800_predicted.nc\n",
      "Input vectors created!\n",
      "Labels saved as nwcsaf_msevi-medi-20190419_0900_predicted.nc\n",
      "Input vectors created!\n",
      "Labels saved as nwcsaf_msevi-medi-20201106_1000_predicted.nc\n",
      "Input vectors created!\n",
      "Labels saved as nwcsaf_msevi-medi-20190507_1100_predicted.nc\n",
      "Input vectors created!\n",
      "Labels saved as nwcsaf_msevi-medi-20190101_1200_predicted.nc\n",
      "Input vectors created!\n",
      "Labels saved as nwcsaf_msevi-medi-20191202_1300_predicted.nc\n",
      "Input vectors created!\n",
      "Labels saved as nwcsaf_msevi-medi-20191020_1400_predicted.nc\n",
      "Input vectors created!\n",
      "Labels saved as nwcsaf_msevi-medi-20200128_1500_predicted.nc\n",
      "Input vectors created!\n",
      "Labels saved as nwcsaf_msevi-medi-20191220_1600_predicted.nc\n",
      "Input vectors created!\n",
      "Labels saved as nwcsaf_msevi-medi-20190609_1700_predicted.nc\n",
      "Input vectors created!\n",
      "Labels saved as nwcsaf_msevi-medi-20190817_1800_predicted.nc\n",
      "Input vectors created!\n",
      "Labels saved as nwcsaf_msevi-medi-20190116_1900_predicted.nc\n",
      "Input vectors created!\n",
      "Labels saved as nwcsaf_msevi-medi-20190216_2000_predicted.nc\n",
      "Input vectors created!\n",
      "Labels saved as nwcsaf_msevi-medi-20190103_2100_predicted.nc\n",
      "Input vectors created!\n",
      "Labels saved as nwcsaf_msevi-medi-20190318_2200_predicted.nc\n",
      "Input vectors created!\n",
      "Labels saved as nwcsaf_msevi-medi-20201108_2300_predicted.nc\n"
     ]
    }
   ],
   "source": [
    "ev1.create_evaluation_data()\n",
    "ev2.create_evaluation_data()"
   ]
  },
  {
   "cell_type": "markdown",
   "id": "presidential-budget",
   "metadata": {},
   "source": [
    "### Evaluation Plots\n",
    "When the evaluation data has been created we can automatically create different plots to visualize and compare the classification quality. The method `create_evaluation_plots` takes the boolean arguments `correlation`, `probabilities`, `comparison`, `overallCorrelation` too determine which plots to create. Plots are created for all predicted labels in comparison to the original evaluation data and will be saved in the project folder. The parameter `show` determines if the plots are additionaly displayed directly."
   ]
  },
  {
   "cell_type": "markdown",
   "id": "fundamental-alexandria",
   "metadata": {},
   "source": [
    "#### Correlation Matrices\n",
    "The first argument determines if correlation matrices are calculated and plotted for all files in the evaluation data individually."
   ]
  },
  {
   "cell_type": "code",
   "execution_count": 9,
   "id": "compound-instrument",
   "metadata": {},
   "outputs": [
    {
     "name": "stdout",
     "output_type": "stream",
     "text": [
      "Correlation Matrix saved as 20190504_0000_CoocurrenceMatrix.png\n",
      "Correlation Matrix saved as 20191113_0100_CoocurrenceMatrix.png\n",
      "Correlation Matrix saved as 20191014_0200_CoocurrenceMatrix.png\n",
      "Correlation Matrix saved as 20190219_0300_CoocurrenceMatrix.png\n",
      "Correlation Matrix saved as 20201114_0400_CoocurrenceMatrix.png\n",
      "Correlation Matrix saved as 20200331_0500_CoocurrenceMatrix.png\n",
      "Correlation Matrix saved as 20200411_0600_CoocurrenceMatrix.png\n",
      "Correlation Matrix saved as 20200405_0700_CoocurrenceMatrix.png\n",
      "Correlation Matrix saved as 20200129_0800_CoocurrenceMatrix.png\n",
      "Correlation Matrix saved as 20190419_0900_CoocurrenceMatrix.png\n",
      "Correlation Matrix saved as 20201106_1000_CoocurrenceMatrix.png\n",
      "Correlation Matrix saved as 20190507_1100_CoocurrenceMatrix.png\n",
      "Correlation Matrix saved as 20190101_1200_CoocurrenceMatrix.png\n",
      "Correlation Matrix saved as 20191202_1300_CoocurrenceMatrix.png\n",
      "Correlation Matrix saved as 20191020_1400_CoocurrenceMatrix.png\n",
      "Correlation Matrix saved as 20200128_1500_CoocurrenceMatrix.png\n",
      "Correlation Matrix saved as 20191220_1600_CoocurrenceMatrix.png\n",
      "Correlation Matrix saved as 20190609_1700_CoocurrenceMatrix.png\n",
      "Correlation Matrix saved as 20190817_1800_CoocurrenceMatrix.png\n",
      "Correlation Matrix saved as 20190116_1900_CoocurrenceMatrix.png\n",
      "Correlation Matrix saved as 20190216_2000_CoocurrenceMatrix.png\n",
      "Correlation Matrix saved as 20190103_2100_CoocurrenceMatrix.png\n",
      "Correlation Matrix saved as 20190318_2200_CoocurrenceMatrix.png\n",
      "Correlation Matrix saved as 20201108_2300_CoocurrenceMatrix.png\n",
      "Correlation Matrix saved as 20190504_0000_CoocurrenceMatrix.png\n",
      "Correlation Matrix saved as 20191113_0100_CoocurrenceMatrix.png\n",
      "Correlation Matrix saved as 20191014_0200_CoocurrenceMatrix.png\n",
      "Correlation Matrix saved as 20190219_0300_CoocurrenceMatrix.png\n",
      "Correlation Matrix saved as 20201114_0400_CoocurrenceMatrix.png\n",
      "Correlation Matrix saved as 20200331_0500_CoocurrenceMatrix.png\n",
      "Correlation Matrix saved as 20200411_0600_CoocurrenceMatrix.png\n",
      "Correlation Matrix saved as 20200405_0700_CoocurrenceMatrix.png\n",
      "Correlation Matrix saved as 20200129_0800_CoocurrenceMatrix.png\n",
      "Correlation Matrix saved as 20190419_0900_CoocurrenceMatrix.png\n",
      "Correlation Matrix saved as 20201106_1000_CoocurrenceMatrix.png\n",
      "Correlation Matrix saved as 20190507_1100_CoocurrenceMatrix.png\n",
      "Correlation Matrix saved as 20190101_1200_CoocurrenceMatrix.png\n",
      "Correlation Matrix saved as 20191202_1300_CoocurrenceMatrix.png\n",
      "Correlation Matrix saved as 20191020_1400_CoocurrenceMatrix.png\n",
      "Correlation Matrix saved as 20200128_1500_CoocurrenceMatrix.png\n",
      "Correlation Matrix saved as 20191220_1600_CoocurrenceMatrix.png\n",
      "Correlation Matrix saved as 20190609_1700_CoocurrenceMatrix.png\n",
      "Correlation Matrix saved as 20190817_1800_CoocurrenceMatrix.png\n",
      "Correlation Matrix saved as 20190116_1900_CoocurrenceMatrix.png\n",
      "Correlation Matrix saved as 20190216_2000_CoocurrenceMatrix.png\n",
      "Correlation Matrix saved as 20190103_2100_CoocurrenceMatrix.png\n",
      "Correlation Matrix saved as 20190318_2200_CoocurrenceMatrix.png\n",
      "Correlation Matrix saved as 20201108_2300_CoocurrenceMatrix.png\n"
     ]
    }
   ],
   "source": [
    "ev1.create_evaluation_plots(correlation=True, show=False)\n",
    "ev2.create_evaluation_plots(correlation=True, show=False)"
   ]
  },
  {
   "cell_type": "markdown",
   "id": "mature-fundamentals",
   "metadata": {},
   "source": [
    "#### Overall Correlation Matrix\n",
    "Alternatively it is also possible to create a single correlation matrix from all the data files in the evaluatin set. This gives a more general overview over the classifiers performance."
   ]
  },
  {
   "cell_type": "code",
   "execution_count": 10,
   "id": "confused-digest",
   "metadata": {},
   "outputs": [
    {
     "name": "stdout",
     "output_type": "stream",
     "text": [
      "Correlation Matrix saved as Overall_CoocurrenceMatrix.png\n",
      "Correlation Matrix saved as Overall_CoocurrenceMatrix.png\n"
     ]
    }
   ],
   "source": [
    "ev1.create_evaluation_plots(overallCorrelation=True, show=False)\n",
    "ev2.create_evaluation_plots(overallCorrelation=True, show=False)"
   ]
  },
  {
   "cell_type": "markdown",
   "id": "helpful-petersburg",
   "metadata": {},
   "source": [
    "#### Comparison plots\n",
    "With the `comparison` parameter we can plot the resulting maps next to each other to get an overview over spacial deviations from the original data. When we, as in the first example leave the parameter `cmp_targets` blank, we will only plot the predicted labels next to the original data."
   ]
  },
  {
   "cell_type": "code",
   "execution_count": 11,
   "id": "spanish-advocate",
   "metadata": {},
   "outputs": [
    {
     "name": "stdout",
     "output_type": "stream",
     "text": [
      "Comparison Plot saved as 20190504_0000_ComparisonPlot.png\n",
      "Comparison Plot saved as 20191113_0100_ComparisonPlot.png\n",
      "Comparison Plot saved as 20191014_0200_ComparisonPlot.png\n",
      "Comparison Plot saved as 20190219_0300_ComparisonPlot.png\n",
      "Comparison Plot saved as 20201114_0400_ComparisonPlot.png\n",
      "Comparison Plot saved as 20200331_0500_ComparisonPlot.png\n",
      "Comparison Plot saved as 20200411_0600_ComparisonPlot.png\n",
      "Comparison Plot saved as 20200405_0700_ComparisonPlot.png\n",
      "Comparison Plot saved as 20200129_0800_ComparisonPlot.png\n",
      "Comparison Plot saved as 20190419_0900_ComparisonPlot.png\n",
      "Comparison Plot saved as 20201106_1000_ComparisonPlot.png\n",
      "Comparison Plot saved as 20190507_1100_ComparisonPlot.png\n",
      "Comparison Plot saved as 20190101_1200_ComparisonPlot.png\n",
      "Comparison Plot saved as 20191202_1300_ComparisonPlot.png\n",
      "Comparison Plot saved as 20191020_1400_ComparisonPlot.png\n",
      "Comparison Plot saved as 20200128_1500_ComparisonPlot.png\n",
      "Comparison Plot saved as 20191220_1600_ComparisonPlot.png\n",
      "Comparison Plot saved as 20190609_1700_ComparisonPlot.png\n",
      "Comparison Plot saved as 20190817_1800_ComparisonPlot.png\n",
      "Comparison Plot saved as 20190116_1900_ComparisonPlot.png\n",
      "Comparison Plot saved as 20190216_2000_ComparisonPlot.png\n",
      "Comparison Plot saved as 20190103_2100_ComparisonPlot.png\n",
      "Comparison Plot saved as 20190318_2200_ComparisonPlot.png\n",
      "Comparison Plot saved as 20201108_2300_ComparisonPlot.png\n"
     ]
    }
   ],
   "source": [
    "ev1.create_evaluation_plots(comparison=True, show=False)"
   ]
  },
  {
   "cell_type": "markdown",
   "id": "listed-african",
   "metadata": {},
   "source": [
    "Alternatively we can specify a list of other projects using their project paths. In that case the data from all those project will be plotted next to the data from the evaluator project from which the method is called as well as the original data."
   ]
  },
  {
   "cell_type": "code",
   "execution_count": 12,
   "id": "joined-seeking",
   "metadata": {},
   "outputs": [
    {
     "name": "stdout",
     "output_type": "stream",
     "text": [
      "Comparison Plot saved as 20190504_0000_ComparisonPlot.png\n",
      "Comparison Plot saved as 20191113_0100_ComparisonPlot.png\n",
      "Comparison Plot saved as 20191014_0200_ComparisonPlot.png\n",
      "Comparison Plot saved as 20190219_0300_ComparisonPlot.png\n",
      "Comparison Plot saved as 20201114_0400_ComparisonPlot.png\n",
      "Comparison Plot saved as 20200331_0500_ComparisonPlot.png\n",
      "Comparison Plot saved as 20200411_0600_ComparisonPlot.png\n",
      "Comparison Plot saved as 20200405_0700_ComparisonPlot.png\n",
      "Comparison Plot saved as 20200129_0800_ComparisonPlot.png\n",
      "Comparison Plot saved as 20190419_0900_ComparisonPlot.png\n",
      "Comparison Plot saved as 20201106_1000_ComparisonPlot.png\n",
      "Comparison Plot saved as 20190507_1100_ComparisonPlot.png\n",
      "Comparison Plot saved as 20190101_1200_ComparisonPlot.png\n",
      "Comparison Plot saved as 20191202_1300_ComparisonPlot.png\n",
      "Comparison Plot saved as 20191020_1400_ComparisonPlot.png\n",
      "Comparison Plot saved as 20200128_1500_ComparisonPlot.png\n",
      "Comparison Plot saved as 20191220_1600_ComparisonPlot.png\n",
      "Comparison Plot saved as 20190609_1700_ComparisonPlot.png\n",
      "Comparison Plot saved as 20190817_1800_ComparisonPlot.png\n",
      "Comparison Plot saved as 20190116_1900_ComparisonPlot.png\n",
      "Comparison Plot saved as 20190216_2000_ComparisonPlot.png\n",
      "Comparison Plot saved as 20190103_2100_ComparisonPlot.png\n",
      "Comparison Plot saved as 20190318_2200_ComparisonPlot.png\n",
      "Comparison Plot saved as 20201108_2300_ComparisonPlot.png\n"
     ]
    }
   ],
   "source": [
    "other_projects = [path_1]\n",
    "titles = [\"Rand. Forest.\", \"Dec. Tree\"]\n",
    "\n",
    "ev2.create_evaluation_plots(comparison=True, cmp_targets=other_projects, plot_titles=titles, show = False)"
   ]
  },
  {
   "cell_type": "markdown",
   "id": "declared-occasion",
   "metadata": {},
   "source": [
    "Finally, using the `probabilities` flag, we can also plot the proability scores of Forest classifers next to their prediction maps and the original data"
   ]
  },
  {
   "cell_type": "code",
   "execution_count": 13,
   "id": "great-johnson",
   "metadata": {},
   "outputs": [
    {
     "name": "stdout",
     "output_type": "stream",
     "text": [
      "Probability Plot saved as 20190504_0000_ProbabilityPlot.png\n",
      "Probability Plot saved as 20191113_0100_ProbabilityPlot.png\n",
      "Probability Plot saved as 20191014_0200_ProbabilityPlot.png\n",
      "Probability Plot saved as 20190219_0300_ProbabilityPlot.png\n",
      "Probability Plot saved as 20201114_0400_ProbabilityPlot.png\n",
      "Probability Plot saved as 20200331_0500_ProbabilityPlot.png\n",
      "Probability Plot saved as 20200411_0600_ProbabilityPlot.png\n",
      "Probability Plot saved as 20200405_0700_ProbabilityPlot.png\n",
      "Probability Plot saved as 20200129_0800_ProbabilityPlot.png\n",
      "Probability Plot saved as 20190419_0900_ProbabilityPlot.png\n",
      "Probability Plot saved as 20201106_1000_ProbabilityPlot.png\n",
      "Probability Plot saved as 20190507_1100_ProbabilityPlot.png\n",
      "Probability Plot saved as 20190101_1200_ProbabilityPlot.png\n",
      "Probability Plot saved as 20191202_1300_ProbabilityPlot.png\n",
      "Probability Plot saved as 20191020_1400_ProbabilityPlot.png\n",
      "Probability Plot saved as 20200128_1500_ProbabilityPlot.png\n",
      "Probability Plot saved as 20191220_1600_ProbabilityPlot.png\n",
      "Probability Plot saved as 20190609_1700_ProbabilityPlot.png\n",
      "Probability Plot saved as 20190817_1800_ProbabilityPlot.png\n",
      "Probability Plot saved as 20190116_1900_ProbabilityPlot.png\n",
      "Probability Plot saved as 20190216_2000_ProbabilityPlot.png\n",
      "Probability Plot saved as 20190103_2100_ProbabilityPlot.png\n",
      "Probability Plot saved as 20190318_2200_ProbabilityPlot.png\n",
      "Probability Plot saved as 20201108_2300_ProbabilityPlot.png\n"
     ]
    }
   ],
   "source": [
    "ev2.create_evaluation_plots(probabilities=True, show=False)"
   ]
  },
  {
   "cell_type": "markdown",
   "id": "ambient-poultry",
   "metadata": {},
   "source": [
    "The plots are saved in accordingly named subfolders in the newly created `plots` folder inside the project folder. "
   ]
  },
  {
   "cell_type": "code",
   "execution_count": 14,
   "id": "twenty-search",
   "metadata": {},
   "outputs": [
    {
     "name": "stdout",
     "output_type": "stream",
     "text": [
      "../classifiers/evaluations/classifier_1/plots:\n",
      "total 8\n",
      "drwxr-xr-x 2 b380352 bb1174 4096 Aug 18 13:25 Comparisons\n",
      "drwxr-xr-x 2 b380352 bb1174 4096 Aug 18 13:24 Coocurrence\n",
      "\n",
      "../classifiers/evaluations/classifier_2/plots:\n",
      "total 12\n",
      "drwxr-xr-x 2 b380352 bb1174 4096 Aug 18 13:26 Comparisons\n",
      "drwxr-xr-x 2 b380352 bb1174 4096 Aug 18 13:25 Coocurrence\n",
      "drwxr-xr-x 2 b380352 bb1174 4096 Aug 18 13:27 Probabilities\n"
     ]
    }
   ],
   "source": [
    "%%bash\n",
    "\n",
    "ls -l ../classifiers/evaluations/*/plots\n"
   ]
  },
  {
   "cell_type": "markdown",
   "id": "municipal-train",
   "metadata": {},
   "source": [
    "It is also possible to perform all above steps in one single function call by setting all parameters simultaneously."
   ]
  }
 ],
 "metadata": {
  "kernelspec": {
   "display_name": "ctypytool-mamba",
   "language": "python",
   "name": "python3"
  },
  "language_info": {
   "codemirror_mode": {
    "name": "ipython",
    "version": 3
   },
   "file_extension": ".py",
   "mimetype": "text/x-python",
   "name": "python",
   "nbconvert_exporter": "python",
   "pygments_lexer": "ipython3",
   "version": "3.11.9"
  }
 },
 "nbformat": 4,
 "nbformat_minor": 5
}
