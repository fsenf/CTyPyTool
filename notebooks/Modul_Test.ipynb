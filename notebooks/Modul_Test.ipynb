{
 "cells": [
  {
   "cell_type": "code",
   "execution_count": 109,
   "id": "buried-lucas",
   "metadata": {},
   "outputs": [],
   "source": [
    "import sys\n",
    "sys.path.append('../cloud_classifier')\n",
    "\n",
    "import cloud_trainer\n",
    "import data_handler\n",
    "import importlib\n",
    "importlib.reload(cloud_trainer)\n",
    "importlib.reload(data_handler)\n",
    "\n",
    "ct = cloud_trainer.cloud_trainer()\n",
    "dh = data_handler.data_handler()"
   ]
  },
  {
   "cell_type": "code",
   "execution_count": 110,
   "id": "accessory-congo",
   "metadata": {},
   "outputs": [],
   "source": [
    "data_1 = \"../data/msevi-nawdex-20160920.nc\"\n",
    "labels_1 = \"../data/nwcsaf_msevi-nawdex-20160920.nc\"\n",
    "data_2 = \"../data/msevi-nawdex-20160925.nc\"\n",
    "labels_2 = \"../data/nwcsaf_msevi-nawdex-20160925.nc\"\n",
    "data_3 = \"../data/msevi-nawdex-20160930.nc\"\n",
    "labels_3 = \"../data/nwcsaf_msevi-nawdex-20160930.nc\"\n",
    "mask = \"../data/region_masks_for_msevi_nawdex.h5\"\n",
    "\n",
    "\n",
    "trv_name = \"../training_vectors_1\"\n"
   ]
  },
  {
   "cell_type": "code",
   "execution_count": 111,
   "id": "criminal-exhibition",
   "metadata": {},
   "outputs": [],
   "source": [
    "dh.add_training_files(data_1, labels_1)\n",
    "dh.add_training_files(data_2, labels_2)\n",
    "dh.add_training_files(data_3, labels_3)\n",
    "\n",
    "dh.set_indices_from_mask(mask, \"mediterranean\")\n",
    "dh.set_extraction_parameters(1000, [0,12], True, True)"
   ]
  },
  {
   "cell_type": "code",
   "execution_count": 114,
   "id": "worthy-thesis",
   "metadata": {},
   "outputs": [],
   "source": [
    "#v,l  = dh.create_training_set()\n",
    "#dh.save_training_set(trv_name, v, l)\n",
    "v,l = dh.load_training_set(trv_name)"
   ]
  },
  {
   "cell_type": "code",
   "execution_count": 115,
   "id": "liberal-vision",
   "metadata": {},
   "outputs": [
    {
     "name": "stdout",
     "output_type": "stream",
     "text": [
      "Correctly identified 1332 out of 1500 labels! \n",
      "Positve rate is: 0.888000\n"
     ]
    },
    {
     "data": {
      "text/plain": [
       "0.888"
      ]
     },
     "execution_count": 115,
     "metadata": {},
     "output_type": "execute_result"
    }
   ],
   "source": [
    "ct.set_training_paremeters(\"Forest\")\n",
    "ct.evaluate_parameters(v, l)"
   ]
  },
  {
   "cell_type": "code",
   "execution_count": null,
   "id": "saved-charter",
   "metadata": {},
   "outputs": [],
   "source": []
  }
 ],
 "metadata": {
  "kernelspec": {
   "display_name": "Python 3",
   "language": "python",
   "name": "python3"
  },
  "language_info": {
   "codemirror_mode": {
    "name": "ipython",
    "version": 3
   },
   "file_extension": ".py",
   "mimetype": "text/x-python",
   "name": "python",
   "nbconvert_exporter": "python",
   "pygments_lexer": "ipython3",
   "version": "3.8.5"
  }
 },
 "nbformat": 4,
 "nbformat_minor": 5
}
