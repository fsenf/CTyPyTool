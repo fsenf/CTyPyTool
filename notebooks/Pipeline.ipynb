{
 "cells": [
  {
   "cell_type": "code",
   "execution_count": 123,
   "id": "moved-bridal",
   "metadata": {},
   "outputs": [
    {
     "data": {
      "text/plain": [
       "<module 'cloud_classifier' from '/home/squidy/tropos/notebooks/../cloud_classifier/cloud_classifier.py'>"
      ]
     },
     "execution_count": 123,
     "metadata": {},
     "output_type": "execute_result"
    }
   ],
   "source": [
    "import sys\n",
    "sys.path.append('../cloud_classifier')\n",
    "\n",
    "import cloud_classifier\n",
    "import importlib\n",
    "importlib.reload(cloud_classifier)\n"
   ]
  },
  {
   "cell_type": "code",
   "execution_count": null,
   "id": "0aeadb2f",
   "metadata": {},
   "outputs": [],
   "source": []
  },
  {
   "cell_type": "code",
   "execution_count": 124,
   "id": "general-tulsa",
   "metadata": {
    "scrolled": false
   },
   "outputs": [],
   "source": [
    "np = cloud_classifier.cloud_classifier()\n"
   ]
  },
  {
   "cell_type": "code",
   "execution_count": 125,
   "id": "5c594279",
   "metadata": {
    "scrolled": true
   },
   "outputs": [],
   "source": [
    "#np.create_new_project(name = \"new_classifier_2\", path = \"../classifiers\")\n",
    "#np.run_training_pipeline()\n"
   ]
  },
  {
   "cell_type": "code",
   "execution_count": 126,
   "id": "3b47b4b1",
   "metadata": {
    "scrolled": true
   },
   "outputs": [],
   "source": [
    "np.set_project_path(\"../classifiers/new_classifier_2\")"
   ]
  },
  {
   "cell_type": "code",
   "execution_count": null,
   "id": "1864d940",
   "metadata": {},
   "outputs": [
    {
     "name": "stdout",
     "output_type": "stream",
     "text": [
      "Input filelist created!\n",
      "Classifier loaded!\n",
      "Masked indices set!\n",
      "Removed 2235 vectors for containig 'Nan' values\n",
      "Input vectors created!\n",
      "Predicted Labels!\n",
      "labels saved as nwcsaf_msevi-medi-20190318_1100_predicted.nc\n",
      "Removed 2235 vectors for containig 'Nan' values\n"
     ]
    }
   ],
   "source": [
    "np.run_prediction_pipeline()"
   ]
  },
  {
   "cell_type": "code",
   "execution_count": null,
   "id": "84bdea48",
   "metadata": {},
   "outputs": [],
   "source": []
  },
  {
   "cell_type": "code",
   "execution_count": null,
   "id": "0a586396",
   "metadata": {},
   "outputs": [],
   "source": []
  }
 ],
 "metadata": {
  "kernelspec": {
   "display_name": "Python 3",
   "language": "python",
   "name": "python3"
  },
  "language_info": {
   "codemirror_mode": {
    "name": "ipython",
    "version": 3
   },
   "file_extension": ".py",
   "mimetype": "text/x-python",
   "name": "python",
   "nbconvert_exporter": "python",
   "pygments_lexer": "ipython3",
   "version": "3.8.10"
  }
 },
 "nbformat": 4,
 "nbformat_minor": 5
}
