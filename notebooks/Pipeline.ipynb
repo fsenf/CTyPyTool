{
 "cells": [
  {
   "cell_type": "code",
   "execution_count": 58,
   "id": "moved-bridal",
   "metadata": {},
   "outputs": [
    {
     "data": {
      "text/plain": [
       "<module 'cloud_classifier' from '/home/squidy/tropos/notebooks/../cloud_classifier/cloud_classifier.py'>"
      ]
     },
     "execution_count": 58,
     "metadata": {},
     "output_type": "execute_result"
    }
   ],
   "source": [
    "import sys\n",
    "sys.path.append('../cloud_classifier')\n",
    "\n",
    "import cloud_classifier\n",
    "import importlib\n",
    "importlib.reload(cloud_classifier)\n"
   ]
  },
  {
   "cell_type": "code",
   "execution_count": 59,
   "id": "general-tulsa",
   "metadata": {
    "scrolled": false
   },
   "outputs": [],
   "source": [
    "new_pipeline = cloud_classifier.cloud_classifier()\n"
   ]
  },
  {
   "cell_type": "code",
   "execution_count": 60,
   "id": "5c594279",
   "metadata": {
    "scrolled": true
   },
   "outputs": [],
   "source": [
    "new_pipeline.create_new_project(name = \"new_classifier_3\", path = \"../classifiers\")\n",
    "#new_pipeline.set_project_path(\"../classifiers/new_classifier_1\")"
   ]
  },
  {
   "cell_type": "code",
   "execution_count": 61,
   "id": "3b47b4b1",
   "metadata": {
    "scrolled": true
   },
   "outputs": [
    {
     "name": "stdout",
     "output_type": "stream",
     "text": [
      "Filelist created!\n",
      "Masked indices created!\n",
      "Removed 18 vectors for containig 'Nan' values\n",
      "Training data created!\n",
      "Classifier created!\n"
     ]
    }
   ],
   "source": [
    "new_pipeline.run_training_pipeline()"
   ]
  },
  {
   "cell_type": "code",
   "execution_count": null,
   "id": "84bdea48",
   "metadata": {},
   "outputs": [],
   "source": []
  },
  {
   "cell_type": "code",
   "execution_count": null,
   "id": "0a586396",
   "metadata": {},
   "outputs": [],
   "source": []
  },
  {
   "cell_type": "code",
   "execution_count": 57,
   "id": "2391b1a6",
   "metadata": {},
   "outputs": [],
   "source": []
  },
  {
   "cell_type": "code",
   "execution_count": 58,
   "id": "af548950",
   "metadata": {},
   "outputs": [
    {
     "name": "stdout",
     "output_type": "stream",
     "text": [
      "calluing 1\n",
      "calluing 2\n"
     ]
    }
   ],
   "source": []
  },
  {
   "cell_type": "code",
   "execution_count": 59,
   "id": "2931d078",
   "metadata": {},
   "outputs": [
    {
     "data": {
      "text/plain": [
       "'foo'"
      ]
     },
     "execution_count": 59,
     "metadata": {},
     "output_type": "execute_result"
    }
   ],
   "source": []
  },
  {
   "cell_type": "code",
   "execution_count": null,
   "id": "ce533299",
   "metadata": {},
   "outputs": [],
   "source": []
  }
 ],
 "metadata": {
  "kernelspec": {
   "display_name": "Python 3",
   "language": "python",
   "name": "python3"
  },
  "language_info": {
   "codemirror_mode": {
    "name": "ipython",
    "version": 3
   },
   "file_extension": ".py",
   "mimetype": "text/x-python",
   "name": "python",
   "nbconvert_exporter": "python",
   "pygments_lexer": "ipython3",
   "version": "3.8.10"
  }
 },
 "nbformat": 4,
 "nbformat_minor": 5
}
