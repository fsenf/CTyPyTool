{
 "cells": [
  {
   "cell_type": "code",
   "execution_count": 182,
   "id": "moved-bridal",
   "metadata": {},
   "outputs": [
    {
     "data": {
      "text/plain": [
       "<module 'cloud_classifier' from '/home/squidy/tropos/notebooks/../cloud_classifier/cloud_classifier.py'>"
      ]
     },
     "execution_count": 182,
     "metadata": {},
     "output_type": "execute_result"
    }
   ],
   "source": [
    "import sys\n",
    "sys.path.append('../cloud_classifier')\n",
    "\n",
    "import cloud_classifier\n",
    "import importlib\n",
    "importlib.reload(cloud_classifier)"
   ]
  },
  {
   "cell_type": "code",
   "execution_count": 183,
   "id": "general-tulsa",
   "metadata": {
    "scrolled": true
   },
   "outputs": [],
   "source": [
    "\n",
    "\n",
    "new_pipeline = cloud_classifier.cloud_classifier()\n",
    "new_pipeline.create_new_project(\"new_classifier_1\", \"../classifiers\")"
   ]
  },
  {
   "cell_type": "code",
   "execution_count": 184,
   "id": "3b47b4b1",
   "metadata": {},
   "outputs": [
    {
     "name": "stdout",
     "output_type": "stream",
     "text": [
      "msevi-medi-TIMESTAMP.nc\n",
      "nwcsaf_msevi-medi-TIMESTAMP.nc\n"
     ]
    },
    {
     "ename": "NameError",
     "evalue": "name 'folder' is not defined",
     "output_type": "error",
     "traceback": [
      "\u001b[0;31m---------------------------------------------------------------------------\u001b[0m",
      "\u001b[0;31mNameError\u001b[0m                                 Traceback (most recent call last)",
      "\u001b[0;32m<ipython-input-184-c78375c623fe>\u001b[0m in \u001b[0;36m<module>\u001b[0;34m\u001b[0m\n\u001b[0;32m----> 1\u001b[0;31m \u001b[0mnew_pipeline\u001b[0m\u001b[0;34m.\u001b[0m\u001b[0mgenerate_filelist_from_folder\u001b[0m\u001b[0;34m(\u001b[0m\u001b[0mpath\u001b[0m \u001b[0;34m=\u001b[0m  \u001b[0;34m\"../data/cloud-typing-data/\"\u001b[0m\u001b[0;34m)\u001b[0m\u001b[0;34m\u001b[0m\u001b[0;34m\u001b[0m\u001b[0m\n\u001b[0m",
      "\u001b[0;32m~/tropos/notebooks/../cloud_classifier/cloud_classifier.py\u001b[0m in \u001b[0;36mgenerate_filelist_from_folder\u001b[0;34m(self, path, additive)\u001b[0m\n\u001b[1;32m     98\u001b[0m         \u001b[0mdata_set\u001b[0m\u001b[0;34m,\u001b[0m \u001b[0msat_files\u001b[0m\u001b[0;34m,\u001b[0m \u001b[0mlab_files\u001b[0m \u001b[0;34m=\u001b[0m \u001b[0mlist\u001b[0m\u001b[0;34m(\u001b[0m\u001b[0;34m)\u001b[0m\u001b[0;34m,\u001b[0m \u001b[0;34m{\u001b[0m\u001b[0;34m}\u001b[0m\u001b[0;34m,\u001b[0m \u001b[0;34m{\u001b[0m\u001b[0;34m}\u001b[0m\u001b[0;34m\u001b[0m\u001b[0;34m\u001b[0m\u001b[0m\n\u001b[1;32m     99\u001b[0m \u001b[0;34m\u001b[0m\u001b[0m\n\u001b[0;32m--> 100\u001b[0;31m         \u001b[0mfiles\u001b[0m \u001b[0;34m=\u001b[0m \u001b[0mos\u001b[0m\u001b[0;34m.\u001b[0m\u001b[0mlistdir\u001b[0m\u001b[0;34m(\u001b[0m\u001b[0mfolder\u001b[0m\u001b[0;34m)\u001b[0m\u001b[0;34m\u001b[0m\u001b[0;34m\u001b[0m\u001b[0m\n\u001b[0m\u001b[1;32m    101\u001b[0m         \u001b[0;32mfor\u001b[0m \u001b[0mfile\u001b[0m \u001b[0;32min\u001b[0m \u001b[0mfiles\u001b[0m\u001b[0;34m:\u001b[0m\u001b[0;34m\u001b[0m\u001b[0;34m\u001b[0m\u001b[0m\n\u001b[1;32m    102\u001b[0m             \u001b[0msat_id\u001b[0m \u001b[0;34m=\u001b[0m \u001b[0msat_comp\u001b[0m\u001b[0;34m.\u001b[0m\u001b[0mmatch\u001b[0m\u001b[0;34m(\u001b[0m\u001b[0mfile\u001b[0m\u001b[0;34m)\u001b[0m\u001b[0;34m\u001b[0m\u001b[0;34m\u001b[0m\u001b[0m\n",
      "\u001b[0;31mNameError\u001b[0m: name 'folder' is not defined"
     ]
    }
   ],
   "source": [
    "new_pipeline.generate_filelist_from_folder(path =  \"../data/cloud-typing-data/\")"
   ]
  },
  {
   "cell_type": "code",
   "execution_count": 119,
   "id": "19896c32",
   "metadata": {},
   "outputs": [
    {
     "data": {
      "text/plain": [
       "True"
      ]
     },
     "execution_count": 119,
     "metadata": {},
     "output_type": "execute_result"
    }
   ],
   "source": []
  },
  {
   "cell_type": "code",
   "execution_count": null,
   "id": "84bdea48",
   "metadata": {},
   "outputs": [],
   "source": []
  }
 ],
 "metadata": {
  "kernelspec": {
   "display_name": "Python 3",
   "language": "python",
   "name": "python3"
  }
 },
 "nbformat": 4,
 "nbformat_minor": 5
}
