{
 "cells": [
  {
   "cell_type": "code",
   "execution_count": 3,
   "id": "moved-bridal",
   "metadata": {},
   "outputs": [
    {
     "data": {
      "text/plain": [
       "<module 'cloud_classifier' from '/home/squidy/tropos/notebooks/../cloud_classifier/cloud_classifier.py'>"
      ]
     },
     "execution_count": 3,
     "metadata": {},
     "output_type": "execute_result"
    }
   ],
   "source": [
    "import sys\n",
    "sys.path.append('../cloud_classifier')\n",
    "import cloud_classifier\n",
    "import importlib\n",
    "importlib.reload(cloud_classifier)\n"
   ]
  },
  {
   "cell_type": "markdown",
   "id": "indirect-proxy",
   "metadata": {},
   "source": [
    "### Initalization\n",
    "\n",
    "#### Creation of a new Cloud Classifier Project\n",
    "A folder with the specified name will be created at the given path and the project will be initalized with default settings. Those settings can be afjusted by manualy changing the values of the setting files in the project folder or by using the  `cloud_classifier.set_parameter()` function to change specific parameters."
   ]
  },
  {
   "cell_type": "code",
   "execution_count": null,
   "id": "undefined-algebra",
   "metadata": {},
   "outputs": [],
   "source": [
    "cc = cloud_classifier.cloud_classifier()\n",
    "path = \"../classifiers\"\n",
    "name = \"new_classifier_2\"\n",
    "cc.create_new_project(name = name, path = path)"
   ]
  },
  {
   "cell_type": "markdown",
   "id": "available-quilt",
   "metadata": {
    "scrolled": false
   },
   "source": [
    "Alternativly an existing project oath can be set"
   ]
  },
  {
   "cell_type": "markdown",
   "id": "loving-implement",
   "metadata": {},
   "source": [
    "cc.set_project_path(\"../classifiers/new_classifier_1\")"
   ]
  },
  {
   "cell_type": "markdown",
   "id": "congressional-bachelor",
   "metadata": {},
   "source": [
    "### Training\n",
    "The `run_training_pipeline()` method uses the parameters saved in the project settings to automaticly extract training data according to the specifications, apply mask files, extract training vectors, apply preprocessing steps (if specified) and train the classifier.\n",
    "The used training data and the final classifier are stored in the project folder"
   ]
  },
  {
   "cell_type": "code",
   "execution_count": 5,
   "id": "5c594279",
   "metadata": {
    "scrolled": true
   },
   "outputs": [
    {
     "name": "stdout",
     "output_type": "stream",
     "text": [
      "Filelist created!\n",
      "Masked indices set!\n",
      "Removed 13 vectors for containig 'Nan' values\n",
      "Training data created!\n",
      "Classifier created!\n"
     ]
    }
   ],
   "source": [
    "cc.run_training_pipeline()"
   ]
  },
  {
   "cell_type": "markdown",
   "id": "broke-penetration",
   "metadata": {},
   "source": [
    "### Prediction\n",
    "\n",
    "The `run_prediction_pipeline()` laods a previously created classifier, generates an input file list according to the specifications and predicts labels for all given input files using the classifier. \n",
    "The Predicted labels are transformed into an xarray format and finally stored as netcdf file in the project folder.\n"
   ]
  },
  {
   "cell_type": "code",
   "execution_count": 6,
   "id": "3b47b4b1",
   "metadata": {
    "scrolled": true
   },
   "outputs": [
    {
     "name": "stdout",
     "output_type": "stream",
     "text": [
      "Input filelist created!\n",
      "Classifier loaded!\n",
      "Masked indices set!\n",
      "Removed 2235 vectors for containig 'Nan' values\n",
      "Input vectors created!\n",
      "Predicted Labels!\n",
      "Labels saved as nwcsaf_msevi-medi-20190318_1100_predicted.nc\n",
      "Removed 2235 vectors for containig 'Nan' values\n",
      "Input vectors created!\n",
      "Predicted Labels!\n",
      "Labels saved as nwcsaf_msevi-medi-20190316_0900_predicted.nc\n"
     ]
    }
   ],
   "source": [
    "cc.run_prediction_pipeline()"
   ]
  },
  {
   "cell_type": "code",
   "execution_count": null,
   "id": "c85a3ee8",
   "metadata": {},
   "outputs": [],
   "source": []
  },
  {
   "cell_type": "code",
   "execution_count": null,
   "id": "84bdea48",
   "metadata": {},
   "outputs": [],
   "source": []
  },
  {
   "cell_type": "code",
   "execution_count": null,
   "id": "0a586396",
   "metadata": {},
   "outputs": [],
   "source": []
  }
 ],
 "metadata": {
  "kernelspec": {
   "display_name": "tropos-Ssyp9URO",
   "language": "python",
   "name": "tropos-ssyp9uro"
  },
  "language_info": {
   "codemirror_mode": {
    "name": "ipython",
    "version": 3
   },
   "file_extension": ".py",
   "mimetype": "text/x-python",
   "name": "python",
   "nbconvert_exporter": "python",
   "pygments_lexer": "ipython3",
   "version": "3.8.10"
  }
 },
 "nbformat": 4,
 "nbformat_minor": 5
}
