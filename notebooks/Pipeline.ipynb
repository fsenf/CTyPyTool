{
 "cells": [
  {
   "cell_type": "code",
   "execution_count": 102,
   "id": "moved-bridal",
   "metadata": {},
   "outputs": [
    {
     "data": {
      "text/plain": [
       "<module 'cloud_classifier' from '/home/squidy/tropos/notebooks/../cloud_classifier/cloud_classifier.py'>"
      ]
     },
     "execution_count": 102,
     "metadata": {},
     "output_type": "execute_result"
    }
   ],
   "source": [
    "import sys\n",
    "sys.path.append('../cloud_classifier')\n",
    "\n",
    "import cloud_classifier\n",
    "import importlib\n",
    "importlib.reload(cloud_classifier)"
   ]
  },
  {
   "cell_type": "code",
   "execution_count": 103,
   "id": "general-tulsa",
   "metadata": {
    "scrolled": true
   },
   "outputs": [],
   "source": [
    "new_pipeline = cloud_classifier.cloud_classifier()\n"
   ]
  },
  {
   "cell_type": "code",
   "execution_count": 104,
   "id": "a61104bc",
   "metadata": {},
   "outputs": [
    {
     "name": "stdout",
     "output_type": "stream",
     "text": [
      "Could not initalize project settings at given location\n"
     ]
    },
    {
     "data": {
      "text/plain": [
       "0"
      ]
     },
     "execution_count": 104,
     "metadata": {},
     "output_type": "execute_result"
    }
   ],
   "source": [
    "new_pipeline.create_new_project(\"new_classifier_1\", \"../classifiers\")"
   ]
  },
  {
   "cell_type": "code",
   "execution_count": 105,
   "id": "3b47b4b1",
   "metadata": {},
   "outputs": [],
   "source": [
    "new_pipeline.data_handler.generate_filelist_from_folder(folder =  \"../data/cloud-typing-data/\")"
   ]
  },
  {
   "cell_type": "code",
   "execution_count": 106,
   "id": "19896c32",
   "metadata": {},
   "outputs": [],
   "source": [
    "new_pipeline.set_project_path(\"../classifiers/new_classifier_1\")"
   ]
  },
  {
   "cell_type": "code",
   "execution_count": 107,
   "id": "84bdea48",
   "metadata": {},
   "outputs": [],
   "source": [
    "new_pipeline.save_project()"
   ]
  },
  {
   "cell_type": "code",
   "execution_count": 109,
   "id": "959e760a",
   "metadata": {},
   "outputs": [
    {
     "ename": "AttributeError",
     "evalue": "'data_handler' object has no attribute 'training_data'",
     "output_type": "error",
     "traceback": [
      "\u001b[0;31m---------------------------------------------------------------------------\u001b[0m",
      "\u001b[0;31mAttributeError\u001b[0m                            Traceback (most recent call last)",
      "\u001b[0;32m<ipython-input-109-b84a834b4a80>\u001b[0m in \u001b[0;36m<module>\u001b[0;34m\u001b[0m\n\u001b[1;32m      1\u001b[0m \u001b[0mnp\u001b[0m \u001b[0;34m=\u001b[0m \u001b[0mcloud_classifier\u001b[0m\u001b[0;34m.\u001b[0m\u001b[0mcloud_classifier\u001b[0m\u001b[0;34m(\u001b[0m\u001b[0;34m)\u001b[0m\u001b[0;34m\u001b[0m\u001b[0;34m\u001b[0m\u001b[0m\n\u001b[1;32m      2\u001b[0m \u001b[0mnp\u001b[0m\u001b[0;34m.\u001b[0m\u001b[0mload_project\u001b[0m\u001b[0;34m(\u001b[0m\u001b[0;34m\"../classifiers/new_classifier_1\"\u001b[0m\u001b[0;34m)\u001b[0m\u001b[0;34m\u001b[0m\u001b[0;34m\u001b[0m\u001b[0m\n\u001b[0;32m----> 3\u001b[0;31m \u001b[0mnp\u001b[0m\u001b[0;34m.\u001b[0m\u001b[0mdata_handler\u001b[0m\u001b[0;34m.\u001b[0m\u001b[0mtraining_data\u001b[0m\u001b[0;34m\u001b[0m\u001b[0;34m\u001b[0m\u001b[0m\n\u001b[0m",
      "\u001b[0;31mAttributeError\u001b[0m: 'data_handler' object has no attribute 'training_data'"
     ]
    }
   ],
   "source": [
    "np = cloud_classifier.cloud_classifier()\n",
    "np.load_project(\"../classifiers/new_classifier_1\")\n",
    "np.data_handler.training_sets"
   ]
  },
  {
   "cell_type": "code",
   "execution_count": null,
   "id": "a7e37b46",
   "metadata": {},
   "outputs": [],
   "source": []
  }
 ],
 "metadata": {
  "kernelspec": {
   "display_name": "Python 3",
   "language": "python",
   "name": "python3"
  },
  "language_info": {
   "codemirror_mode": {
    "name": "ipython",
    "version": 3
   },
   "file_extension": ".py",
   "mimetype": "text/x-python",
   "name": "python",
   "nbconvert_exporter": "python",
   "pygments_lexer": "ipython3",
   "version": "3.8.10"
  }
 },
 "nbformat": 4,
 "nbformat_minor": 5
}
