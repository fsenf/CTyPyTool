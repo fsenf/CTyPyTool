{
 "cells": [
  {
   "cell_type": "code",
   "execution_count": 1,
   "id": "moved-bridal",
   "metadata": {},
   "outputs": [
    {
     "ename": "ModuleNotFoundError",
     "evalue": "No module named 'shapefile'",
     "output_type": "error",
     "traceback": [
      "\u001b[0;31m---------------------------------------------------------------------------\u001b[0m",
      "\u001b[0;31mModuleNotFoundError\u001b[0m                       Traceback (most recent call last)",
      "\u001b[0;32m<ipython-input-1-4d469fddde2b>\u001b[0m in \u001b[0;36m<module>\u001b[0;34m\u001b[0m\n\u001b[1;32m      1\u001b[0m \u001b[0;32mimport\u001b[0m \u001b[0msys\u001b[0m\u001b[0;34m\u001b[0m\u001b[0;34m\u001b[0m\u001b[0m\n\u001b[1;32m      2\u001b[0m \u001b[0msys\u001b[0m\u001b[0;34m.\u001b[0m\u001b[0mpath\u001b[0m\u001b[0;34m.\u001b[0m\u001b[0mappend\u001b[0m\u001b[0;34m(\u001b[0m\u001b[0;34m'../cloud_classifier'\u001b[0m\u001b[0;34m)\u001b[0m\u001b[0;34m\u001b[0m\u001b[0;34m\u001b[0m\u001b[0m\n\u001b[0;32m----> 3\u001b[0;31m \u001b[0;32mimport\u001b[0m \u001b[0mshapefile\u001b[0m\u001b[0;34m\u001b[0m\u001b[0;34m\u001b[0m\u001b[0m\n\u001b[0m\u001b[1;32m      4\u001b[0m \u001b[0;32mimport\u001b[0m \u001b[0mcloud_classifier\u001b[0m\u001b[0;34m\u001b[0m\u001b[0;34m\u001b[0m\u001b[0m\n\u001b[1;32m      5\u001b[0m \u001b[0;32mimport\u001b[0m \u001b[0mimportlib\u001b[0m\u001b[0;34m\u001b[0m\u001b[0;34m\u001b[0m\u001b[0m\n",
      "\u001b[0;31mModuleNotFoundError\u001b[0m: No module named 'shapefile'"
     ]
    }
   ],
   "source": [
    "import sys\n",
    "sys.path.append('../cloud_classifier')\n",
    "import shapefile\n",
    "import cloud_classifier\n",
    "import importlib\n",
    "importlib.reload(cloud_classifier)\n"
   ]
  },
  {
   "cell_type": "code",
   "execution_count": 7,
   "id": "general-tulsa",
   "metadata": {
    "scrolled": false
   },
   "outputs": [],
   "source": [
    "cc = cloud_classifier.cloud_classifier()\n"
   ]
  },
  {
   "cell_type": "code",
   "execution_count": 8,
   "id": "5c594279",
   "metadata": {
    "scrolled": true
   },
   "outputs": [
    {
     "name": "stdout",
     "output_type": "stream",
     "text": [
      "Filelist created!\n",
      "Masked indices set!\n",
      "Removed 28 vectors for containig 'Nan' values\n",
      "Training data created!\n",
      "Classifier created!\n"
     ]
    }
   ],
   "source": [
    "path = \"../classifiers\"\n",
    "name = \"new_classifier_1\"\n",
    "cc.create_new_project(name = name, path = path)\n",
    "cc.run_training_pipeline()\n",
    "\n",
    "#cc.set_project_path(\"../classifiers/new_classifier_1\")"
   ]
  },
  {
   "cell_type": "code",
   "execution_count": 11,
   "id": "3b47b4b1",
   "metadata": {
    "scrolled": true
   },
   "outputs": [
    {
     "name": "stdout",
     "output_type": "stream",
     "text": [
      "Input filelist created!\n",
      "Classifier loaded!\n",
      "Masked indices set!\n",
      "Removed 2235 vectors for containig 'Nan' values\n",
      "Input vectors created!\n",
      "Predicted Labels!\n",
      "Labels saved as nwcsaf_msevi-medi-20190318_1100_predicted.nc\n",
      "Removed 2235 vectors for containig 'Nan' values\n",
      "Input vectors created!\n",
      "Predicted Labels!\n",
      "Labels saved as nwcsaf_msevi-medi-20190316_0900_predicted.nc\n"
     ]
    }
   ],
   "source": [
    "cc.run_prediction_pipeline()"
   ]
  },
  {
   "cell_type": "code",
   "execution_count": null,
   "id": "c85a3ee8",
   "metadata": {},
   "outputs": [],
   "source": []
  },
  {
   "cell_type": "code",
   "execution_count": null,
   "id": "84bdea48",
   "metadata": {},
   "outputs": [],
   "source": []
  },
  {
   "cell_type": "code",
   "execution_count": null,
   "id": "0a586396",
   "metadata": {},
   "outputs": [],
   "source": []
  }
 ],
 "metadata": {
  "kernelspec": {
   "display_name": "Python 3",
   "language": "python",
   "name": "python3"
  },
  "language_info": {
   "codemirror_mode": {
    "name": "ipython",
    "version": 3
   },
   "file_extension": ".py",
   "mimetype": "text/x-python",
   "name": "python",
   "nbconvert_exporter": "python",
   "pygments_lexer": "ipython3",
   "version": "3.8.10"
  }
 },
 "nbformat": 4,
 "nbformat_minor": 5
}
