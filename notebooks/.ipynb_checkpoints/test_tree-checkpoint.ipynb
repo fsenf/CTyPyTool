{
 "cells": [
  {
   "cell_type": "code",
   "execution_count": 3,
   "id": "honey-phone",
   "metadata": {},
   "outputs": [
    {
     "data": {
      "text/plain": [
       "'3.8.5'"
      ]
     },
     "execution_count": 3,
     "metadata": {},
     "output_type": "execute_result"
    }
   ],
   "source": [
    "import platform \n",
    "platform.python_version()"
   ]
  },
  {
   "cell_type": "code",
   "execution_count": 14,
   "id": "greek-northeast",
   "metadata": {
    "scrolled": true
   },
   "outputs": [],
   "source": [
    "import numpy as np \n",
    "import pandas as pd \n",
    "import matplotlib.pyplot as plt \n",
    "from sklearn import tree\n",
    "from sklearn.tree import export_text\n",
    "from sklearn.datasets import load_iris\n",
    "import matplotlib\n",
    "import graphviz\n",
    "\n",
    "iris = load_iris()\n",
    "\n",
    "#print(iris.data)\n",
    "\n",
    "\n",
    "tree_classifier = tree.DecisionTreeClassifier()\n",
    "tree_classifier.fit(iris.data, iris.target)\n",
    "\n",
    "#r = tree.export_text(tree_classifier, feature_names=iris['feature_names'])#\n",
    "#print(r)\n",
    "\n",
    "dot_data = tree.export_graphviz(tree_classifier, feature_names=iris['feature_names'])\n",
    "print(dot_data)\n",
    "graph = graphviz.Source(dot_data)\n",
    "graph.render()  \n"
   ]
  },
  {
   "cell_type": "code",
   "execution_count": null,
   "id": "after-coast",
   "metadata": {},
   "outputs": [],
   "source": []
  },
  {
   "cell_type": "code",
   "execution_count": null,
   "id": "forward-covering",
   "metadata": {},
   "outputs": [],
   "source": []
  }
 ],
 "metadata": {
  "kernelspec": {
   "display_name": "Python 3",
   "language": "python",
   "name": "python3"
  },
  "language_info": {
   "codemirror_mode": {
    "name": "ipython",
    "version": 3
   },
   "file_extension": ".py",
   "mimetype": "text/x-python",
   "name": "python",
   "nbconvert_exporter": "python",
   "pygments_lexer": "ipython3",
   "version": "3.8.5"
  }
 },
 "nbformat": 4,
 "nbformat_minor": 5
}
