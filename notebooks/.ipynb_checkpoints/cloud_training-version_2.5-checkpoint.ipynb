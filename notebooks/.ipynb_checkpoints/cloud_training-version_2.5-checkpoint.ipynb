{
 "cells": [
  {
   "cell_type": "markdown",
   "id": "controlled-aruba",
   "metadata": {},
   "source": [
    "### Import Libraries"
   ]
  },
  {
   "cell_type": "code",
   "execution_count": 3,
   "id": "living-exchange",
   "metadata": {},
   "outputs": [],
   "source": [
    "import numpy as np\n",
    "import xarray as xr\n",
    "import h5py \n",
    "import random\n",
    "\n",
    "from sklearn import tree\n",
    "import graphviz\n",
    "\n",
    "import matplotlib.pyplot as plt\n",
    "import cartopy.crs as ccrs\n",
    "import cartopy\n"
   ]
  },
  {
   "cell_type": "markdown",
   "id": "caroline-might",
   "metadata": {},
   "source": [
    "### Define Plotting Methods"
   ]
  },
  {
   "cell_type": "code",
   "execution_count": 4,
   "id": "linear-value",
   "metadata": {},
   "outputs": [
    {
     "data": {
      "text/plain": [
       "<module 'plotting' from '../tools/plotting.py'>"
      ]
     },
     "execution_count": 4,
     "metadata": {},
     "output_type": "execute_result"
    }
   ],
   "source": [
    "import sys\n",
    "sys.path.append('../tools')\n",
    "\n",
    "import training\n",
    "import plotting\n",
    "import io\n",
    "\n",
    "import importlib\n",
    "\n",
    "importlib.reload(training)\n",
    "importlib.reload(plotting)\n",
    "importlib.reload(io)\n"
   ]
  },
  {
   "cell_type": "markdown",
   "id": "local-evolution",
   "metadata": {},
   "source": [
    "#### Define Functions for data extraction"
   ]
  },
  {
   "cell_type": "code",
   "execution_count": 5,
   "id": "inclusive-helen",
   "metadata": {},
   "outputs": [],
   "source": []
  },
  {
   "cell_type": "code",
   "execution_count": 6,
   "id": "rotary-roots",
   "metadata": {},
   "outputs": [],
   "source": []
  },
  {
   "cell_type": "markdown",
   "id": "dress-monte",
   "metadata": {},
   "source": [
    "##### Read trainig-data"
   ]
  },
  {
   "cell_type": "code",
   "execution_count": 7,
   "id": "specified-spider",
   "metadata": {},
   "outputs": [],
   "source": [
    "data_directory = \"../data/\"\n",
    "filename_labels = \"nwcsaf_msevi-nawdex-20160925.nc\"\n",
    "filename_data = \"msevi-nawdex-20160925.nc\"\n",
    "filename_mask = \"region_masks_for_msevi_nawdex.h5\"\n",
    "\n",
    "sat_data = xr.open_dataset(data_directory+filename_data)\n",
    "label_data = xr.open_dataset(data_directory+filename_labels)\n",
    "mask_data = h5py.File(data_directory+filename_mask, 'r')\n",
    "\n",
    "lons = sat_data['lon']\n",
    "lats = sat_data['lat']\n",
    "\n",
    "\n"
   ]
  },
  {
   "cell_type": "markdown",
   "id": "female-utilization",
   "metadata": {},
   "source": [
    "##### Convert mask to xr-Dataset"
   ]
  },
  {
   "cell_type": "code",
   "execution_count": 8,
   "id": "raised-armor",
   "metadata": {},
   "outputs": [],
   "source": [
    "dims = ['rows', 'cols']\n",
    "coords = {'lat': sat_data.coords['lat'], 'lon':sat_data.coords['lon']}\n",
    "\n",
    "mask_ds = xr.Dataset()\n",
    "for key in mask_data.keys():\n",
    "\tif key == \"_source\":\n",
    "\t\tcontinue\n",
    "\tm = xr.DataArray([row for row in mask_data[key]], dims = dims, coords = coords, name = key + \"_mask\")\n",
    "\tmask_ds[key + \"_mask\"] = m\n",
    "\n",
    "    "
   ]
  },
  {
   "cell_type": "markdown",
   "id": "likely-capability",
   "metadata": {},
   "source": [
    "##### create masked indices and discard those pointing to 'nan's"
   ]
  },
  {
   "cell_type": "code",
   "execution_count": 9,
   "id": "surprising-marble",
   "metadata": {
    "scrolled": true
   },
   "outputs": [
    {
     "name": "stdout",
     "output_type": "stream",
     "text": [
      "1 positions deleted for including nan-values.\n",
      "2 positions deleted for including nan-values.\n",
      "1 positions deleted for including nan-values.\n",
      "0 positions deleted for including nan-values.\n",
      "0 positions deleted for including nan-values.\n",
      "0 positions deleted for including nan-values.\n",
      "0 positions deleted for including nan-values.\n",
      "0 positions deleted for including nan-values.\n",
      "0 positions deleted for including nan-values.\n",
      "0 positions deleted for including nan-values.\n",
      "0 positions deleted for including nan-values.\n",
      "0 positions deleted for including nan-values.\n",
      "0 positions deleted for including nan-values.\n",
      "0 positions deleted for including nan-values.\n",
      "0 positions deleted for including nan-values.\n",
      "0 positions deleted for including nan-values.\n",
      "0 positions deleted for including nan-values.\n",
      "0 positions deleted for including nan-values.\n",
      "0 positions deleted for including nan-values.\n",
      "0 positions deleted for including nan-values.\n",
      "5 positions deleted for including nan-values.\n",
      "1 positions deleted for including nan-values.\n",
      "14 positions deleted for including nan-values.\n",
      "0 positions deleted for including nan-values.\n"
     ]
    }
   ],
   "source": [
    "clean_indeces = np.where(mask_ds[\"mediterranean_mask\"])\n",
    "for i in range(24):\n",
    "    a,b = extractLearningData(sat_data, label_data, clean_indeces, hour = i)\n",
    "    #print(b.shape)\n",
    "    _, _, clean_indeces = io.clean_data(a,b,clean_indeces)\n",
    "\n"
   ]
  },
  {
   "cell_type": "markdown",
   "id": "collect-suspect",
   "metadata": {},
   "source": [
    "##### Extract trainig samples and corresponding labels"
   ]
  },
  {
   "cell_type": "code",
   "execution_count": 10,
   "id": "complimentary-relaxation",
   "metadata": {},
   "outputs": [],
   "source": [
    "\n",
    "n = 1000\n",
    "# number of points from the mapped dataset choose for learning \n",
    "#(each point is sampled 24x, once for every timeframe)\n",
    "\n",
    "# create a selection of 'n' index-pairs\n",
    "selection = np.array(random.sample(list(zip(clean_indeces[0],clean_indeces[1])),n))\n",
    "s = selection.shape\n",
    "selection = selection.flatten().reshape(s[1],s[0],order = 'F')\n",
    "\n",
    "training_data = np.empty([0,8])\n",
    "training_labels = np.array([])\n",
    "# get values for each selected point for each hour\n",
    "for i in range(24):\n",
    "    a,b = extractLearningData(sat_data, label_data,selection, hour = i)\n",
    "    training_data = np.append(training_data, a, axis=0)\n",
    "    training_labels = np.append(training_labels, b, axis=0)\n",
    "\n",
    "training_data = np.array(training_data)\n",
    "#print(training_data.shape)\n",
    "#print(training_labels.shape)\n",
    "    "
   ]
  },
  {
   "cell_type": "markdown",
   "id": "informed-macintosh",
   "metadata": {},
   "source": [
    "##### Train classifier with selected data"
   ]
  },
  {
   "cell_type": "code",
   "execution_count": 11,
   "id": "balanced-quest",
   "metadata": {},
   "outputs": [
    {
     "data": {
      "text/plain": [
       "DecisionTreeClassifier()"
      ]
     },
     "execution_count": 11,
     "metadata": {},
     "output_type": "execute_result"
    }
   ],
   "source": [
    "cl = tree.DecisionTreeClassifier()\n",
    "cl.fit(training_data, training_labels)"
   ]
  },
  {
   "cell_type": "markdown",
   "id": "integral-costs",
   "metadata": {},
   "source": [
    "##### Read test data"
   ]
  },
  {
   "cell_type": "code",
   "execution_count": 12,
   "id": "acute-wallet",
   "metadata": {},
   "outputs": [
    {
     "name": "stdout",
     "output_type": "stream",
     "text": [
      "0 positions deleted for including nan-values.\n"
     ]
    }
   ],
   "source": [
    "filename_testlabels = \"nwcsaf_msevi-nawdex-20160920.nc\"\n",
    "filename_testdata = \"msevi-nawdex-20160920.nc\"\n",
    "hour = 12\n",
    "\n",
    "raw_test_data = xr.open_dataset(data_directory+filename_testdata)\n",
    "raw_test_label = xr.open_dataset(data_directory+filename_testlabels)\n",
    "\n",
    "\n",
    "test_indices = np.where(mask_ds[\"mediterranean_mask\"])\n",
    "test_data, test_labels = extractLearningData(raw_test_data, raw_test_label, test_indices, hour)\n",
    "test_data, test_labels, test_indices = cleanData(test_data, test_labels, test_indices)\n"
   ]
  },
  {
   "cell_type": "markdown",
   "id": "acute-flood",
   "metadata": {},
   "source": [
    "#### Evaluate model"
   ]
  },
  {
   "cell_type": "code",
   "execution_count": 13,
   "id": "external-clause",
   "metadata": {},
   "outputs": [
    {
     "name": "stdout",
     "output_type": "stream",
     "text": [
      "Correctly identified 124822 out of 171396 labels! \n",
      "Positve rate is: 0.728267\n"
     ]
    }
   ],
   "source": [
    "pred_labels = cl.predict(test_data)\n",
    "\n",
    "correct = np.sum(pred_labels == test_labels)\n",
    "total = len(pred_labels)\n",
    "print(\"Correctly identified %i out of %i labels! \\nPositve rate is: %f\" % (correct, total, correct/total))"
   ]
  },
  {
   "cell_type": "markdown",
   "id": "based-exploration",
   "metadata": {},
   "source": [
    "#### Return data-vectors into the form of the original dataset (xarray)"
   ]
  },
  {
   "cell_type": "code",
   "execution_count": 14,
   "id": "republican-designation",
   "metadata": {},
   "outputs": [],
   "source": [
    "def imbedData(data, indices, shape, dims, coords, name):\n",
    "    new_data = np.empty(shape)\n",
    "    new_data[:] = np.nan\n",
    "    \n",
    "    new_data[indices[0],indices[1]] = data\n",
    "    new_data = xr.DataArray(new_data, dims = dims, coords = coords, name = name)\n",
    "    return new_data\n",
    "    "
   ]
  },
  {
   "cell_type": "code",
   "execution_count": 15,
   "id": "fresh-province",
   "metadata": {
    "scrolled": false
   },
   "outputs": [],
   "source": [
    "dims = ['rows', 'cols']\n",
    "coords = {'lat': sat_data.coords['lat'], 'lon':sat_data.coords['lon']}\n",
    "\n",
    "pred_labels_imb = imbedData(pred_labels, test_indices, lons.shape, dims, coords, \"predicted_labels\")\n",
    "test_labels_imb = imbedData(test_labels, test_indices, lons.shape, dims, coords, \"real_labels\")\n",
    "\n",
    "lats_masked = lats.where(mask_ds[\"mediterranean_mask\"])\n",
    "lons_masked = lons.where(mask_ds[\"mediterranean_mask\"])\n"
   ]
  },
  {
   "cell_type": "code",
   "execution_count": 17,
   "id": "peaceful-wrist",
   "metadata": {},
   "outputs": [
    {
     "data": {
      "image/png": "[encoded data removed]",
      "text/plain": [
       "<Figure size 864x288 with 1 Axes>"
      ]
     },
     "metadata": {
      "needs_background": "light"
     },
     "output_type": "display_data"
    }
   ],
   "source": [
    "plotting.plot_data(pred_labels_imb, lons_masked, lats_masked)"
   ]
  },
  {
   "cell_type": "code",
   "execution_count": null,
   "id": "median-broadcast",
   "metadata": {},
   "outputs": [],
   "source": [
    "plotting.plot_data(test_labels_imb, lons_masked, lats_masked)"
   ]
  },
  {
   "cell_type": "markdown",
   "id": "latter-valentine",
   "metadata": {},
   "source": [
    "### test stuff and such"
   ]
  },
  {
   "cell_type": "code",
   "execution_count": null,
   "id": "generic-routine",
   "metadata": {},
   "outputs": [],
   "source": [
    "a = np.array([[1,2,3],[1,4,10]])\n",
    "a = training.create_difference_vectors(a)\n",
    "print(a)"
   ]
  },
  {
   "cell_type": "code",
   "execution_count": null,
   "id": "brief-absence",
   "metadata": {},
   "outputs": [],
   "source": [
    "\n",
    "print(training_data.shape)\n",
    "new_training_data = training.create_difference_vectors(training_data,keep_original_values = True)\n",
    "print(new_training_data.shape)\n",
    "\n",
    "new_training_data = training.create_difference_vectors(training_data,keep_original_values = False)\n",
    "print(new_training_data.shape)"
   ]
  },
  {
   "cell_type": "code",
   "execution_count": null,
   "id": "limiting-custody",
   "metadata": {},
   "outputs": [],
   "source": [
    "a,b = extractLearningData(sat_data, label_data, mapped_indeces)\n",
    "print(a.shape)\n",
    "print(b.shape)\n",
    "print(mapped_indeces[0].shape)\n",
    "\n",
    "clean_data, clean_labels,clean_indeces = cleanData(a,b,mapped_indeces)\n",
    "print(clean_labels.shape)"
   ]
  },
  {
   "cell_type": "code",
   "execution_count": null,
   "id": "advance-filter",
   "metadata": {},
   "outputs": [],
   "source": [
    "\n",
    "\n"
   ]
  },
  {
   "cell_type": "code",
   "execution_count": null,
   "id": "positive-southwest",
   "metadata": {
    "scrolled": true
   },
   "outputs": [],
   "source": [
    "a = np.array([[1,2,3,4,5],[9,8,9,7,9], [11,11,11,11,11]])\n",
    "a.flatten().reshape((5,3), order='F')"
   ]
  },
  {
   "cell_type": "markdown",
   "id": "black-grenada",
   "metadata": {},
   "source": []
  },
  {
   "cell_type": "code",
   "execution_count": null,
   "id": "informal-austin",
   "metadata": {},
   "outputs": [],
   "source": []
  },
  {
   "cell_type": "code",
   "execution_count": null,
   "id": "opponent-furniture",
   "metadata": {},
   "outputs": [],
   "source": []
  }
 ],
 "metadata": {
  "kernelspec": {
   "display_name": "Python 3",
   "language": "python",
   "name": "python3"
  },
  "language_info": {
   "codemirror_mode": {
    "name": "ipython",
    "version": 3
   },
   "file_extension": ".py",
   "mimetype": "text/x-python",
   "name": "python",
   "nbconvert_exporter": "python",
   "pygments_lexer": "ipython3",
   "version": "3.8.5"
  }
 },
 "nbformat": 4,
 "nbformat_minor": 5
}
