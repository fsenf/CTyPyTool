{
 "cells": [
  {
   "cell_type": "code",
   "execution_count": 27,
   "id": "headed-hampshire",
   "metadata": {},
   "outputs": [
    {
     "ename": "IndentationError",
     "evalue": "expected an indented block (data_handler.py, line 10)",
     "output_type": "error",
     "traceback": [
      "Traceback \u001b[0;36m(most recent call last)\u001b[0m:\n",
      "  File \u001b[1;32m\"/home/squidy/.local/lib/python3.8/site-packages/IPython/core/interactiveshell.py\"\u001b[0m, line \u001b[1;32m3418\u001b[0m, in \u001b[1;35mrun_code\u001b[0m\n    exec(code_obj, self.user_global_ns, self.user_ns)\n",
      "  File \u001b[1;32m\"<ipython-input-27-b52312c792e0>\"\u001b[0m, line \u001b[1;32m6\u001b[0m, in \u001b[1;35m<module>\u001b[0m\n    importlib.reload(cloud_classifier)\n",
      "  File \u001b[1;32m\"/usr/lib/python3.8/importlib/__init__.py\"\u001b[0m, line \u001b[1;32m169\u001b[0m, in \u001b[1;35mreload\u001b[0m\n    _bootstrap._exec(spec, module)\n",
      "  File \u001b[1;32m\"<frozen importlib._bootstrap>\"\u001b[0m, line \u001b[1;32m604\u001b[0m, in \u001b[1;35m_exec\u001b[0m\n",
      "  File \u001b[1;32m\"<frozen importlib._bootstrap_external>\"\u001b[0m, line \u001b[1;32m783\u001b[0m, in \u001b[1;35mexec_module\u001b[0m\n",
      "  File \u001b[1;32m\"<frozen importlib._bootstrap>\"\u001b[0m, line \u001b[1;32m219\u001b[0m, in \u001b[1;35m_call_with_frames_removed\u001b[0m\n",
      "  File \u001b[1;32m\"../cloud_classifier/cloud_classifier.py\"\u001b[0m, line \u001b[1;32m17\u001b[0m, in \u001b[1;35m<module>\u001b[0m\n    importlib.reload(dh)\n",
      "  File \u001b[1;32m\"/usr/lib/python3.8/importlib/__init__.py\"\u001b[0m, line \u001b[1;32m169\u001b[0m, in \u001b[1;35mreload\u001b[0m\n    _bootstrap._exec(spec, module)\n",
      "  File \u001b[1;32m\"<frozen importlib._bootstrap>\"\u001b[0m, line \u001b[1;32m604\u001b[0m, in \u001b[1;35m_exec\u001b[0m\n",
      "  File \u001b[1;32m\"<frozen importlib._bootstrap_external>\"\u001b[0m, line \u001b[1;32m779\u001b[0m, in \u001b[1;35mexec_module\u001b[0m\n",
      "  File \u001b[1;32m\"<frozen importlib._bootstrap_external>\"\u001b[0m, line \u001b[1;32m916\u001b[0m, in \u001b[1;35mget_code\u001b[0m\n",
      "  File \u001b[1;32m\"<frozen importlib._bootstrap_external>\"\u001b[0m, line \u001b[1;32m846\u001b[0m, in \u001b[1;35msource_to_code\u001b[0m\n",
      "\u001b[0;36m  File \u001b[0;32m\"<frozen importlib._bootstrap>\"\u001b[0;36m, line \u001b[0;32m219\u001b[0;36m, in \u001b[0;35m_call_with_frames_removed\u001b[0;36m\u001b[0m\n",
      "\u001b[0;36m  File \u001b[0;32m\"../cloud_classifier/tools/data_handler.py\"\u001b[0;36m, line \u001b[0;32m10\u001b[0m\n\u001b[0;31m    \"\"\"\u001b[0m\n\u001b[0m    ^\u001b[0m\n\u001b[0;31mIndentationError\u001b[0m\u001b[0;31m:\u001b[0m expected an indented block\n"
     ]
    }
   ],
   "source": [
    "import sys\n",
    "sys.path.append('../cloud_classifier')\n",
    "\n",
    "import cloud_classifier\n",
    "import importlib\n",
    "importlib.reload(cloud_classifier)\n",
    "\n",
    "cc = cloud_classifier.cloud_classifier()"
   ]
  },
  {
   "cell_type": "code",
   "execution_count": null,
   "id": "personalized-embassy",
   "metadata": {},
   "outputs": [],
   "source": []
  },
  {
   "cell_type": "code",
   "execution_count": null,
   "id": "atomic-scotland",
   "metadata": {},
   "outputs": [],
   "source": [
    "#cc.extract_training_vectors()"
   ]
  },
  {
   "cell_type": "code",
   "execution_count": null,
   "id": "perceived-visiting",
   "metadata": {},
   "outputs": [],
   "source": [
    "data_1 = \"../data/msevi-nawdex-20160920.nc\"\n",
    "labels_1 = \"../data/nwcsaf_msevi-nawdex-20160920.nc\"\n",
    "data_2 = \"../data/msevi-nawdex-20160925.nc\"\n",
    "labels_2 = \"../data/nwcsaf_msevi-nawdex-20160925.nc\"\n",
    "data_3 = \"../data/msevi-nawdex-20160930.nc\"\n",
    "labels_3 = \"../data/nwcsaf_msevi-nawdex-20160930.nc\"\n",
    "cc.add_training_set(data_1, labels_1)\n",
    "cc.add_training_set(data_2, labels_2)\n",
    "cc.add_training_set(data_3, labels_3)"
   ]
  },
  {
   "cell_type": "code",
   "execution_count": null,
   "id": "cosmetic-audience",
   "metadata": {},
   "outputs": [],
   "source": [
    "mask = \"../data/region_masks_for_msevi_nawdex.h5\"\n",
    "\n",
    "cc.set_mask(mask, \"mediterranean\")\n",
    "cc.set_paremeters(1000, range(24), False, False, \"Forest\",False)\n",
    "\n",
    "name = \"../training_set1\"\n"
   ]
  },
  {
   "cell_type": "markdown",
   "id": "conditional-coating",
   "metadata": {},
   "source": [
    "#### (Create and Save) / Load training vectors, uncomment accordingly"
   ]
  },
  {
   "cell_type": "code",
   "execution_count": null,
   "id": "directed-campbell",
   "metadata": {},
   "outputs": [],
   "source": [
    "cc.create_training_vectors()\n",
    "cc.save_training_vector_set(name)\n",
    "#cc.load_training_vector_set(name)"
   ]
  },
  {
   "cell_type": "code",
   "execution_count": null,
   "id": "phantom-strip",
   "metadata": {},
   "outputs": [],
   "source": [
    "cc.evaluate_parameters(max_depth = None, verbose = False)"
   ]
  },
  {
   "cell_type": "code",
   "execution_count": null,
   "id": "nominated-monkey",
   "metadata": {},
   "outputs": [],
   "source": []
  },
  {
   "cell_type": "code",
   "execution_count": null,
   "id": "excessive-anniversary",
   "metadata": {},
   "outputs": [],
   "source": []
  },
  {
   "cell_type": "code",
   "execution_count": null,
   "id": "rapid-cement",
   "metadata": {},
   "outputs": [],
   "source": []
  },
  {
   "cell_type": "code",
   "execution_count": null,
   "id": "cardiac-opportunity",
   "metadata": {},
   "outputs": [],
   "source": []
  },
  {
   "cell_type": "code",
   "execution_count": null,
   "id": "textile-reality",
   "metadata": {},
   "outputs": [],
   "source": []
  },
  {
   "cell_type": "code",
   "execution_count": null,
   "id": "departmental-signature",
   "metadata": {},
   "outputs": [],
   "source": []
  }
 ],
 "metadata": {
  "kernelspec": {
   "display_name": "Python 3",
   "language": "python",
   "name": "python3"
  },
  "language_info": {
   "codemirror_mode": {
    "name": "ipython",
    "version": 3
   },
   "file_extension": ".py",
   "mimetype": "text/x-python",
   "name": "python",
   "nbconvert_exporter": "python",
   "pygments_lexer": "ipython3",
   "version": "3.8.5"
  }
 },
 "nbformat": 4,
 "nbformat_minor": 5
}
