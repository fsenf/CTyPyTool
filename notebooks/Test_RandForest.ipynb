{
 "cells": [
  {
   "cell_type": "code",
   "execution_count": 179,
   "id": "headed-hampshire",
   "metadata": {},
   "outputs": [],
   "source": [
    "import sys\n",
    "sys.path.append('../cloud_classifier')\n",
    "\n",
    "import cloud_classifier\n",
    "import importlib\n",
    "importlib.reload(cloud_classifier)\n",
    "\n",
    "cc = cloud_classifier.cloud_classifier()"
   ]
  },
  {
   "cell_type": "code",
   "execution_count": 180,
   "id": "atomic-scotland",
   "metadata": {},
   "outputs": [],
   "source": [
    "#cc.extract_training_vectors()"
   ]
  },
  {
   "cell_type": "code",
   "execution_count": 181,
   "id": "perceived-visiting",
   "metadata": {},
   "outputs": [],
   "source": [
    "data_1 = \"../data/msevi-nawdex-20160920.nc\"\n",
    "labels_1 = \"../data/nwcsaf_msevi-nawdex-20160920.nc\"\n",
    "data_2 = \"../data/msevi-nawdex-20160925.nc\"\n",
    "labels_2 = \"../data/nwcsaf_msevi-nawdex-20160925.nc\"\n",
    "data_3 = \"../data/msevi-nawdex-20160930.nc\"\n",
    "labels_3 = \"../data/nwcsaf_msevi-nawdex-20160930.nc\"\n",
    "cc.add_training_set(data_1, labels_1)\n",
    "cc.add_training_set(data_2, labels_2)\n",
    "cc.add_training_set(data_3, labels_3)"
   ]
  },
  {
   "cell_type": "code",
   "execution_count": 182,
   "id": "cosmetic-audience",
   "metadata": {},
   "outputs": [],
   "source": [
    "mask = \"../data/region_masks_for_msevi_nawdex.h5\"\n",
    "\n",
    "cc.set_mask(mask, \"mediterranean\")\n",
    "cc.set_paremeters(1000, range(24), True, True, \"Forest\")\n",
    "\n",
    "name = \"../training_set1\"\n"
   ]
  },
  {
   "cell_type": "markdown",
   "id": "conditional-coating",
   "metadata": {},
   "source": [
    "#### (Create and Save) / Load training vectors, uncomment accordingly"
   ]
  },
  {
   "cell_type": "code",
   "execution_count": 183,
   "id": "directed-campbell",
   "metadata": {},
   "outputs": [],
   "source": [
    "#cc.create_training_vectors()\n",
    "#cc.save_training_vector_set(name)\n",
    "cc.load_training_vector_set(name)\n"
   ]
  },
  {
   "cell_type": "code",
   "execution_count": 185,
   "id": "nominated-monkey",
   "metadata": {},
   "outputs": [],
   "source": [
    "#s = int(len(ccp_alphas)/50)\n",
    "#for alph in ccp_alphas[0::s]:\n",
    "#    cc.evaluate_parameters(max_depth = None, ccp_alpha = alph, verbose = True)\n"
   ]
  },
  {
   "cell_type": "code",
   "execution_count": 186,
   "id": "excessive-anniversary",
   "metadata": {},
   "outputs": [
    {
     "name": "stdout",
     "output_type": "stream",
     "text": [
      "Correctly identified 16058 out of 18000 labels! \n",
      "Positve rate is: 0.892111\n"
     ]
    }
   ],
   "source": [
    "r = cc.evaluate_parameters(max_depth = None, verbose = True)"
   ]
  },
  {
   "cell_type": "code",
   "execution_count": 119,
   "id": "rapid-cement",
   "metadata": {},
   "outputs": [],
   "source": [
    "#for i in range(4,30,2):\n",
    "#    print(\"max depth: \" + str(i))\n",
    "#    cc.evaluate_parameters(max_depth=i,ccp_alpha= 0, verbose = True)"
   ]
  },
  {
   "cell_type": "code",
   "execution_count": null,
   "id": "cardiac-opportunity",
   "metadata": {},
   "outputs": [],
   "source": []
  },
  {
   "cell_type": "code",
   "execution_count": null,
   "id": "textile-reality",
   "metadata": {},
   "outputs": [],
   "source": []
  },
  {
   "cell_type": "code",
   "execution_count": null,
   "id": "departmental-signature",
   "metadata": {},
   "outputs": [],
   "source": []
  }
 ],
 "metadata": {
  "kernelspec": {
   "display_name": "Python 3",
   "language": "python",
   "name": "python3"
  },
  "language_info": {
   "codemirror_mode": {
    "name": "ipython",
    "version": 3
   },
   "file_extension": ".py",
   "mimetype": "text/x-python",
   "name": "python",
   "nbconvert_exporter": "python",
   "pygments_lexer": "ipython3",
   "version": "3.8.5"
  }
 },
 "nbformat": 4,
 "nbformat_minor": 5
}
