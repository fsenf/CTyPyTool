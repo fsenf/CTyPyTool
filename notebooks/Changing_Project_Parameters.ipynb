{
 "cells": [
  {
   "cell_type": "markdown",
   "id": "dominican-haven",
   "metadata": {},
   "source": [
    "# Changing Project Parameters\n",
    "\n",
    "Before training a Classifier we often times want to change the type of classifier and other parameters.\n",
    "\n",
    "On project creation the classifier object is initalized with default values. Depending on our needs we want to change those parameter to more fitting values."
   ]
  },
  {
   "cell_type": "markdown",
   "id": "former-stage",
   "metadata": {},
   "source": [
    "At first we need to point python to the program folder. The path can be assigned as a relative path as shown below, or as an absolute system path.\n",
    "Than the module can be imported via the `import cloud_classifier` command."
   ]
  },
  {
   "cell_type": "code",
   "execution_count": 15,
   "id": "biological-pregnancy",
   "metadata": {},
   "outputs": [],
   "source": [
    "import sys\n",
    "sys.path.append('../cloud_classifier')\n",
    "import cloud_classifier"
   ]
  },
  {
   "cell_type": "markdown",
   "id": "future-florist",
   "metadata": {},
   "source": [
    "## Project creation\n",
    "Let's first create a new project. This time we want to train a Decison Tree classifier and choose a name for our project accordingly."
   ]
  },
  {
   "cell_type": "code",
   "execution_count": 16,
   "id": "pursuant-network",
   "metadata": {},
   "outputs": [
    {
     "name": "stdout",
     "output_type": "stream",
     "text": [
      "Project folder created succefully!\n"
     ]
    }
   ],
   "source": [
    "cc = cloud_classifier.cloud_classifier()\n",
    "cc.create_new_project(name=\"NewDecisionTreeClassifier\", path=\"../classifiers\")\n"
   ]
  },
  {
   "cell_type": "markdown",
   "id": "varied-polish",
   "metadata": {},
   "source": [
    "The new classifier will automatically be initalized with default parameters. Iinside of the project folder folder a new folder called `settings` was created, containing the files `config.json`, holding information about the type and parameters of classifier we want to use and the file `data_structure.json`, holding information about the structure of our used data files."
   ]
  },
  {
   "cell_type": "code",
   "execution_count": 18,
   "id": "direct-assault",
   "metadata": {},
   "outputs": [
    {
     "name": "stdout",
     "output_type": "stream",
     "text": [
      "{    \n",
      "    \"classifier_type\": \"Forest\",\n",
      "    \"max_depth\": 35,\n",
      "    \"ccp_alpha\": 0,\n",
      "    \"n_estimators\": 100,\n",
      "    \"feature_preselection\": false,\n",
      "    \"max_features\": null,\n",
      "    \"min_samples_split\" : 2,\n",
      "    \"merge_list\" : [],\n",
      "    \"difference_vectors\": true,\n",
      "    \"original_values\": true,\n",
      "    \"samples\": 100\n",
      "}\n",
      "{   \n",
      "    \"data_source_folder\": \"../data/full_dataset\",\n",
      "    \"timestamp_length\": 13,\n",
      "    \"sat_file_structure\": \"msevi-medi-TIMESTAMP.nc\",\n",
      "    \"label_file_structure\": \"nwcsaf_msevi-medi-TIMESTAMP.nc\",\n",
      "    \"input_source_folder\": \"../data/example_data\",\n",
      "    \"georef_file\" : \"../data/auxilary_files/msevi-medi-georef.nc\" ,\n",
      "    \"mask_file\" : \"../data/auxilary_files/lsm_mask_medi.nc\",  \n",
      "    \"mask_key\": \"land_sea_mask\",\n",
      "    \"mask_sea_coding\": 0,\n",
      "    \"input_channels\": [\n",
      "        \"bt062\",\n",
      "        \"bt073\",\n",
      "        \"bt087\",\n",
      "        \"bt097\",\n",
      "        \"bt108\",\n",
      "        \"bt120\",\n",
      "        \"bt134\"\n",
      "    ],\n",
      "    \"cloudtype_channel\": \"ct\",\n",
      "    \"nwcsaf_in_version\": \"auto\",\n",
      "    \"nwcsaf_out_version\": \"v2018\",\n",
      "    \"hours\": [\n",
      "        0\n",
      "    ]\n",
      "}\n"
     ]
    }
   ],
   "source": [
    "%%bash\n",
    "\n",
    "cat ../classifiers/NewDecisionTreeClassifier/settings/config.json\n",
    "cat ../classifiers/NewDecisionTreeClassifier/settings/data_structure.json"
   ]
  },
  {
   "cell_type": "markdown",
   "id": "clear-argument",
   "metadata": {},
   "source": [
    "When we open the text f\n",
    "We can now use the `set_project_parameters` command in order to change any parameter. For changing the classifier to a Decision Tree, we change the parameter `classifier_type` to `Tree`."
   ]
  },
  {
   "cell_type": "markdown",
   "id": "offshore-lender",
   "metadata": {},
   "source": [
    "Those files can be examined and changed with a text editor. Alternativly \n"
   ]
  },
  {
   "cell_type": "markdown",
   "id": "swedish-constant",
   "metadata": {},
   "source": [
    "## Changing parameters via the Commandline\n",
    "\n",
    "One possibility is to use the command line in order to change parameters"
   ]
  },
  {
   "cell_type": "markdown",
   "id": "nominated-intention",
   "metadata": {},
   "source": [
    "### Using programm commands"
   ]
  },
  {
   "cell_type": "markdown",
   "id": "precise-savannah",
   "metadata": {},
   "source": [
    "Our de"
   ]
  },
  {
   "cell_type": "code",
   "execution_count": 4,
   "id": "normal-purple",
   "metadata": {},
   "outputs": [],
   "source": [
    "file_1 = \"../data/example_data/msevi-medi-20190317_1800.nc\"\n",
    "file_2 = \"../data/example_data/msevi-medi-20190318_1100.nc\"\n",
    "\n",
    "cc.set_project_parameters(input_files = [file_1, file_2])"
   ]
  },
  {
   "cell_type": "markdown",
   "id": "grand-comfort",
   "metadata": {},
   "source": [
    "We now run the prediction pipeline (with the `run_prediction_pipeline()` method) which \n",
    "* applies the classifier to our input data and\n",
    "* stores the predicted labels.\n",
    "\n",
    "The option `create_filelist` is set to `False` to take the user-defined input file list."
   ]
  },
  {
   "cell_type": "code",
   "execution_count": 5,
   "id": "corrected-upset",
   "metadata": {},
   "outputs": [
    {
     "name": "stderr",
     "output_type": "stream",
     "text": [
      "/home/squidy/.local/share/virtualenvs/CTyPyTool-idbccFiL/lib/python3.8/site-packages/sklearn/base.py:329: UserWarning: Trying to unpickle estimator DecisionTreeClassifier from version 1.0 when using version 1.0.2. This might lead to breaking code or invalid results. Use at your own risk. For more info please refer to:\n",
      "https://scikit-learn.org/stable/modules/model_persistence.html#security-maintainability-limitations\n",
      "  warnings.warn(\n"
     ]
    },
    {
     "name": "stdout",
     "output_type": "stream",
     "text": [
      "Classifier loaded!\n",
      "Masked indices set!\n",
      "Reference file found\n",
      "Input vectors created!\n",
      "Predicted Labels!\n",
      "Labels saved as nwcsaf_msevi-medi-20190317_1800_predicted.nc\n",
      "Input vectors created!\n",
      "Predicted Labels!\n",
      "Labels saved as nwcsaf_msevi-medi-20190318_1100_predicted.nc\n"
     ]
    }
   ],
   "source": [
    "cc.run_prediction_pipeline(create_filelist = False)"
   ]
  },
  {
   "cell_type": "markdown",
   "id": "closed-reserve",
   "metadata": {},
   "source": [
    "### Using an Automatically Generated Input File List"
   ]
  },
  {
   "cell_type": "markdown",
   "id": "senior-spanish",
   "metadata": {},
   "source": [
    "Alternatively to the manual definition, the input file list can be generated automatically.\n",
    "\n",
    "\n",
    "The easiest way to do so is to put all input files into an input data folder (here it is set to `../data_example_data`) and just tell the classifier where to look via the `input_source_folder` option."
   ]
  },
  {
   "cell_type": "code",
   "execution_count": 6,
   "id": "curious-certificate",
   "metadata": {},
   "outputs": [
    {
     "name": "stdout",
     "output_type": "stream",
     "text": [
      "total 30120\n",
      "-rw-rw-r-- 1 squidy squidy 14946418 Jun  4  2021 msevi-medi-20190317_1800.nc\n",
      "-rw-rw-r-- 1 squidy squidy 15552552 Jun  4  2021 msevi-medi-20190318_1100.nc\n",
      "-rw-rw-r-- 1 squidy squidy   155069 Jun  4  2021 nwcsaf_msevi-medi-20190317_1800.nc\n",
      "-rw-rw-r-- 1 squidy squidy   178946 Jun  4  2021 nwcsaf_msevi-medi-20190318_1100.nc\n"
     ]
    }
   ],
   "source": [
    "%%bash\n",
    "\n",
    "ls -l ../data/example_data"
   ]
  },
  {
   "cell_type": "code",
   "execution_count": 7,
   "id": "democratic-individual",
   "metadata": {},
   "outputs": [],
   "source": [
    "cc.set_parameters(input_source_folder = \"../data/example_data\")"
   ]
  },
  {
   "cell_type": "markdown",
   "id": "presidential-budget",
   "metadata": {},
   "source": [
    "In a next step, we can let the classifier predict labels from the input files we have specified.\n",
    "This is again done with the `run_prediction_pipeline()` method.\n",
    "\n",
    "If we want the classifier to automatically generate a list of input files and therefore set the option `create_filelist` to `True`."
   ]
  },
  {
   "cell_type": "code",
   "execution_count": 8,
   "id": "compound-instrument",
   "metadata": {},
   "outputs": [
    {
     "name": "stdout",
     "output_type": "stream",
     "text": [
      "Input filelist created!\n",
      "Classifier loaded!\n",
      "Masked indices set!\n",
      "Reference file found\n"
     ]
    },
    {
     "name": "stderr",
     "output_type": "stream",
     "text": [
      "/home/squidy/.local/share/virtualenvs/CTyPyTool-idbccFiL/lib/python3.8/site-packages/sklearn/base.py:329: UserWarning: Trying to unpickle estimator DecisionTreeClassifier from version 1.0 when using version 1.0.2. This might lead to breaking code or invalid results. Use at your own risk. For more info please refer to:\n",
      "https://scikit-learn.org/stable/modules/model_persistence.html#security-maintainability-limitations\n",
      "  warnings.warn(\n"
     ]
    },
    {
     "name": "stdout",
     "output_type": "stream",
     "text": [
      "Input vectors created!\n",
      "Predicted Labels!\n",
      "Labels saved as nwcsaf_msevi-medi-20190318_1100_predicted.nc\n",
      "Input vectors created!\n",
      "Predicted Labels!\n",
      "Labels saved as nwcsaf_msevi-medi-20190317_1800_predicted.nc\n"
     ]
    }
   ],
   "source": [
    "cc.run_prediction_pipeline(create_filelist = True)"
   ]
  },
  {
   "cell_type": "markdown",
   "id": "mature-fundamentals",
   "metadata": {},
   "source": [
    "## Accessing predicted labels"
   ]
  },
  {
   "cell_type": "markdown",
   "id": "confused-digest",
   "metadata": {},
   "source": [
    "The predicted labels are stored in the folder of the classifier we are using. They are located in the subfolder `labels`."
   ]
  },
  {
   "cell_type": "code",
   "execution_count": 9,
   "id": "joined-seeking",
   "metadata": {},
   "outputs": [
    {
     "name": "stdout",
     "output_type": "stream",
     "text": [
      "nwcsaf_msevi-medi-20190317_1800_predicted.nc\n",
      "nwcsaf_msevi-medi-20190318_1100_predicted.nc\n"
     ]
    }
   ],
   "source": [
    "%%bash\n",
    "\n",
    "ls ../classifiers/TreeClassifier/labels"
   ]
  },
  {
   "cell_type": "code",
   "execution_count": null,
   "id": "great-johnson",
   "metadata": {},
   "outputs": [],
   "source": []
  }
 ],
 "metadata": {
  "kernelspec": {
   "display_name": "CTyPyTool",
   "language": "python",
   "name": "ctypytool"
  },
  "language_info": {
   "codemirror_mode": {
    "name": "ipython",
    "version": 3
   },
   "file_extension": ".py",
   "mimetype": "text/x-python",
   "name": "python",
   "nbconvert_exporter": "python",
   "pygments_lexer": "ipython3",
   "version": "3.8.10"
  }
 },
 "nbformat": 4,
 "nbformat_minor": 5
}
