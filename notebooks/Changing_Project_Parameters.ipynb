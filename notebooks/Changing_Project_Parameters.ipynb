{
 "cells": [
  {
   "cell_type": "markdown",
   "id": "dominican-haven",
   "metadata": {},
   "source": [
    "# Changing Project Parameters\n",
    "\n",
    "Before training a Classifier we often times want to change the type of classifier and other parameters.\n",
    "\n",
    "On project creation the classifier object is initalized with default values. Depending on our needs we want to change those parameter to more fitting values."
   ]
  },
  {
   "cell_type": "markdown",
   "id": "former-stage",
   "metadata": {},
   "source": [
    "At first we need to point python to the program folder. The path can be assigned as a relative path as shown below, or as an absolute system path.\n",
    "Than the module can be imported via the `import cloud_classifier` command."
   ]
  },
  {
   "cell_type": "code",
   "execution_count": 7,
   "id": "biological-pregnancy",
   "metadata": {},
   "outputs": [],
   "source": [
    "import sys\n",
    "sys.path.append('../cloud_classifier')\n",
    "import cloud_classifier"
   ]
  },
  {
   "cell_type": "markdown",
   "id": "future-florist",
   "metadata": {},
   "source": [
    "## Project creation\n",
    "Let's first create a new project. This time we want to train a Decison Tree classifier and choose a name for our project accordingly."
   ]
  },
  {
   "cell_type": "code",
   "execution_count": 8,
   "id": "pursuant-network",
   "metadata": {},
   "outputs": [
    {
     "name": "stdout",
     "output_type": "stream",
     "text": [
      "Folder with given name already exits! Keeping old project\n"
     ]
    }
   ],
   "source": [
    "cc = cloud_classifier.cloud_classifier()\n",
    "cc.create_new_project(name=\"NewDecisionTreeClassifier\", path=\"../classifiers\")\n"
   ]
  },
  {
   "cell_type": "markdown",
   "id": "varied-polish",
   "metadata": {},
   "source": [
    "The new classifier will automatically be initalized with default parameters. Iinside of the project folder folder a new folder called `settings` was created, containing the files `config.json`, holding information about the type and parameters of classifier we want to use and the file `data_structure.json`, holding information about the structure of our used data files."
   ]
  },
  {
   "cell_type": "code",
   "execution_count": 9,
   "id": "direct-assault",
   "metadata": {},
   "outputs": [
    {
     "name": "stdout",
     "output_type": "stream",
     "text": [
      "{\n",
      "    \"classifier_type\": \"Tree\",\n",
      "    \"max_depth\": 35,\n",
      "    \"ccp_alpha\": 0,\n",
      "    \"n_estimators\": 100,\n",
      "    \"feature_preselection\": false,\n",
      "    \"max_features\": null,\n",
      "    \"min_samples_split\": 2,\n",
      "    \"merge_list\": [],\n",
      "    \"difference_vectors\": true,\n",
      "    \"original_values\": true,\n",
      "    \"samples\": 100\n",
      "}{\n",
      "    \"data_source_folder\": \"../data/full_dataset\",\n",
      "    \"timestamp_length\": 13,\n",
      "    \"sat_file_structure\": \"msevi-medi-TIMESTAMP.nc\",\n",
      "    \"label_file_structure\": \"nwcsaf_msevi-medi-TIMESTAMP.nc\",\n",
      "    \"input_source_folder\": \"../data/example_data\",\n",
      "    \"georef_file\": \"../data/auxilary_files/msevi-medi-georef.nc\",\n",
      "    \"mask_file\": \"../data/auxilary_files/lsm_mask_medi.nc\",\n",
      "    \"mask_key\": \"land_sea_mask\",\n",
      "    \"mask_sea_coding\": 0,\n",
      "    \"input_channels\": [\n",
      "        \"bt062\",\n",
      "        \"bt073\",\n",
      "        \"bt087\",\n",
      "        \"bt097\",\n",
      "        \"bt108\",\n",
      "        \"bt120\",\n",
      "        \"bt134\"\n",
      "    ],\n",
      "    \"cloudtype_channel\": \"ct\",\n",
      "    \"nwcsaf_in_version\": \"auto\",\n",
      "    \"nwcsaf_out_version\": \"v2018\",\n",
      "    \"hours\": [\n",
      "        0\n",
      "    ]\n",
      "}"
     ]
    }
   ],
   "source": [
    "%%bash\n",
    "\n",
    "cat ../classifiers/NewDecisionTreeClassifier/settings/config.json\n",
    "cat ../classifiers/NewDecisionTreeClassifier/settings/data_structure.json"
   ]
  },
  {
   "cell_type": "markdown",
   "id": "clear-argument",
   "metadata": {},
   "source": [
    "### Changing Classifier Type\n",
    "We can now use the command `set_project_parameters` in order to change any parameter. For changing the classifier to a Decision Tree, we change the first parameter of the file `config.json`, which carries the name `classifier_type` to `\"Tree\"`."
   ]
  },
  {
   "cell_type": "code",
   "execution_count": 10,
   "id": "f9ff305d",
   "metadata": {},
   "outputs": [],
   "source": [
    "cc.set_project_parameters(classifier_type = \"Tree\")"
   ]
  },
  {
   "cell_type": "markdown",
   "id": "426bf9eb",
   "metadata": {},
   "source": [
    "When we check out the file again, we can see that the corresponding parameter has changed."
   ]
  },
  {
   "cell_type": "code",
   "execution_count": 11,
   "id": "728f87b1",
   "metadata": {},
   "outputs": [
    {
     "name": "stdout",
     "output_type": "stream",
     "text": [
      "{\n",
      "    \"classifier_type\": \"Tree\",\n",
      "    \"max_depth\": 35,\n",
      "    \"ccp_alpha\": 0,\n",
      "    \"n_estimators\": 100,\n",
      "    \"feature_preselection\": false,\n",
      "    \"max_features\": null,\n",
      "    \"min_samples_split\": 2,\n",
      "    \"merge_list\": [],\n",
      "    \"difference_vectors\": true,\n",
      "    \"original_values\": true,\n",
      "    \"samples\": 100\n",
      "}"
     ]
    }
   ],
   "source": [
    "%%bash\n",
    "\n",
    "cat ../classifiers/NewDecisionTreeClassifier/settings/config.json"
   ]
  },
  {
   "cell_type": "markdown",
   "id": "swedish-constant",
   "metadata": {},
   "source": [
    "### Changing Input Channels\n",
    "As an additional example we will change the input channels we use from the satelite data files.\n",
    "First we can access the list of input channels using our classifier object."
   ]
  },
  {
   "cell_type": "code",
   "execution_count": 12,
   "id": "aadbea3d",
   "metadata": {},
   "outputs": [
    {
     "name": "stdout",
     "output_type": "stream",
     "text": [
      "['bt062', 'bt073', 'bt087', 'bt097', 'bt108', 'bt120', 'bt134']\n"
     ]
    }
   ],
   "source": [
    "changed_input_channels = cc.input_channels\n",
    "print(changed_input_channels)"
   ]
  },
  {
   "cell_type": "markdown",
   "id": "precise-savannah",
   "metadata": {},
   "source": [
    "Then we can change the list, for example by removing the entry `'bt134'`. Alternativly we could also add channels, if we knew, that our satelite data contained those additional channels and wanted to use them, or create a completely new list, if the data structure was different than in our example.\n",
    "The command `set_project_parameters` again can be used to then write the changed list to our project."
   ]
  },
  {
   "cell_type": "code",
   "execution_count": 13,
   "id": "e4a6cbe5",
   "metadata": {},
   "outputs": [
    {
     "name": "stdout",
     "output_type": "stream",
     "text": [
      "['bt062', 'bt073', 'bt087', 'bt097', 'bt108', 'bt120']\n"
     ]
    }
   ],
   "source": [
    "changed_input_channels.remove('bt134')\n",
    "print(changed_input_channels)\n",
    "cc.set_project_parameters(input_channels = changed_input_channels)\n"
   ]
  },
  {
   "cell_type": "code",
   "execution_count": 14,
   "id": "51cdd018",
   "metadata": {},
   "outputs": [
    {
     "name": "stdout",
     "output_type": "stream",
     "text": [
      "{\n",
      "    \"data_source_folder\": \"../data/full_dataset\",\n",
      "    \"timestamp_length\": 13,\n",
      "    \"sat_file_structure\": \"msevi-medi-TIMESTAMP.nc\",\n",
      "    \"label_file_structure\": \"nwcsaf_msevi-medi-TIMESTAMP.nc\",\n",
      "    \"input_source_folder\": \"../data/example_data\",\n",
      "    \"georef_file\": \"../data/auxilary_files/msevi-medi-georef.nc\",\n",
      "    \"mask_file\": \"../data/auxilary_files/lsm_mask_medi.nc\",\n",
      "    \"mask_key\": \"land_sea_mask\",\n",
      "    \"mask_sea_coding\": 0,\n",
      "    \"input_channels\": [\n",
      "        \"bt062\",\n",
      "        \"bt073\",\n",
      "        \"bt087\",\n",
      "        \"bt097\",\n",
      "        \"bt108\",\n",
      "        \"bt120\"\n",
      "    ],\n",
      "    \"cloudtype_channel\": \"ct\",\n",
      "    \"nwcsaf_in_version\": \"auto\",\n",
      "    \"nwcsaf_out_version\": \"v2018\",\n",
      "    \"hours\": [\n",
      "        0\n",
      "    ]\n",
      "}"
     ]
    }
   ],
   "source": [
    "%%bash\n",
    "\n",
    "cat ../classifiers/NewDecisionTreeClassifier/settings/data_structure.json"
   ]
  },
  {
   "cell_type": "markdown",
   "id": "4a5dceb3",
   "metadata": {},
   "source": [
    "Alternativly all parameters can be changed directly in the specified parameter files. The classifier needs to be loaded again after doing so, in order to be able to apply the changed parameters."
   ]
  }
 ],
 "metadata": {
  "kernelspec": {
   "display_name": "CTyPyTool",
   "language": "python",
   "name": "ctypytool"
  },
  "language_info": {
   "codemirror_mode": {
    "name": "ipython",
    "version": 3
   },
   "file_extension": ".py",
   "mimetype": "text/x-python",
   "name": "python",
   "nbconvert_exporter": "python",
   "pygments_lexer": "ipython3",
   "version": "3.8.10"
  }
 },
 "nbformat": 4,
 "nbformat_minor": 5
}
