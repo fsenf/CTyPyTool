{
 "cells": [
  {
   "cell_type": "code",
   "execution_count": 47,
   "id": "headed-hampshire",
   "metadata": {},
   "outputs": [
    {
     "data": {
      "text/plain": [
       "<module 'cloud_classifier' from '../cloud_classifier/cloud_classifier.py'>"
      ]
     },
     "execution_count": 47,
     "metadata": {},
     "output_type": "execute_result"
    }
   ],
   "source": [
    "import sys\n",
    "sys.path.append('../cloud_classifier')\n",
    "\n",
    "\n",
    "import cloud_classifier\n",
    "importlib.reload(cloud_classifier)\n"
   ]
  },
  {
   "cell_type": "code",
   "execution_count": 48,
   "id": "atomic-scotland",
   "metadata": {},
   "outputs": [],
   "source": [
    "cc = cloud_classifier.cloud_classifier()"
   ]
  },
  {
   "cell_type": "code",
   "execution_count": 43,
   "id": "perceived-visiting",
   "metadata": {},
   "outputs": [
    {
     "ename": "TypeError",
     "evalue": "add_trainig_data() missing 1 required positional argument: 'filename_labels'",
     "output_type": "error",
     "traceback": [
      "\u001b[0;31m---------------------------------------------------------------------------\u001b[0m",
      "\u001b[0;31mTypeError\u001b[0m                                 Traceback (most recent call last)",
      "\u001b[0;32m<ipython-input-43-04582afaf610>\u001b[0m in \u001b[0;36m<module>\u001b[0;34m\u001b[0m\n\u001b[0;32m----> 1\u001b[0;31m \u001b[0mcc\u001b[0m\u001b[0;34m.\u001b[0m\u001b[0madd_trainig_data\u001b[0m\u001b[0;34m(\u001b[0m\u001b[0;34m\"name\"\u001b[0m\u001b[0;34m)\u001b[0m\u001b[0;34m\u001b[0m\u001b[0;34m\u001b[0m\u001b[0m\n\u001b[0m",
      "\u001b[0;31mTypeError\u001b[0m: add_trainig_data() missing 1 required positional argument: 'filename_labels'"
     ]
    }
   ],
   "source": [
    "cc.add_trainig_data(\"name\")"
   ]
  },
  {
   "cell_type": "code",
   "execution_count": 46,
   "id": "minus-updating",
   "metadata": {},
   "outputs": [
    {
     "ename": "AttributeError",
     "evalue": "'cloud_classifier' object has no attribute 'set_h5mask'",
     "output_type": "error",
     "traceback": [
      "\u001b[0;31m---------------------------------------------------------------------------\u001b[0m",
      "\u001b[0;31mAttributeError\u001b[0m                            Traceback (most recent call last)",
      "\u001b[0;32m<ipython-input-46-08c7cef4785d>\u001b[0m in \u001b[0;36m<module>\u001b[0;34m\u001b[0m\n\u001b[0;32m----> 1\u001b[0;31m \u001b[0mcc\u001b[0m\u001b[0;34m.\u001b[0m\u001b[0mset_h5mask\u001b[0m\u001b[0;34m(\u001b[0m\u001b[0;34m\"name\"\u001b[0m\u001b[0;34m,\u001b[0m \u001b[0;34m\"name\"\u001b[0m\u001b[0;34m)\u001b[0m\u001b[0;34m\u001b[0m\u001b[0;34m\u001b[0m\u001b[0m\n\u001b[0m",
      "\u001b[0;31mAttributeError\u001b[0m: 'cloud_classifier' object has no attribute 'set_h5mask'"
     ]
    }
   ],
   "source": [
    "cc.set_h5mask(\"name\", \"name\")"
   ]
  },
  {
   "cell_type": "code",
   "execution_count": null,
   "id": "collect-knife",
   "metadata": {},
   "outputs": [],
   "source": []
  }
 ],
 "metadata": {
  "kernelspec": {
   "display_name": "Python 3",
   "language": "python",
   "name": "python3"
  },
  "language_info": {
   "codemirror_mode": {
    "name": "ipython",
    "version": 3
   },
   "file_extension": ".py",
   "mimetype": "text/x-python",
   "name": "python",
   "nbconvert_exporter": "python",
   "pygments_lexer": "ipython3",
   "version": "3.8.5"
  }
 },
 "nbformat": 4,
 "nbformat_minor": 5
}
