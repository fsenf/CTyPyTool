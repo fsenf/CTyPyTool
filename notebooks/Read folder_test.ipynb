{
 "cells": [
  {
   "cell_type": "code",
   "execution_count": 26,
   "id": "buried-lucas",
   "metadata": {},
   "outputs": [],
   "source": [
    "import sys\n",
    "sys.path.append('../cloud_classifier')\n",
    "\n",
    "import cloud_trainer\n",
    "import data_handler\n",
    "import importlib\n",
    "importlib.reload(cloud_trainer)\n",
    "importlib.reload(data_handler)\n",
    "\n",
    "ct = cloud_trainer.cloud_trainer()\n",
    "dh = data_handler.data_handler()"
   ]
  },
  {
   "cell_type": "markdown",
   "id": "comic-national",
   "metadata": {},
   "source": [
    "#### Read all sets from folder"
   ]
  },
  {
   "cell_type": "code",
   "execution_count": 27,
   "id": "accessory-congo",
   "metadata": {},
   "outputs": [],
   "source": [
    "import os\n",
    "import re\n",
    "import numpy as np\n",
    "\n",
    "#TODO: os.path.join().\n",
    "dh.training_sets = None\n",
    "folder = \"../data/cloud-typing-data/\"\n",
    "n_max = 2\n",
    "\n",
    "sat_pattern = \"msevi-medi-(.{13})\\.nc\"\n",
    "label_pattern = \"nwcsaf_msevi-medi-(.{13})\\.nc\"\n",
    "\n",
    "sat_comp = re.compile(sat_pattern)\n",
    "label_comp = re.compile(label_pattern)\n",
    "data_sets, sat_files, lab_files = list(), {}, {}\n",
    "\n",
    "files = os.listdir(folder)\n",
    "for file in files:\n",
    "    sat_id = sat_comp.match(file)\n",
    "    lab_id = label_comp.match(file)\n",
    "    \n",
    "    if (sat_id):\n",
    "        sat_files[sat_id.group(1)] = folder  + file  \n",
    "    elif (lab_id):\n",
    "        lab_files[lab_id.group(1)] = folder  + file\n",
    "\n",
    "for key in sat_files.keys():\n",
    "    if(key in lab_files):\n",
    "        data_sets.append([sat_files[key], lab_files[key]])\n",
    "        \n",
    "n = 0\n",
    "for ds in data_sets:\n",
    "    dh.add_training_files(ds[0], ds[1])\n",
    "    n += 1\n",
    "    if(n >= n_max):\n",
    "        break"
   ]
  },
  {
   "cell_type": "markdown",
   "id": "endangered-adapter",
   "metadata": {},
   "source": [
    "#### Get mask indices from provided nc-file"
   ]
  },
  {
   "cell_type": "code",
   "execution_count": 28,
   "id": "advance-resource",
   "metadata": {},
   "outputs": [],
   "source": [
    "import xarray as xr\n",
    "mask_file = \"../data/cloud-typing-data/lsm_mask_medi.nc\" \n",
    "mask = xr.open_dataset(mask_file)\n",
    "masked_indices = np.where(mask[\"land_sea_mask\"])"
   ]
  },
  {
   "cell_type": "markdown",
   "id": "sunset-quebec",
   "metadata": {},
   "source": []
  },
  {
   "cell_type": "code",
   "execution_count": 29,
   "id": "criminal-exhibition",
   "metadata": {},
   "outputs": [],
   "source": [
    "trv_name = \"../training_vectors_new\"\n",
    "filename_cl = \"../classifer_1\"\n",
    "filename_labels = \"../predicted_labels_1.nc\"\n",
    "\n",
    "dh.set_parameters(verbose = True)\n",
    "dh.set_parameters(samples = 100, hours = [0], difference_vectors = True, original_values = True)\n",
    "dh.set_parameters(nwcsaf_in_version = \"auto\", nwcsaf_out_version = \"v2018\")\n",
    "dh.set_parameters(input_channels = ['bt062', 'bt073', 'bt087', 'bt097', 'bt108', 'bt120', 'bt134'], cloudtype_channel = \"ct\")"
   ]
  },
  {
   "cell_type": "code",
   "execution_count": 32,
   "id": "worthy-thesis",
   "metadata": {},
   "outputs": [],
   "source": [
    "#v,l  = dh.create_training_set(masked_indices = masked_indices)\n"
   ]
  },
  {
   "cell_type": "code",
   "execution_count": 33,
   "id": "black-helmet",
   "metadata": {},
   "outputs": [],
   "source": [
    "#dh.save_training_set(v, l, trv_name)\n",
    "v,l = dh.load_training_set(trv_name)"
   ]
  },
  {
   "cell_type": "code",
   "execution_count": 36,
   "id": "liberal-vision",
   "metadata": {},
   "outputs": [
    {
     "name": "stdout",
     "output_type": "stream",
     "text": [
      "Correctly identified 13640 out of 16673 labels! \n",
      "Positve rate is: 0.818089\n"
     ]
    },
    {
     "data": {
      "text/plain": [
       "0.8180891261320699"
      ]
     },
     "execution_count": 36,
     "metadata": {},
     "output_type": "execute_result"
    }
   ],
   "source": [
    "ct.set_parameters(classifer_type = \"Forest\", feature_preselection = False, max_depth = 20)\n",
    "ct.evaluate_parameters(v,l)\n"
   ]
  },
  {
   "cell_type": "code",
   "execution_count": null,
   "id": "treated-improvement",
   "metadata": {},
   "outputs": [],
   "source": []
  },
  {
   "cell_type": "code",
   "execution_count": 37,
   "id": "saved-charter",
   "metadata": {},
   "outputs": [
    {
     "data": {
      "image/png": "[encoded data removed]",
      "text/plain": [
       "<Figure size 864x288 with 1 Axes>"
      ]
     },
     "metadata": {
      "needs_background": "light"
     },
     "output_type": "display_data"
    }
   ],
   "source": [
    "import xarray as xr\n",
    "real_labels = xr.open_dataset(dh.training_sets[0][1])\n",
    "dh.plot_labels(labels = real_labels, hour = 0)"
   ]
  },
  {
   "cell_type": "code",
   "execution_count": 253,
   "id": "signed-watershed",
   "metadata": {},
   "outputs": [
    {
     "name": "stdout",
     "output_type": "stream",
     "text": [
      "KeysView(<xarray.Dataset>\n",
      "Dimensions:    (bndsize: 2, time: 1, x: 1300, y: 500)\n",
      "Coordinates:\n",
      "  * time       (time) datetime64[ns] 2019-12-24T22:00:00\n",
      "  * x          (x) uint16 1562 1563 1564 1565 1566 ... 2857 2858 2859 2860 2861\n",
      "  * y          (y) uint16 362 363 364 365 366 367 ... 856 857 858 859 860 861\n",
      "Dimensions without coordinates: bndsize\n",
      "Data variables:\n",
      "    time_bnds  (time, bndsize) datetime64[ns] ...\n",
      "    ct         (time, y, x) float32 ...\n",
      "    cph        (time, y, x) float32 ...\n",
      "    platform   (time) float32 ...\n",
      "    lon0       (time) float64 ...\n",
      "Attributes:\n",
      "    filename:                     CTYin20191224220041005SVMSG01MD.nc\n",
      "    title:                        ICDR SEVIRI Clouds\n",
      "    summary:                      This file contains Cloud Type derived from ...\n",
      "    comment:                      Data in this file are stored in SEVIRI imag...\n",
      "    product_version:              4.10\n",
      "    creator_name:                 DE/DWD\n",
      "    creator_email:                contact.cmsaf@dwd.de\n",
      "    creator_url:                  http://www.cmsaf.eu\n",
      "    institution:                  EUMETSAT/CMSAF\n",
      "    project:                      Satellite Application Facility on Climate M...\n",
      "    references:                   https://wui.cmsaf.eu/safira/action/viewICDR...\n",
      "    platform:                     Earth Observation Satellites > METEOSAT > M...\n",
      "    instrument:                   Earth Remote Sensing Instruments > Passive ...\n",
      "    time_coverage_start:          2019-12-24T22:00:00Z\n",
      "    time_coverage_end:            2019-12-24T22:12:30Z\n",
      "    time_coverage_duration:       P0000-00-00T00:12:30\n",
      "    geospatial_lat_min:           -81.2\n",
      "    geospatial_lat_max:           81.2\n",
      "    geospatial_lat_units:         degrees_north\n",
      "    geospatial_lon_min:           -81.26\n",
      "    geospatial_lon_max:           81.26\n",
      "    geospatial_lon_units:         degrees_east\n",
      "    keywords:                     EARTH SCIENCE > ATMOSPHERE > CLOUDS > CLOUD...\n",
      "    Conventions:                  CF-1.6, ACDD-1.3\n",
      "    keywords_vocabulary:          GCMD Science Keywords, Version 8.1\n",
      "    standard_name_vocabulary:     Standard Name Table (v28, 07 January 2015)\n",
      "    instrument_vocabulary:        GCMD Instruments, Version 8.1\n",
      "    platform_vocabulary:          GCMD Platforms, Version 8.1\n",
      "    date_created:                 2019-12-25T07:07:40Z\n",
      "    CMSAF_area:                   cmsaf_disc\n",
      "    CMSAF_proj4_params:           +a=6378169.0 +h=35785831.0 +b=6356583.8 +lo...\n",
      "    CMSAF_area_extent:            [-5454733.16046029 -5451732.75718171  54517...\n",
      "    CMSAF_nwp_data:               ECMWF-IFS Forecast 2019-12-24 12:00:00 + 9h...\n",
      "    CMSAF_L2_processor:           SAFNWC MSG v2012 with custom CMSAF modifica...\n",
      "    CMSAF_reprocessing_software:  claas-v2.5.3\n",
      "    CMSAF_empty:                  0)\n"
     ]
    }
   ],
   "source": [
    "data = xr.open_dataset(dh.training_sets[0][1])\n",
    "print(data.keys())"
   ]
  },
  {
   "cell_type": "code",
   "execution_count": 259,
   "id": "stopped-passenger",
   "metadata": {},
   "outputs": [
    {
     "name": "stdout",
     "output_type": "stream",
     "text": [
      "KeysView(<xarray.Dataset>\n",
      "Dimensions:        (cols: 2776, ndim: 2, rows: 1004, time: 24)\n",
      "Coordinates:\n",
      "    lat            (rows, cols) float32 ...\n",
      "    lon            (rows, cols) float32 ...\n",
      "  * time           (time) float64 2.016e+07 2.016e+07 ... 2.016e+07 2.016e+07\n",
      "Dimensions without coordinates: cols, ndim, rows\n",
      "Data variables:\n",
      "    msevi_region   (ndim, ndim) int64 ...\n",
      "    nwcsaf_region  (ndim, ndim) int64 ...\n",
      "    CTTH_HEIGHT    (time, rows, cols) float32 ...\n",
      "    CMa            (time, rows, cols) float32 ...\n",
      "    CT             (time, rows, cols) float32 ...\n",
      "Attributes:\n",
      "    description:  Based on synthetic Meteosat-SEVIRI images from the Prime Se...\n",
      "    title:        NWCSAF cloud products\n",
      "    institution:  Leibniz Institute for Tropospheric Research\n",
      "    author:       Fabian Senf (senf@tropos.de))\n"
     ]
    }
   ],
   "source": [
    "labels_1 = \"../data/nwcsaf_msevi-nawdex-20160920.nc\"\n",
    "ldat = xr.open_dataset(labels_1)\n",
    "print(ldat.keys())"
   ]
  },
  {
   "cell_type": "code",
   "execution_count": null,
   "id": "natural-organizer",
   "metadata": {},
   "outputs": [],
   "source": []
  }
 ],
 "metadata": {
  "kernelspec": {
   "display_name": "Python 3",
   "language": "python",
   "name": "python3"
  },
  "language_info": {
   "codemirror_mode": {
    "name": "ipython",
    "version": 3
   },
   "file_extension": ".py",
   "mimetype": "text/x-python",
   "name": "python",
   "nbconvert_exporter": "python",
   "pygments_lexer": "ipython3",
   "version": "3.8.5"
  }
 },
 "nbformat": 4,
 "nbformat_minor": 5
}
