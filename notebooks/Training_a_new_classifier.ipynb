{
 "cells": [
  {
   "cell_type": "markdown",
   "id": "dominican-haven",
   "metadata": {},
   "source": [
    "# Training a new Classifier\n",
    "\n",
    "The project aims to use maschine learning methods to emulate a cloud classification scheme. The classifer can be trained using large amounts of data and later be used to predict cloud types from satelite data. Those two steps can be run separately.\n",
    "\n",
    "This notebook contains a short explanation how to create a new cloud classifier project and train a new classifier\n"
   ]
  },
  {
   "cell_type": "markdown",
   "id": "former-stage",
   "metadata": {},
   "source": [
    "## Imports\n",
    "\n",
    "At first we need to point python to the project folder. The path can be assigned as a relative path as shown below, or as an absolute system path.\n",
    "Than the module can be imported via the `import cloud_classifier` command."
   ]
  },
  {
   "cell_type": "code",
   "execution_count": 32,
   "id": "biological-pregnancy",
   "metadata": {},
   "outputs": [
    {
     "data": {
      "text/plain": [
       "<module 'cloud_classifier' from '/home/squidy/tropos/CTyPyTool/notebooks/../cloud_classifier/cloud_classifier.py'>"
      ]
     },
     "execution_count": 32,
     "metadata": {},
     "output_type": "execute_result"
    }
   ],
   "source": [
    "import sys\n",
    "sys.path.append('../cloud_classifier')\n",
    "import cloud_classifier\n",
    "import importlib\n",
    "importlib.reload(cloud_classifier)"
   ]
  },
  {
   "cell_type": "markdown",
   "id": "future-florist",
   "metadata": {},
   "source": [
    "## Project creation\n",
    "Our first step is to create a classifier object:"
   ]
  },
  {
   "cell_type": "code",
   "execution_count": 33,
   "id": "pursuant-network",
   "metadata": {},
   "outputs": [],
   "source": [
    "cc = cloud_classifier.cloud_classifier()"
   ]
  },
  {
   "cell_type": "markdown",
   "id": "clear-argument",
   "metadata": {},
   "source": [
    "Than we need to specify a location where the new classifier and all it's preference and data file will be stored. We will tell the program to create a new classifier with the name `NewDecisionTreeClassifier` in the folder `../classifiers`.\n",
    "\n"
   ]
  },
  {
   "cell_type": "code",
   "execution_count": 34,
   "id": "second-vault",
   "metadata": {},
   "outputs": [
    {
     "name": "stdout",
     "output_type": "stream",
     "text": [
      "Folder with given name already exits!\n"
     ]
    }
   ],
   "source": [
    "cc.create_new_project(name=\"NewDecisionTreeClassifier\", path=\"../classifiers\")"
   ]
  },
  {
   "cell_type": "markdown",
   "id": "hawaiian-membership",
   "metadata": {},
   "source": [
    "### Project Parameters\n",
    "\n",
    "The new classifier will automatically be initalized with default parameters. For this example we will leave the parameters as they are. If we want to train a different kind of classifier or change the training parameters, we need to apply those changes to the classifier before continuing. This is described in the Notebook  **Changing_Project_Parameters**\n"
   ]
  },
  {
   "cell_type": "markdown",
   "id": "nominated-intention",
   "metadata": {},
   "source": [
    "## Training the classifier\n",
    "### Manually adding Training Data"
   ]
  },
  {
   "cell_type": "markdown",
   "id": "precise-savannah",
   "metadata": {},
   "source": [
    "First we need to decide how we add training files to our classifier. We can do this by manually calling the method `cc.add_training_files()` to add pairs of training files to our classifier. Each pair needs to contain a satelite file and the corresponding label file."
   ]
  },
  {
   "cell_type": "code",
   "execution_count": 35,
   "id": "normal-purple",
   "metadata": {},
   "outputs": [],
   "source": [
    "sat_file_1 = \"../data/example_data/msevi-medi-20190317_1800.nc\"\n",
    "sat_file_2 = \"../data/example_data/msevi-medi-20190318_1100.nc\"\n",
    "label_file_1 = \"../data/example_data/nwcsaf_msevi-medi-20190317_1800.nc\"\n",
    "label_file_2 = \"../data/example_data/nwcsaf_msevi-medi-20190318_1100.nc\"\n",
    "\n",
    "cc.add_training_files(sat_file_1, label_file_1)\n",
    "cc.add_training_files(sat_file_2, label_file_2)"
   ]
  },
  {
   "cell_type": "markdown",
   "id": "grand-comfort",
   "metadata": {},
   "source": [
    "We now run the training pipeline (with the `run_training_pipeline()` method) which \n",
    "* samples our training data and creates training vectors\n",
    "* uses those vectors to train the classifier\n",
    "* stores the classifier in the project folder\n",
    "\n",
    "The option `create_filelist` is set to `False` to use the user-defined training files."
   ]
  },
  {
   "cell_type": "code",
   "execution_count": 36,
   "id": "corrected-upset",
   "metadata": {},
   "outputs": [
    {
     "name": "stdout",
     "output_type": "stream",
     "text": [
      "Masked indices set!\n",
      "sampling took 1.1609387397766113 seconds\n",
      "Training data created!\n",
      "Training Forest Classifier\n",
      "Classifier created!\n"
     ]
    }
   ],
   "source": [
    "cc.run_training_pipeline(create_filelist = False)"
   ]
  },
  {
   "cell_type": "markdown",
   "id": "closed-reserve",
   "metadata": {},
   "source": [
    "### Using Automatically Generated Lists of Training Data"
   ]
  },
  {
   "cell_type": "markdown",
   "id": "senior-spanish",
   "metadata": {},
   "source": [
    "Alternatively to the manual definition, the training data file list can be generated automatically.\n",
    "\n",
    "\n",
    "The easiest way to do so is to put all satellite and label files into an training data folder (here it is set to `../data_example_data`) and just tell the classifier where to look via the `data_source_folder` option."
   ]
  },
  {
   "cell_type": "code",
   "execution_count": 37,
   "id": "curious-certificate",
   "metadata": {},
   "outputs": [
    {
     "name": "stdout",
     "output_type": "stream",
     "text": [
      "total 30120\n",
      "-rw-rw-r-- 1 squidy squidy 14946418 Jun  4  2021 msevi-medi-20190317_1800.nc\n",
      "-rw-rw-r-- 1 squidy squidy 15552552 Jun  4  2021 msevi-medi-20190318_1100.nc\n",
      "-rw-rw-r-- 1 squidy squidy   155069 Jun  4  2021 nwcsaf_msevi-medi-20190317_1800.nc\n",
      "-rw-rw-r-- 1 squidy squidy   178946 Jun  4  2021 nwcsaf_msevi-medi-20190318_1100.nc\n"
     ]
    }
   ],
   "source": [
    "%%bash\n",
    "\n",
    "ls -l ../data/example_data"
   ]
  },
  {
   "cell_type": "code",
   "execution_count": 38,
   "id": "democratic-individual",
   "metadata": {},
   "outputs": [],
   "source": [
    "cc.set_parameters(data_source_folder = \"../data/example_data\")"
   ]
  },
  {
   "cell_type": "markdown",
   "id": "presidential-budget",
   "metadata": {},
   "source": [
    "In a next step, we can let the classifier predict labels from the input files we have specified.\n",
    "This is again done with the `run_prediction_pipeline()` method.\n",
    "\n",
    "Now we want the classifier to automatically generate a list of input files from the designated source folder and therefore set the option `create_filelist` to `True`."
   ]
  },
  {
   "cell_type": "code",
   "execution_count": 41,
   "id": "compound-instrument",
   "metadata": {},
   "outputs": [
    {
     "name": "stdout",
     "output_type": "stream",
     "text": [
      "Filelist created!\n",
      "Masked indices set!\n",
      "sampling took 0.29271936416625977 seconds\n",
      "Training data created!\n",
      "Training Forest Classifier\n",
      "Classifier created!\n"
     ]
    }
   ],
   "source": [
    "cc.run_training_pipeline(create_filelist = True)"
   ]
  },
  {
   "cell_type": "markdown",
   "id": "mature-fundamentals",
   "metadata": {},
   "source": [
    "The classifier is now trained and saved. It can be used for predicting labels of unknown satellite data files as described in the notebook **Application_of_a_pretrained_classifier**"
   ]
  },
  {
   "cell_type": "code",
   "execution_count": null,
   "id": "shared-feeling",
   "metadata": {},
   "outputs": [],
   "source": []
  }
 ],
 "metadata": {
  "kernelspec": {
   "display_name": "CTyPyTool",
   "language": "python",
   "name": "ctypytool"
  },
  "language_info": {
   "codemirror_mode": {
    "name": "ipython",
    "version": 3
   },
   "file_extension": ".py",
   "mimetype": "text/x-python",
   "name": "python",
   "nbconvert_exporter": "python",
   "pygments_lexer": "ipython3",
   "version": "3.8.10"
  }
 },
 "nbformat": 4,
 "nbformat_minor": 5
}
