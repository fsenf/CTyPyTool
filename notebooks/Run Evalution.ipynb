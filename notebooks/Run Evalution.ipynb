{
 "cells": [
  {
   "cell_type": "markdown",
   "id": "dominican-haven",
   "metadata": {},
   "source": [
    "# Application of the Evaluator\n",
    "\n"
   ]
  },
  {
   "cell_type": "markdown",
   "id": "former-stage",
   "metadata": {},
   "source": [
    "## Imports\n",
    "\n",
    "At first we need to point python to the project folder. The path can be assigned as a relative path as shown below, or as an absolute system path.\n",
    "Than the module can be imported via the `import cloud_classifier` command."
   ]
  },
  {
   "cell_type": "code",
   "execution_count": 34,
   "id": "biological-pregnancy",
   "metadata": {},
   "outputs": [
    {
     "data": {
      "text/plain": [
       "<module 'evaluator' from '/home/squidy/tropos/CTyPyTool/notebooks/../cloud_classifier/evaluator.py'>"
      ]
     },
     "execution_count": 34,
     "metadata": {},
     "output_type": "execute_result"
    }
   ],
   "source": [
    "import sys\n",
    "sys.path.append('../cloud_classifier')\n",
    "import cloud_classifier\n",
    "import evaluator\n",
    "import importlib\n",
    "importlib.reload(cloud_classifier)\n",
    "importlib.reload(evaluator)"
   ]
  },
  {
   "cell_type": "markdown",
   "id": "future-florist",
   "metadata": {},
   "source": [
    "## Initialization\n",
    "Our first step is to create an evaluator object:"
   ]
  },
  {
   "cell_type": "code",
   "execution_count": 35,
   "id": "pursuant-network",
   "metadata": {},
   "outputs": [],
   "source": [
    "ev1 = evaluator.evaluator()\n",
    "ev2 = evaluator.evaluator()"
   ]
  },
  {
   "cell_type": "markdown",
   "id": "clear-argument",
   "metadata": {},
   "source": [
    "Than we need to create a new project for running the evaluation. As is the case with the cloud_clasifier, the `create_new_project()` method will create a new project."
   ]
  },
  {
   "cell_type": "code",
   "execution_count": 36,
   "id": "second-vault",
   "metadata": {},
   "outputs": [
    {
     "name": "stdout",
     "output_type": "stream",
     "text": [
      "Folder with given name already exits! Loading existing project!\n",
      "Folder with given name already exits! Loading existing project!\n"
     ]
    }
   ],
   "source": [
    "path_1 = \"../classifiers/evaluations/classifier_1\"\n",
    "ev1.create_new_project(path_1)\n",
    "\n",
    "path2 = \"../classifiers/evaluations/classifier_2\"\n",
    "ev2.create_new_project(path2)"
   ]
  },
  {
   "cell_type": "markdown",
   "id": "informative-display",
   "metadata": {},
   "source": [
    "## Evaluating "
   ]
  },
  {
   "cell_type": "markdown",
   "id": "nominated-intention",
   "metadata": {},
   "source": [
    "### Splitting Dataset"
   ]
  },
  {
   "cell_type": "markdown",
   "id": "precise-savannah",
   "metadata": {},
   "source": []
  },
  {
   "cell_type": "code",
   "execution_count": 37,
   "id": "normal-purple",
   "metadata": {},
   "outputs": [],
   "source": [
    "ev1.create_split_trainingset(eval_size=24, timesensitive=True)"
   ]
  },
  {
   "cell_type": "markdown",
   "id": "grand-comfort",
   "metadata": {},
   "source": []
  },
  {
   "cell_type": "code",
   "execution_count": 38,
   "id": "corrected-upset",
   "metadata": {},
   "outputs": [
    {
     "name": "stdout",
     "output_type": "stream",
     "text": [
      "Filelist copied from ../classifiers/evaluations/classifier_1\n"
     ]
    }
   ],
   "source": [
    "ev2.copy_filelists(source_project = path_1)"
   ]
  },
  {
   "cell_type": "markdown",
   "id": "closed-reserve",
   "metadata": {},
   "source": []
  },
  {
   "cell_type": "code",
   "execution_count": 39,
   "id": "curious-certificate",
   "metadata": {},
   "outputs": [],
   "source": [
    "ev1.set_project_parameters(classifier_type = \"Tree\")\n",
    "ev2.set_project_parameters(classifier_type = \"Forest\")\n"
   ]
  },
  {
   "cell_type": "code",
   "execution_count": 40,
   "id": "democratic-individual",
   "metadata": {},
   "outputs": [],
   "source": [
    "ev1.create_evaluation_plots()"
   ]
  },
  {
   "cell_type": "markdown",
   "id": "presidential-budget",
   "metadata": {},
   "source": []
  },
  {
   "cell_type": "code",
   "execution_count": null,
   "id": "compound-instrument",
   "metadata": {},
   "outputs": [],
   "source": []
  },
  {
   "cell_type": "markdown",
   "id": "mature-fundamentals",
   "metadata": {},
   "source": []
  },
  {
   "cell_type": "markdown",
   "id": "confused-digest",
   "metadata": {},
   "source": []
  },
  {
   "cell_type": "code",
   "execution_count": null,
   "id": "joined-seeking",
   "metadata": {},
   "outputs": [],
   "source": []
  },
  {
   "cell_type": "code",
   "execution_count": null,
   "id": "great-johnson",
   "metadata": {},
   "outputs": [],
   "source": []
  }
 ],
 "metadata": {
  "kernelspec": {
   "display_name": "CTyPyTool",
   "language": "python",
   "name": "ctypytool"
  },
  "language_info": {
   "codemirror_mode": {
    "name": "ipython",
    "version": 3
   },
   "file_extension": ".py",
   "mimetype": "text/x-python",
   "name": "python",
   "nbconvert_exporter": "python",
   "pygments_lexer": "ipython3",
   "version": "3.8.10"
  }
 },
 "nbformat": 4,
 "nbformat_minor": 5
}
