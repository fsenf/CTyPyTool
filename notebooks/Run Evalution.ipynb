{
 "cells": [
  {
   "cell_type": "markdown",
   "id": "dominican-haven",
   "metadata": {},
   "source": [
    "# Application of the Evaluator\n",
    "\n",
    "The evaluator class alows to easily compare the prediciton quality of different classifiers.\n",
    "With the automatic generation of a training and an evaluation set from a given datafolder the influence of differnet classifier parameters can be tested and compared. \n",
    "Plotting methods for generating different plots for the whole evaluation set are intended to make a first assesment over the effect of certain parameters possible.\n"
   ]
  },
  {
   "cell_type": "markdown",
   "id": "former-stage",
   "metadata": {},
   "source": [
    "## Imports\n",
    "\n",
    "At first we need to point python to the project folder. The path can be assigned as a relative path as shown below, or as an absolute system path.\n",
    "Than the module can be imported via the `import evaluator` command."
   ]
  },
  {
   "cell_type": "code",
   "execution_count": 195,
   "id": "biological-pregnancy",
   "metadata": {},
   "outputs": [
    {
     "data": {
      "text/plain": [
       "<module 'evaluator' from '/home/squidy/tropos/CTyPyTool/notebooks/../cloud_classifier/evaluator.py'>"
      ]
     },
     "execution_count": 195,
     "metadata": {},
     "output_type": "execute_result"
    }
   ],
   "source": [
    "import sys\n",
    "sys.path.append('../cloud_classifier')\n",
    "import evaluator\n",
    "import importlib\n",
    "importlib.reload(evaluator)"
   ]
  },
  {
   "cell_type": "markdown",
   "id": "future-florist",
   "metadata": {},
   "source": [
    "## Initialization\n",
    "At first we create two new instances of the evaluator object. Those will represent two different classifiers that we will compare in their prediciton quality later on."
   ]
  },
  {
   "cell_type": "code",
   "execution_count": 196,
   "id": "pursuant-network",
   "metadata": {},
   "outputs": [],
   "source": [
    "ev1 = evaluator.evaluator()\n",
    "ev2 = evaluator.evaluator()"
   ]
  },
  {
   "cell_type": "markdown",
   "id": "clear-argument",
   "metadata": {},
   "source": [
    "Than we need to create new cloud classifier projects for running the evaluation. As is the case with the cloud_clasifier class, the `create_new_project()` method will create a classifier new project."
   ]
  },
  {
   "cell_type": "code",
   "execution_count": 197,
   "id": "second-vault",
   "metadata": {},
   "outputs": [
    {
     "name": "stdout",
     "output_type": "stream",
     "text": [
      "Project folder created successfully!\n",
      "Project folder created successfully!\n"
     ]
    }
   ],
   "source": [
    "path_1 = \"../classifiers/evaluations/classifier_1\"\n",
    "ev1.create_new_project(path_1)\n",
    "\n",
    "path_2 = \"../classifiers/evaluations/classifier_2\"\n",
    "ev2.create_new_project(path_2)"
   ]
  },
  {
   "cell_type": "markdown",
   "id": "micro-amendment",
   "metadata": {},
   "source": [
    "Then we can alter the project parameters for both classifier project indivdually. Here we only change the type of classifier we are going to train, but we could also alter all other parameters, such as the sampling size of the training data, the fact if we want to create difference vectors from our data,  the input channels we are going to use and many more. See the notebook **Changing_Project_Parameters** for more details."
   ]
  },
  {
   "cell_type": "code",
   "execution_count": 198,
   "id": "graduate-turner",
   "metadata": {},
   "outputs": [],
   "source": [
    "ev1.set_project_parameters(classifier_type = \"Tree\")\n",
    "ev2.set_project_parameters(classifier_type = \"Forest\")"
   ]
  },
  {
   "cell_type": "markdown",
   "id": "informative-display",
   "metadata": {},
   "source": [
    "## Evaluating "
   ]
  },
  {
   "cell_type": "markdown",
   "id": "nominated-intention",
   "metadata": {},
   "source": [
    "### Splitting Dataset"
   ]
  },
  {
   "cell_type": "markdown",
   "id": "precise-savannah",
   "metadata": {},
   "source": [
    "The method `create_split_trainingset` will split the training data specified under the project parameter `data_source_folder` into an training set and a disjunct set used for evaluation.\n",
    "The parameter `eval_size` determines the number of files used for evaluation, while the parameter `timesensitive` will make sure an equal number of files is selected for each hour of the day."
   ]
  },
  {
   "cell_type": "code",
   "execution_count": 199,
   "id": "normal-purple",
   "metadata": {},
   "outputs": [],
   "source": [
    "ev1.create_split_trainingset(eval_size=24, timesensitive=True)"
   ]
  },
  {
   "cell_type": "markdown",
   "id": "grand-comfort",
   "metadata": {},
   "source": [
    "Comparing differnt classifiers, requires similiar preconditions in all cases. In order to make sure we use the same distribution of files into training data and evaluation data, we can use the `copy_evaluation_split` method. The parameter `source_project` determines from which project the data is copied."
   ]
  },
  {
   "cell_type": "code",
   "execution_count": 200,
   "id": "corrected-upset",
   "metadata": {},
   "outputs": [
    {
     "name": "stdout",
     "output_type": "stream",
     "text": [
      "Filelist copied from ../classifiers/evaluations/classifier_1\n"
     ]
    }
   ],
   "source": [
    "ev2.copy_evaluation_split(source_project = path_1)"
   ]
  },
  {
   "cell_type": "markdown",
   "id": "characteristic-tracker",
   "metadata": {},
   "source": [
    "### Creating Evaluation Data\n",
    "The Method `create_evaluation_data` will train the classifier with the training data specified in the previews step and then use this classifer to predict labels for all data specified as evaluation data."
   ]
  },
  {
   "cell_type": "code",
   "execution_count": 201,
   "id": "democratic-individual",
   "metadata": {},
   "outputs": [
    {
     "name": "stdout",
     "output_type": "stream",
     "text": [
      "Trainig evaluation classifier\n",
      "Masked indices set!\n",
      "sampling took 112.35812735557556 seconds\n",
      "Removed 1566 vectors for containig 'Nan' values\n",
      "Training data created!\n",
      "Training Tree Classifier\n",
      "Classifier trained!\n",
      "Classifier saved!\n",
      "Prediciting evaluation labels\n",
      "Classifier loaded!\n",
      "Masked indices set!\n",
      "Input vectors created!\n",
      "Labels saved as nwcsaf_msevi-medi-20190611_0000_predicted.nc\n",
      "Input vectors created!\n",
      "Labels saved as nwcsaf_msevi-medi-20191128_0100_predicted.nc\n",
      "Input vectors created!\n",
      "Labels saved as nwcsaf_msevi-medi-20200611_0200_predicted.nc\n",
      "Input vectors created!\n",
      "Labels saved as nwcsaf_msevi-medi-20200212_0300_predicted.nc\n",
      "Input vectors created!\n",
      "Labels saved as nwcsaf_msevi-medi-20200824_0400_predicted.nc\n",
      "Input vectors created!\n",
      "Labels saved as nwcsaf_msevi-medi-20190212_0500_predicted.nc\n",
      "Input vectors created!\n",
      "Labels saved as nwcsaf_msevi-medi-20191107_0600_predicted.nc\n",
      "Input vectors created!\n",
      "Labels saved as nwcsaf_msevi-medi-20200223_0700_predicted.nc\n",
      "Input vectors created!\n",
      "Labels saved as nwcsaf_msevi-medi-20190619_0800_predicted.nc\n",
      "Input vectors created!\n",
      "Labels saved as nwcsaf_msevi-medi-20200514_0900_predicted.nc\n",
      "Input vectors created!\n",
      "Labels saved as nwcsaf_msevi-medi-20191016_1000_predicted.nc\n",
      "Input vectors created!\n",
      "Labels saved as nwcsaf_msevi-medi-20190919_1100_predicted.nc\n",
      "Input vectors created!\n",
      "Labels saved as nwcsaf_msevi-medi-20190323_1200_predicted.nc\n",
      "Input vectors created!\n",
      "Labels saved as nwcsaf_msevi-medi-20190619_1300_predicted.nc\n",
      "Input vectors created!\n",
      "Labels saved as nwcsaf_msevi-medi-20190911_1400_predicted.nc\n",
      "Input vectors created!\n",
      "Labels saved as nwcsaf_msevi-medi-20190601_1500_predicted.nc\n",
      "Input vectors created!\n",
      "Labels saved as nwcsaf_msevi-medi-20190101_1600_predicted.nc\n",
      "Input vectors created!\n",
      "Labels saved as nwcsaf_msevi-medi-20190517_1700_predicted.nc\n",
      "Input vectors created!\n",
      "Labels saved as nwcsaf_msevi-medi-20190413_1800_predicted.nc\n",
      "Input vectors created!\n",
      "Labels saved as nwcsaf_msevi-medi-20200305_1900_predicted.nc\n",
      "Input vectors created!\n",
      "Labels saved as nwcsaf_msevi-medi-20190823_2000_predicted.nc\n",
      "Input vectors created!\n",
      "Labels saved as nwcsaf_msevi-medi-20190916_2100_predicted.nc\n",
      "Input vectors created!\n",
      "Labels saved as nwcsaf_msevi-medi-20200218_2200_predicted.nc\n",
      "Input vectors created!\n",
      "Labels saved as nwcsaf_msevi-medi-20190426_2300_predicted.nc\n",
      "Trainig evaluation classifier\n",
      "Masked indices set!\n",
      "sampling took 101.3412299156189 seconds\n",
      "Removed 1571 vectors for containig 'Nan' values\n",
      "Training data created!\n",
      "Training Forest Classifier\n",
      "Classifier trained!\n",
      "Classifier saved!\n",
      "Prediciting evaluation labels\n",
      "Classifier loaded!\n",
      "Masked indices set!\n",
      "Input vectors created!\n",
      "Labels saved as nwcsaf_msevi-medi-20190611_0000_predicted.nc\n",
      "Input vectors created!\n",
      "Labels saved as nwcsaf_msevi-medi-20191128_0100_predicted.nc\n",
      "Input vectors created!\n",
      "Labels saved as nwcsaf_msevi-medi-20200611_0200_predicted.nc\n",
      "Input vectors created!\n",
      "Labels saved as nwcsaf_msevi-medi-20200212_0300_predicted.nc\n",
      "Input vectors created!\n",
      "Labels saved as nwcsaf_msevi-medi-20200824_0400_predicted.nc\n",
      "Input vectors created!\n",
      "Labels saved as nwcsaf_msevi-medi-20190212_0500_predicted.nc\n",
      "Input vectors created!\n",
      "Labels saved as nwcsaf_msevi-medi-20191107_0600_predicted.nc\n",
      "Input vectors created!\n",
      "Labels saved as nwcsaf_msevi-medi-20200223_0700_predicted.nc\n",
      "Input vectors created!\n",
      "Labels saved as nwcsaf_msevi-medi-20190619_0800_predicted.nc\n",
      "Input vectors created!\n",
      "Labels saved as nwcsaf_msevi-medi-20200514_0900_predicted.nc\n",
      "Input vectors created!\n",
      "Labels saved as nwcsaf_msevi-medi-20191016_1000_predicted.nc\n",
      "Input vectors created!\n",
      "Labels saved as nwcsaf_msevi-medi-20190919_1100_predicted.nc\n",
      "Input vectors created!\n",
      "Labels saved as nwcsaf_msevi-medi-20190323_1200_predicted.nc\n",
      "Input vectors created!\n",
      "Labels saved as nwcsaf_msevi-medi-20190619_1300_predicted.nc\n",
      "Input vectors created!\n",
      "Labels saved as nwcsaf_msevi-medi-20190911_1400_predicted.nc\n",
      "Input vectors created!\n",
      "Labels saved as nwcsaf_msevi-medi-20190601_1500_predicted.nc\n",
      "Input vectors created!\n",
      "Labels saved as nwcsaf_msevi-medi-20190101_1600_predicted.nc\n",
      "Input vectors created!\n",
      "Labels saved as nwcsaf_msevi-medi-20190517_1700_predicted.nc\n",
      "Input vectors created!\n",
      "Labels saved as nwcsaf_msevi-medi-20190413_1800_predicted.nc\n",
      "Input vectors created!\n",
      "Labels saved as nwcsaf_msevi-medi-20200305_1900_predicted.nc\n",
      "Input vectors created!\n",
      "Labels saved as nwcsaf_msevi-medi-20190823_2000_predicted.nc\n",
      "Input vectors created!\n",
      "Labels saved as nwcsaf_msevi-medi-20190916_2100_predicted.nc\n",
      "Input vectors created!\n",
      "Labels saved as nwcsaf_msevi-medi-20200218_2200_predicted.nc\n",
      "Input vectors created!\n",
      "Labels saved as nwcsaf_msevi-medi-20190426_2300_predicted.nc\n"
     ]
    }
   ],
   "source": [
    "ev1.create_evaluation_data()\n",
    "ev2.create_evaluation_data()"
   ]
  },
  {
   "cell_type": "markdown",
   "id": "presidential-budget",
   "metadata": {},
   "source": [
    "### Evaluation Plots\n",
    "When the evaluation data has been created we can automatically create different plots to visualize and compare the classification quality. The method `create_evaluation_plots` takes the boolean arguments `correlation`, `probabilities`, `comparison`, `overallCorrelation` too determine which plots to create. Plots are created for all predicted labels in comparison to the original evaluation data and will be saved in the project folder. The parameter `show` determines if the plots are additionaly displayed directly."
   ]
  },
  {
   "cell_type": "markdown",
   "id": "fundamental-alexandria",
   "metadata": {},
   "source": [
    "#### Correlation Matrices\n",
    "The first argument determines if correlation matrices are calculated and plotted for all files in the evaluation data individually."
   ]
  },
  {
   "cell_type": "code",
   "execution_count": 202,
   "id": "compound-instrument",
   "metadata": {},
   "outputs": [
    {
     "name": "stdout",
     "output_type": "stream",
     "text": [
      "Correlation Matrix saved as 20190611_0000_CoocurrenceMatrix.png\n",
      "Correlation Matrix saved as 20191128_0100_CoocurrenceMatrix.png\n",
      "Correlation Matrix saved as 20200611_0200_CoocurrenceMatrix.png\n",
      "Correlation Matrix saved as 20200212_0300_CoocurrenceMatrix.png\n",
      "Correlation Matrix saved as 20200824_0400_CoocurrenceMatrix.png\n",
      "Correlation Matrix saved as 20190212_0500_CoocurrenceMatrix.png\n",
      "Correlation Matrix saved as 20191107_0600_CoocurrenceMatrix.png\n",
      "Correlation Matrix saved as 20200223_0700_CoocurrenceMatrix.png\n",
      "Correlation Matrix saved as 20190619_0800_CoocurrenceMatrix.png\n",
      "Correlation Matrix saved as 20200514_0900_CoocurrenceMatrix.png\n",
      "Correlation Matrix saved as 20191016_1000_CoocurrenceMatrix.png\n",
      "Correlation Matrix saved as 20190919_1100_CoocurrenceMatrix.png\n",
      "Correlation Matrix saved as 20190323_1200_CoocurrenceMatrix.png\n",
      "Correlation Matrix saved as 20190619_1300_CoocurrenceMatrix.png\n",
      "Correlation Matrix saved as 20190911_1400_CoocurrenceMatrix.png\n",
      "Correlation Matrix saved as 20190601_1500_CoocurrenceMatrix.png\n",
      "Correlation Matrix saved as 20190101_1600_CoocurrenceMatrix.png\n",
      "Correlation Matrix saved as 20190517_1700_CoocurrenceMatrix.png\n",
      "Correlation Matrix saved as 20190413_1800_CoocurrenceMatrix.png\n",
      "Correlation Matrix saved as 20200305_1900_CoocurrenceMatrix.png\n",
      "Correlation Matrix saved as 20190823_2000_CoocurrenceMatrix.png\n",
      "Correlation Matrix saved as 20190916_2100_CoocurrenceMatrix.png\n",
      "Correlation Matrix saved as 20200218_2200_CoocurrenceMatrix.png\n",
      "Correlation Matrix saved as 20190426_2300_CoocurrenceMatrix.png\n",
      "Correlation Matrix saved as 20190611_0000_CoocurrenceMatrix.png\n",
      "Correlation Matrix saved as 20191128_0100_CoocurrenceMatrix.png\n",
      "Correlation Matrix saved as 20200611_0200_CoocurrenceMatrix.png\n",
      "Correlation Matrix saved as 20200212_0300_CoocurrenceMatrix.png\n",
      "Correlation Matrix saved as 20200824_0400_CoocurrenceMatrix.png\n",
      "Correlation Matrix saved as 20190212_0500_CoocurrenceMatrix.png\n",
      "Correlation Matrix saved as 20191107_0600_CoocurrenceMatrix.png\n",
      "Correlation Matrix saved as 20200223_0700_CoocurrenceMatrix.png\n",
      "Correlation Matrix saved as 20190619_0800_CoocurrenceMatrix.png\n",
      "Correlation Matrix saved as 20200514_0900_CoocurrenceMatrix.png\n",
      "Correlation Matrix saved as 20191016_1000_CoocurrenceMatrix.png\n",
      "Correlation Matrix saved as 20190919_1100_CoocurrenceMatrix.png\n",
      "Correlation Matrix saved as 20190323_1200_CoocurrenceMatrix.png\n",
      "Correlation Matrix saved as 20190619_1300_CoocurrenceMatrix.png\n",
      "Correlation Matrix saved as 20190911_1400_CoocurrenceMatrix.png\n",
      "Correlation Matrix saved as 20190601_1500_CoocurrenceMatrix.png\n",
      "Correlation Matrix saved as 20190101_1600_CoocurrenceMatrix.png\n",
      "Correlation Matrix saved as 20190517_1700_CoocurrenceMatrix.png\n",
      "Correlation Matrix saved as 20190413_1800_CoocurrenceMatrix.png\n",
      "Correlation Matrix saved as 20200305_1900_CoocurrenceMatrix.png\n",
      "Correlation Matrix saved as 20190823_2000_CoocurrenceMatrix.png\n",
      "Correlation Matrix saved as 20190916_2100_CoocurrenceMatrix.png\n",
      "Correlation Matrix saved as 20200218_2200_CoocurrenceMatrix.png\n",
      "Correlation Matrix saved as 20190426_2300_CoocurrenceMatrix.png\n"
     ]
    }
   ],
   "source": [
    "ev1.create_evaluation_plots(correlation=True, show=False)\n",
    "ev2.create_evaluation_plots(correlation=True, show=False)"
   ]
  },
  {
   "cell_type": "markdown",
   "id": "mature-fundamentals",
   "metadata": {},
   "source": [
    "#### Overall Correlation Matrix\n",
    "Alternatively it is also possible to create a single correlation matrix from all the data files in the evaluatin set. This gives a more general overview over the classifiers performance."
   ]
  },
  {
   "cell_type": "markdown",
   "id": "confused-digest",
   "metadata": {},
   "source": [
    "ev1.create_evaluation_plots(overallCorrelation=True, show=False)\n",
    "ev2.create_evaluation_plots(overallCorrelation=True, show=False)"
   ]
  },
  {
   "cell_type": "markdown",
   "id": "helpful-petersburg",
   "metadata": {},
   "source": [
    "#### Comparison plots\n",
    "With the `comparison` parameter we can plot the resulting maps next to each other to get an overview over spacial deviations from the original data. When we, as in the first example leave the parameter `cmp_targets` blank, we will only plot the predicted labels next to the original data."
   ]
  },
  {
   "cell_type": "code",
   "execution_count": 204,
   "id": "spanish-advocate",
   "metadata": {},
   "outputs": [
    {
     "name": "stdout",
     "output_type": "stream",
     "text": [
      "Comparison Plot saved as 20190611_0000_ComparisonPlot.png\n",
      "Comparison Plot saved as 20191128_0100_ComparisonPlot.png\n",
      "Comparison Plot saved as 20200611_0200_ComparisonPlot.png\n",
      "Comparison Plot saved as 20200212_0300_ComparisonPlot.png\n",
      "Comparison Plot saved as 20200824_0400_ComparisonPlot.png\n",
      "Comparison Plot saved as 20190212_0500_ComparisonPlot.png\n",
      "Comparison Plot saved as 20191107_0600_ComparisonPlot.png\n",
      "Comparison Plot saved as 20200223_0700_ComparisonPlot.png\n",
      "Comparison Plot saved as 20190619_0800_ComparisonPlot.png\n",
      "Comparison Plot saved as 20200514_0900_ComparisonPlot.png\n",
      "Comparison Plot saved as 20191016_1000_ComparisonPlot.png\n",
      "Comparison Plot saved as 20190919_1100_ComparisonPlot.png\n",
      "Comparison Plot saved as 20190323_1200_ComparisonPlot.png\n",
      "Comparison Plot saved as 20190619_1300_ComparisonPlot.png\n",
      "Comparison Plot saved as 20190911_1400_ComparisonPlot.png\n",
      "Comparison Plot saved as 20190601_1500_ComparisonPlot.png\n",
      "Comparison Plot saved as 20190101_1600_ComparisonPlot.png\n",
      "Comparison Plot saved as 20190517_1700_ComparisonPlot.png\n",
      "Comparison Plot saved as 20190413_1800_ComparisonPlot.png\n",
      "Comparison Plot saved as 20200305_1900_ComparisonPlot.png\n",
      "Comparison Plot saved as 20190823_2000_ComparisonPlot.png\n",
      "Comparison Plot saved as 20190916_2100_ComparisonPlot.png\n",
      "Comparison Plot saved as 20200218_2200_ComparisonPlot.png\n",
      "Comparison Plot saved as 20190426_2300_ComparisonPlot.png\n"
     ]
    }
   ],
   "source": [
    "ev1.create_evaluation_plots(comparison=True, show=False)"
   ]
  },
  {
   "cell_type": "markdown",
   "id": "listed-african",
   "metadata": {},
   "source": [
    "Alternatively we can specify a list of other projects using their project paths. In that case the data from all those project will be plotted next to the data from the evaluator project from which the method is called as well as the original data."
   ]
  },
  {
   "cell_type": "code",
   "execution_count": 206,
   "id": "joined-seeking",
   "metadata": {},
   "outputs": [
    {
     "name": "stdout",
     "output_type": "stream",
     "text": [
      "Comparison Plot saved as 20190611_0000_ComparisonPlot.png\n",
      "Comparison Plot saved as 20191128_0100_ComparisonPlot.png\n",
      "Comparison Plot saved as 20200611_0200_ComparisonPlot.png\n",
      "Comparison Plot saved as 20200212_0300_ComparisonPlot.png\n",
      "Comparison Plot saved as 20200824_0400_ComparisonPlot.png\n",
      "Comparison Plot saved as 20190212_0500_ComparisonPlot.png\n",
      "Comparison Plot saved as 20191107_0600_ComparisonPlot.png\n",
      "Comparison Plot saved as 20200223_0700_ComparisonPlot.png\n",
      "Comparison Plot saved as 20190619_0800_ComparisonPlot.png\n",
      "Comparison Plot saved as 20200514_0900_ComparisonPlot.png\n",
      "Comparison Plot saved as 20191016_1000_ComparisonPlot.png\n",
      "Comparison Plot saved as 20190919_1100_ComparisonPlot.png\n",
      "Comparison Plot saved as 20190323_1200_ComparisonPlot.png\n",
      "Comparison Plot saved as 20190619_1300_ComparisonPlot.png\n",
      "Comparison Plot saved as 20190911_1400_ComparisonPlot.png\n",
      "Comparison Plot saved as 20190601_1500_ComparisonPlot.png\n",
      "Comparison Plot saved as 20190101_1600_ComparisonPlot.png\n",
      "Comparison Plot saved as 20190517_1700_ComparisonPlot.png\n",
      "Comparison Plot saved as 20190413_1800_ComparisonPlot.png\n",
      "Comparison Plot saved as 20200305_1900_ComparisonPlot.png\n",
      "Comparison Plot saved as 20190823_2000_ComparisonPlot.png\n",
      "Comparison Plot saved as 20190916_2100_ComparisonPlot.png\n",
      "Comparison Plot saved as 20200218_2200_ComparisonPlot.png\n",
      "Comparison Plot saved as 20190426_2300_ComparisonPlot.png\n"
     ]
    }
   ],
   "source": [
    "other_projects = [path_1]\n",
    "titles = [\"Rand. Forest.\", \"Dec. Tree\"]\n",
    "\n",
    "ev2.create_evaluation_plots(comparison=True, cmp_targets=other_projects, plot_titles=titles, show = False)"
   ]
  },
  {
   "cell_type": "markdown",
   "id": "declared-occasion",
   "metadata": {},
   "source": [
    "Finally, using the `probabilities` flag, we can also plot the proability scores of Forest classifers next to their prediction maps and the original data"
   ]
  },
  {
   "cell_type": "code",
   "execution_count": 208,
   "id": "great-johnson",
   "metadata": {},
   "outputs": [
    {
     "name": "stdout",
     "output_type": "stream",
     "text": [
      "Probability Plot saved as 20190611_0000_ProbabilityPlot.png\n",
      "Probability Plot saved as 20191128_0100_ProbabilityPlot.png\n",
      "Probability Plot saved as 20200611_0200_ProbabilityPlot.png\n",
      "Probability Plot saved as 20200212_0300_ProbabilityPlot.png\n",
      "Probability Plot saved as 20200824_0400_ProbabilityPlot.png\n",
      "Probability Plot saved as 20190212_0500_ProbabilityPlot.png\n",
      "Probability Plot saved as 20191107_0600_ProbabilityPlot.png\n",
      "Probability Plot saved as 20200223_0700_ProbabilityPlot.png\n",
      "Probability Plot saved as 20190619_0800_ProbabilityPlot.png\n",
      "Probability Plot saved as 20200514_0900_ProbabilityPlot.png\n",
      "Probability Plot saved as 20191016_1000_ProbabilityPlot.png\n",
      "Probability Plot saved as 20190919_1100_ProbabilityPlot.png\n",
      "Probability Plot saved as 20190323_1200_ProbabilityPlot.png\n",
      "Probability Plot saved as 20190619_1300_ProbabilityPlot.png\n",
      "Probability Plot saved as 20190911_1400_ProbabilityPlot.png\n",
      "Probability Plot saved as 20190601_1500_ProbabilityPlot.png\n",
      "Probability Plot saved as 20190101_1600_ProbabilityPlot.png\n",
      "Probability Plot saved as 20190517_1700_ProbabilityPlot.png\n",
      "Probability Plot saved as 20190413_1800_ProbabilityPlot.png\n",
      "Probability Plot saved as 20200305_1900_ProbabilityPlot.png\n",
      "Probability Plot saved as 20190823_2000_ProbabilityPlot.png\n",
      "Probability Plot saved as 20190916_2100_ProbabilityPlot.png\n",
      "Probability Plot saved as 20200218_2200_ProbabilityPlot.png\n",
      "Probability Plot saved as 20190426_2300_ProbabilityPlot.png\n"
     ]
    }
   ],
   "source": [
    "ev2.create_evaluation_plots(probabilities=True, show=False)"
   ]
  },
  {
   "cell_type": "markdown",
   "id": "ambient-poultry",
   "metadata": {},
   "source": [
    "The plots are saved in accordingly named subfolders in the newly created `plots` folder inside the project folder. "
   ]
  },
  {
   "cell_type": "code",
   "execution_count": 214,
   "id": "twenty-search",
   "metadata": {},
   "outputs": [
    {
     "name": "stderr",
     "output_type": "stream",
     "text": [
      "cat: ../classifiers/combined_types: Is a directory\n",
      "cat: ../classifiers/evaluations: Is a directory\n",
      "cat: ../classifiers/ForestClassifier: Is a directory\n",
      "cat: ../classifiers/NewDecisionTreeClassifier: Is a directory\n",
      "cat: ../classifiers/NewRandomForestClassifier: Is a directory\n",
      "cat: ../classifiers/refined: Is a directory\n",
      "cat: ../classifiers/to_share: Is a directory\n",
      "cat: ../classifiers/TreeClassifier: Is a directory\n",
      "cat: ../classifiers/txt.txt: Is a directory\n",
      "cat: ../classifiers/usable_forest: Is a directory\n",
      "cat: ../classifiers/usable_forest2: Is a directory\n",
      "cat: ../classifiers/usable_tree: Is a directory\n"
     ]
    },
    {
     "ename": "CalledProcessError",
     "evalue": "Command 'b'\\ncat ../classifiers/*\\n'' returned non-zero exit status 1.",
     "output_type": "error",
     "traceback": [
      "\u001b[0;31m---------------------------------------------------------------------------\u001b[0m",
      "\u001b[0;31mCalledProcessError\u001b[0m                        Traceback (most recent call last)",
      "Input \u001b[0;32mIn [214]\u001b[0m, in \u001b[0;36m<cell line: 1>\u001b[0;34m()\u001b[0m\n\u001b[0;32m----> 1\u001b[0m \u001b[43mget_ipython\u001b[49m\u001b[43m(\u001b[49m\u001b[43m)\u001b[49m\u001b[38;5;241;43m.\u001b[39;49m\u001b[43mrun_cell_magic\u001b[49m\u001b[43m(\u001b[49m\u001b[38;5;124;43m'\u001b[39;49m\u001b[38;5;124;43mbash\u001b[39;49m\u001b[38;5;124;43m'\u001b[39;49m\u001b[43m,\u001b[49m\u001b[43m \u001b[49m\u001b[38;5;124;43m'\u001b[39;49m\u001b[38;5;124;43m'\u001b[39;49m\u001b[43m,\u001b[49m\u001b[43m \u001b[49m\u001b[38;5;124;43m'\u001b[39;49m\u001b[38;5;130;43;01m\\n\u001b[39;49;00m\u001b[38;5;124;43mcat ../classifiers/*\u001b[39;49m\u001b[38;5;130;43;01m\\n\u001b[39;49;00m\u001b[38;5;124;43m'\u001b[39;49m\u001b[43m)\u001b[49m\n",
      "File \u001b[0;32m~/.local/share/virtualenvs/CTyPyTool-idbccFiL/lib/python3.8/site-packages/IPython/core/interactiveshell.py:2338\u001b[0m, in \u001b[0;36mInteractiveShell.run_cell_magic\u001b[0;34m(self, magic_name, line, cell)\u001b[0m\n\u001b[1;32m   2336\u001b[0m \u001b[38;5;28;01mwith\u001b[39;00m \u001b[38;5;28mself\u001b[39m\u001b[38;5;241m.\u001b[39mbuiltin_trap:\n\u001b[1;32m   2337\u001b[0m     args \u001b[38;5;241m=\u001b[39m (magic_arg_s, cell)\n\u001b[0;32m-> 2338\u001b[0m     result \u001b[38;5;241m=\u001b[39m \u001b[43mfn\u001b[49m\u001b[43m(\u001b[49m\u001b[38;5;241;43m*\u001b[39;49m\u001b[43margs\u001b[49m\u001b[43m,\u001b[49m\u001b[43m \u001b[49m\u001b[38;5;241;43m*\u001b[39;49m\u001b[38;5;241;43m*\u001b[39;49m\u001b[43mkwargs\u001b[49m\u001b[43m)\u001b[49m\n\u001b[1;32m   2339\u001b[0m \u001b[38;5;28;01mreturn\u001b[39;00m result\n",
      "File \u001b[0;32m~/.local/share/virtualenvs/CTyPyTool-idbccFiL/lib/python3.8/site-packages/IPython/core/magics/script.py:153\u001b[0m, in \u001b[0;36mScriptMagics._make_script_magic.<locals>.named_script_magic\u001b[0;34m(line, cell)\u001b[0m\n\u001b[1;32m    151\u001b[0m \u001b[38;5;28;01melse\u001b[39;00m:\n\u001b[1;32m    152\u001b[0m     line \u001b[38;5;241m=\u001b[39m script\n\u001b[0;32m--> 153\u001b[0m \u001b[38;5;28;01mreturn\u001b[39;00m \u001b[38;5;28;43mself\u001b[39;49m\u001b[38;5;241;43m.\u001b[39;49m\u001b[43mshebang\u001b[49m\u001b[43m(\u001b[49m\u001b[43mline\u001b[49m\u001b[43m,\u001b[49m\u001b[43m \u001b[49m\u001b[43mcell\u001b[49m\u001b[43m)\u001b[49m\n",
      "File \u001b[0;32m~/.local/share/virtualenvs/CTyPyTool-idbccFiL/lib/python3.8/site-packages/IPython/core/magics/script.py:305\u001b[0m, in \u001b[0;36mScriptMagics.shebang\u001b[0;34m(self, line, cell)\u001b[0m\n\u001b[1;32m    300\u001b[0m \u001b[38;5;28;01mif\u001b[39;00m args\u001b[38;5;241m.\u001b[39mraise_error \u001b[38;5;129;01mand\u001b[39;00m p\u001b[38;5;241m.\u001b[39mreturncode \u001b[38;5;241m!=\u001b[39m \u001b[38;5;241m0\u001b[39m:\n\u001b[1;32m    301\u001b[0m     \u001b[38;5;66;03m# If we get here and p.returncode is still None, we must have\u001b[39;00m\n\u001b[1;32m    302\u001b[0m     \u001b[38;5;66;03m# killed it but not yet seen its return code. We don't wait for it,\u001b[39;00m\n\u001b[1;32m    303\u001b[0m     \u001b[38;5;66;03m# in case it's stuck in uninterruptible sleep. -9 = SIGKILL\u001b[39;00m\n\u001b[1;32m    304\u001b[0m     rc \u001b[38;5;241m=\u001b[39m p\u001b[38;5;241m.\u001b[39mreturncode \u001b[38;5;129;01mor\u001b[39;00m \u001b[38;5;241m-\u001b[39m\u001b[38;5;241m9\u001b[39m\n\u001b[0;32m--> 305\u001b[0m     \u001b[38;5;28;01mraise\u001b[39;00m CalledProcessError(rc, cell)\n",
      "\u001b[0;31mCalledProcessError\u001b[0m: Command 'b'\\ncat ../classifiers/*\\n'' returned non-zero exit status 1."
     ]
    }
   ],
   "source": [
    "%%bash\n",
    "\n",
    "cat ../classifiers/*\n"
   ]
  },
  {
   "cell_type": "markdown",
   "id": "municipal-train",
   "metadata": {},
   "source": [
    "It is also possible to perform all above steps in one single function call by setting all parameters simultaneously."
   ]
  }
 ],
 "metadata": {
  "kernelspec": {
   "display_name": "CTyPyTool",
   "language": "python",
   "name": "ctypytool"
  },
  "language_info": {
   "codemirror_mode": {
    "name": "ipython",
    "version": 3
   },
   "file_extension": ".py",
   "mimetype": "text/x-python",
   "name": "python",
   "nbconvert_exporter": "python",
   "pygments_lexer": "ipython3",
   "version": "3.8.10"
  }
 },
 "nbformat": 4,
 "nbformat_minor": 5
}
