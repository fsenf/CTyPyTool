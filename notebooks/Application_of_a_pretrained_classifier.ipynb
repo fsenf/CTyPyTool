{
 "cells": [
  {
   "cell_type": "markdown",
   "id": "dominican-haven",
   "metadata": {},
   "source": [
    "# Application of a Pretrained Classifier\n",
    "\n",
    "The project aims to use maschine learning methods to emulate a cloud classification scheme. The classifer can be trained using large amounts of data and later be used to predict cloud types from satelite data. Those two steps can be run separately. \n",
    "\n",
    "This notebook contains a short explanation how to use a pretrained classifier in order to predict labels from new input data."
   ]
  },
  {
   "cell_type": "markdown",
   "id": "former-stage",
   "metadata": {},
   "source": [
    "## Imports\n",
    "\n",
    "At first we need to point python to the project folder. The path can be assigned as a relative path as shown below, or as an absolute system path.\n",
    "Than the module can be imported via the `import cloud_classifier` command."
   ]
  },
  {
   "cell_type": "code",
   "execution_count": 53,
   "id": "biological-pregnancy",
   "metadata": {},
   "outputs": [
    {
     "data": {
      "text/plain": [
       "<module 'cloud_classifier' from '/home/squidy/tropos/CTyPyTool/notebooks/../cloud_classifier/cloud_classifier.py'>"
      ]
     },
     "execution_count": 53,
     "metadata": {},
     "output_type": "execute_result"
    }
   ],
   "source": [
    "import sys\n",
    "sys.path.append('../cloud_classifier')\n",
    "import cloud_classifier\n",
    "import importlib\n",
    "importlib.reload(cloud_classifier)"
   ]
  },
  {
   "cell_type": "markdown",
   "id": "future-florist",
   "metadata": {},
   "source": [
    "## Initialization\n",
    "Our first step is to create a classifier object:"
   ]
  },
  {
   "cell_type": "code",
   "execution_count": 54,
   "id": "pursuant-network",
   "metadata": {},
   "outputs": [],
   "source": [
    "cc = cloud_classifier.cloud_classifier()"
   ]
  },
  {
   "cell_type": "markdown",
   "id": "clear-argument",
   "metadata": {},
   "source": [
    "Than we need to point our classifier object to an already existing classifier. The `load_project()` method will load an existing classifier into our classifier object."
   ]
  },
  {
   "cell_type": "code",
   "execution_count": 55,
   "id": "second-vault",
   "metadata": {},
   "outputs": [],
   "source": [
    "path = \"../classifiers/TreeClassifier\"\n",
    "cc.load_project(path)"
   ]
  },
  {
   "cell_type": "markdown",
   "id": "stretch-checkout",
   "metadata": {},
   "source": [
    "## Applying the Classifier: Prediction of Cloud Type Labels"
   ]
  },
  {
   "cell_type": "markdown",
   "id": "nominated-intention",
   "metadata": {},
   "source": [
    "### Using a User-Defined File List"
   ]
  },
  {
   "cell_type": "markdown",
   "id": "precise-savannah",
   "metadata": {},
   "source": [
    "In order to predict labels with the now loaded classifier, we need to specify input files of satelite data. This can be done manually via in `input_files` option in the `set_project_parameters` method."
   ]
  },
  {
   "cell_type": "code",
   "execution_count": 56,
   "id": "normal-purple",
   "metadata": {},
   "outputs": [],
   "source": [
    "file_1 = \"../data/example_data/msevi-medi-20190317_1800.nc\"\n",
    "file_2 = \"../data/example_data/msevi-medi-20190318_1100.nc\"\n",
    "\n",
    "cc.set_project_parameters(input_files = [file_1, file_2])"
   ]
  },
  {
   "cell_type": "markdown",
   "id": "grand-comfort",
   "metadata": {},
   "source": [
    "We now run the prediction pipeline (with the `run_prediction_pipeline()` method) which \n",
    "* applies the classifier to our input data and\n",
    "* stores the predicted labels.\n",
    "\n",
    "The option `create_filelist` is set to `False` to take the user-defined input file list."
   ]
  },
  {
   "cell_type": "code",
   "execution_count": 57,
   "id": "corrected-upset",
   "metadata": {},
   "outputs": [
    {
     "name": "stderr",
     "output_type": "stream",
     "text": [
      "/home/squidy/.local/share/virtualenvs/CTyPyTool-idbccFiL/lib/python3.8/site-packages/sklearn/base.py:329: UserWarning: Trying to unpickle estimator DecisionTreeClassifier from version 1.0 when using version 1.0.2. This might lead to breaking code or invalid results. Use at your own risk. For more info please refer to:\n",
      "https://scikit-learn.org/stable/modules/model_persistence.html#security-maintainability-limitations\n",
      "  warnings.warn(\n"
     ]
    },
    {
     "name": "stdout",
     "output_type": "stream",
     "text": [
      "Classifier loaded!\n",
      "Masked indices set!\n",
      "Input vectors created!\n",
      "Labels saved as nwcsaf_msevi-medi-20190317_1800_predicted.nc\n",
      "Input vectors created!\n",
      "Labels saved as nwcsaf_msevi-medi-20190318_1100_predicted.nc\n"
     ]
    }
   ],
   "source": [
    "cc.run_prediction_pipeline(create_filelist = False)"
   ]
  },
  {
   "cell_type": "markdown",
   "id": "closed-reserve",
   "metadata": {},
   "source": [
    "### Using an Automatically Generated Input File List"
   ]
  },
  {
   "cell_type": "markdown",
   "id": "senior-spanish",
   "metadata": {},
   "source": [
    "Alternatively to the manual definition, the input file list can be generated automatically.\n",
    "\n",
    "\n",
    "The easiest way to do so is to put all input files into an input data folder (here it is set to `../data_example_data`) and just tell the classifier where to look via the `input_source_folder` option."
   ]
  },
  {
   "cell_type": "code",
   "execution_count": 58,
   "id": "curious-certificate",
   "metadata": {},
   "outputs": [
    {
     "name": "stdout",
     "output_type": "stream",
     "text": [
      "total 30120\n",
      "-rw-rw-r-- 1 squidy squidy 14946418 Jun  4  2021 msevi-medi-20190317_1800.nc\n",
      "-rw-rw-r-- 1 squidy squidy 15552552 Jun  4  2021 msevi-medi-20190318_1100.nc\n",
      "-rw-rw-r-- 1 squidy squidy   155069 Jun  4  2021 nwcsaf_msevi-medi-20190317_1800.nc\n",
      "-rw-rw-r-- 1 squidy squidy   178946 Jun  4  2021 nwcsaf_msevi-medi-20190318_1100.nc\n"
     ]
    }
   ],
   "source": [
    "%%bash\n",
    "\n",
    "ls -l ../data/example_data"
   ]
  },
  {
   "cell_type": "code",
   "execution_count": 59,
   "id": "democratic-individual",
   "metadata": {},
   "outputs": [],
   "source": [
    "cc.set_project_parameters(input_source_folder = \"../data/example_data\")"
   ]
  },
  {
   "cell_type": "markdown",
   "id": "presidential-budget",
   "metadata": {},
   "source": [
    "In a next step, we can let the classifier predict labels from the input files we have specified.\n",
    "This is again done with the `run_prediction_pipeline()` method.\n",
    "\n",
    "If we want the classifier to automatically generate a list of input files and therefore set the option `create_filelist` to `True`."
   ]
  },
  {
   "cell_type": "code",
   "execution_count": 60,
   "id": "compound-instrument",
   "metadata": {},
   "outputs": [
    {
     "name": "stdout",
     "output_type": "stream",
     "text": [
      "Input filelist created!\n",
      "Classifier loaded!\n",
      "Masked indices set!\n"
     ]
    },
    {
     "name": "stderr",
     "output_type": "stream",
     "text": [
      "/home/squidy/.local/share/virtualenvs/CTyPyTool-idbccFiL/lib/python3.8/site-packages/sklearn/base.py:329: UserWarning: Trying to unpickle estimator DecisionTreeClassifier from version 1.0 when using version 1.0.2. This might lead to breaking code or invalid results. Use at your own risk. For more info please refer to:\n",
      "https://scikit-learn.org/stable/modules/model_persistence.html#security-maintainability-limitations\n",
      "  warnings.warn(\n"
     ]
    },
    {
     "name": "stdout",
     "output_type": "stream",
     "text": [
      "Input vectors created!\n",
      "Labels saved as nwcsaf_msevi-medi-20190318_1100_predicted.nc\n",
      "Input vectors created!\n",
      "Labels saved as nwcsaf_msevi-medi-20190317_1800_predicted.nc\n"
     ]
    }
   ],
   "source": [
    "cc.run_prediction_pipeline(create_filelist = True)"
   ]
  },
  {
   "cell_type": "markdown",
   "id": "mature-fundamentals",
   "metadata": {},
   "source": [
    "## Accessing predicted labels"
   ]
  },
  {
   "cell_type": "markdown",
   "id": "confused-digest",
   "metadata": {},
   "source": [
    "The predicted labels are stored in the folder of the classifier we are using. They are located in the subfolder `labels`."
   ]
  },
  {
   "cell_type": "code",
   "execution_count": 61,
   "id": "joined-seeking",
   "metadata": {},
   "outputs": [
    {
     "name": "stdout",
     "output_type": "stream",
     "text": [
      "nwcsaf_msevi-medi-20190317_1800_predicted.nc\n",
      "nwcsaf_msevi-medi-20190318_1100_predicted.nc\n"
     ]
    }
   ],
   "source": [
    "%%bash\n",
    "\n",
    "ls ../classifiers/TreeClassifier/labels"
   ]
  },
  {
   "cell_type": "code",
   "execution_count": null,
   "id": "great-johnson",
   "metadata": {},
   "outputs": [],
   "source": []
  }
 ],
 "metadata": {
  "kernelspec": {
   "display_name": "CTyPyTool",
   "language": "python",
   "name": "ctypytool"
  },
  "language_info": {
   "codemirror_mode": {
    "name": "ipython",
    "version": 3
   },
   "file_extension": ".py",
   "mimetype": "text/x-python",
   "name": "python",
   "nbconvert_exporter": "python",
   "pygments_lexer": "ipython3",
   "version": "3.8.10"
  }
 },
 "nbformat": 4,
 "nbformat_minor": 5
}
