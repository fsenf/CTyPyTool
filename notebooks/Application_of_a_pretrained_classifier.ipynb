{
 "cells": [
  {
   "cell_type": "markdown",
   "id": "cb8a036d",
   "metadata": {},
   "source": [
    "### Application of a pretrained classifier\n",
    "\n",
    "The project aims to use maschine learning methods in order to predict patterns of clouds over oceans.\n",
    "The classifer can be trained using large amounts of data and later be used to predict cloud types from satelite data. Those two steps can be run seperatly. This notebook contains a short explanation how to use a pretrained classifier in order to predict labels from new input data."
   ]
  },
  {
   "cell_type": "markdown",
   "id": "ca9555d6",
   "metadata": {},
   "source": [
    "##### Imports\n",
    "\n",
    "At first we need to point python to the project folder. The path can be assigned as a relative path as shown below, or as an absolute system path.\n",
    "Than the module can be imported via the `import cloud_classifier` command."
   ]
  },
  {
   "cell_type": "code",
   "execution_count": 1,
   "id": "5e9ec9ce",
   "metadata": {},
   "outputs": [],
   "source": [
    "import sys\n",
    "sys.path.append('../cloud_classifier')\n",
    "import cloud_classifier\n"
   ]
  },
  {
   "cell_type": "markdown",
   "id": "6c266abd",
   "metadata": {},
   "source": [
    "##### Initialization\n",
    "Our first step is to create a classifier object:"
   ]
  },
  {
   "cell_type": "code",
   "execution_count": 2,
   "id": "eeda0e8b",
   "metadata": {},
   "outputs": [],
   "source": [
    "cc = cloud_classifier.cloud_classifier()\n"
   ]
  },
  {
   "cell_type": "markdown",
   "id": "1ba195c3",
   "metadata": {},
   "source": [
    "Than we need to point our classifier object to an already existing classifier. The `load_project()` method will load an existing classifier into our classifier object."
   ]
  },
  {
   "cell_type": "code",
   "execution_count": 3,
   "id": "bcadf557",
   "metadata": {},
   "outputs": [],
   "source": [
    "path = \"../classifiers/ForestClassifier\"\n",
    "cc.load_project(path)\n"
   ]
  },
  {
   "cell_type": "markdown",
   "id": "39d4111d",
   "metadata": {},
   "source": [
    "##### Setting input data path\n",
    "In order to predict labels with the now loaded classifier, we need to specify input files of satelite data.\n",
    "The easiest way to do this is to put all input files into an ordner and just tell the classifier where to look:"
   ]
  },
  {
   "cell_type": "code",
   "execution_count": 4,
   "id": "99e64d1a",
   "metadata": {},
   "outputs": [],
   "source": [
    "cc.set_parameters(input_source_folder = \"../data/example_data\")"
   ]
  },
  {
   "cell_type": "markdown",
   "id": "12c2226c",
   "metadata": {},
   "source": [
    "Alternativly we can specify files manually as shown below."
   ]
  },
  {
   "cell_type": "code",
   "execution_count": 53,
   "id": "879e2ada",
   "metadata": {},
   "outputs": [],
   "source": [
    "file_1 = \"../data/example_data/msevi-medi-20190317_1800.nc\"\n",
    "file_2 = \"../data/example_data/msevi-medi-20190318_1100.nc\"\n",
    "\n",
    "cc.set_project_parameters(input_files = [file_1, file_2])"
   ]
  },
  {
   "cell_type": "markdown",
   "id": "d9813013",
   "metadata": {},
   "source": [
    "##### Prediction"
   ]
  },
  {
   "cell_type": "markdown",
   "id": "d724fc6c",
   "metadata": {},
   "source": [
    "In a next step we can let the classifier predict labels from the input files we have specified.\n",
    "This is done with the `run_prediction_pipeline()` method.\n",
    "\n",
    "If we want the classifier to look for files in a folder we need to set the `create_filelist` flag to `True`"
   ]
  },
  {
   "cell_type": "code",
   "execution_count": 54,
   "id": "6592ca2b",
   "metadata": {},
   "outputs": [
    {
     "name": "stdout",
     "output_type": "stream",
     "text": [
      "Input filelist created!\n",
      "Classifier loaded!\n",
      "Masked indices set!\n",
      "Reference file found\n",
      "Input vectors created!\n",
      "Labels saved as nwcsaf_msevi-medi-20190318_1100_predicted.nc\n",
      "Input vectors created!\n",
      "Labels saved as nwcsaf_msevi-medi-20190317_1800_predicted.nc\n"
     ]
    }
   ],
   "source": [
    "cc.run_prediction_pipeline(create_filelist = True)"
   ]
  },
  {
   "cell_type": "markdown",
   "id": "d6fe7a23",
   "metadata": {},
   "source": [
    "If we have on the other hand specified training data manually its important to set the `create_filelist` flag to `False`, otherwise the classifier will try to generate a filelist from a folder and overwrite the information we have added"
   ]
  },
  {
   "cell_type": "code",
   "execution_count": 112,
   "id": "fdc2d7a9",
   "metadata": {},
   "outputs": [
    {
     "name": "stdout",
     "output_type": "stream",
     "text": [
      "Classifier loaded!\n",
      "Masked indices set!\n",
      "Refernce file found\n",
      "Input vectors created!\n",
      "Predicted Labels!\n",
      "Labels saved as nwcsaf_msevi-medi-20190318_1100_predicted.nc\n",
      "Input vectors created!\n",
      "Predicted Labels!\n",
      "Labels saved as nwcsaf_msevi-medi-20190317_1800_predicted.nc\n"
     ]
    }
   ],
   "source": [
    "cc.run_prediction_pipeline(create_filelist = False)"
   ]
  },
  {
   "cell_type": "markdown",
   "id": "0f0a0715",
   "metadata": {},
   "source": [
    "#### Accessing predicted labels\n",
    "The predicted labels are stored in the folder of the classifier we are using. They are located in the subfolder `labels`."
   ]
  },
  {
   "cell_type": "code",
   "execution_count": null,
   "id": "1def5f4c",
   "metadata": {},
   "outputs": [],
   "source": []
  }
 ],
 "metadata": {
  "kernelspec": {
   "display_name": "tropos-Ssyp9URO",
   "language": "python",
   "name": "tropos-ssyp9uro"
  },
  "language_info": {
   "codemirror_mode": {
    "name": "ipython",
    "version": 3
   },
   "file_extension": ".py",
   "mimetype": "text/x-python",
   "name": "python",
   "nbconvert_exporter": "python",
   "pygments_lexer": "ipython3",
   "version": "3.8.10"
  }
 },
 "nbformat": 4,
 "nbformat_minor": 5
}
